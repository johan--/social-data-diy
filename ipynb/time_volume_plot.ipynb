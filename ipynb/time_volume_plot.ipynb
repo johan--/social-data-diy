{
 "cells": [
  {
   "cell_type": "code",
   "execution_count": 1,
   "metadata": {
    "collapsed": false
   },
   "outputs": [],
   "source": [
    "import pandas as pd\n",
    "import json,csv,re,os,sys,glob\n",
    "import matplotlib.pyplot as plt\n",
    "%matplotlib inline"
   ]
  },
  {
   "cell_type": "code",
   "execution_count": 2,
   "metadata": {
    "collapsed": false
   },
   "outputs": [],
   "source": [
    "import numpy as np"
   ]
  },
  {
   "cell_type": "code",
   "execution_count": 55,
   "metadata": {
    "collapsed": false
   },
   "outputs": [],
   "source": [
    "times=[]\n",
    "content=[]\n",
    "topics=[]\n",
    "\n",
    "for f in glob.glob('../data/2014-06/Data*json')[0:50]:\n",
    "    for line in open(f,'r').read().decode('utf-8').split('\\n'):\n",
    "        tweet=json.loads(line)\n",
    "        \n",
    "        try:\n",
    "            times.append(tweet['interaction']['created_at'])\n",
    "        except:\n",
    "            times.append('NaN')\n",
    "            \n",
    "        try:\n",
    "            content.append(tweet['interaction']['content'].encode('utf-8'))\n",
    "        except:\n",
    "            content.append('NaN')\n",
    "            \n",
    "        try:\n",
    "            topics.append(tweet['interaction']['tag_tree']['topic'][0])\n",
    "        except:\n",
    "            topics.append('NaN')"
   ]
  },
  {
   "cell_type": "code",
   "execution_count": 5,
   "metadata": {
    "collapsed": false
   },
   "outputs": [],
   "source": [
    "outFile=csv.writer(open('times_file.csv','w'),delimiter='\\t')\n",
    "for a,b,c in zip(times,content,topics):\n",
    "    outFile.writerow([a,b,c])"
   ]
  },
  {
   "cell_type": "code",
   "execution_count": 6,
   "metadata": {
    "collapsed": false
   },
   "outputs": [],
   "source": [
    "df=pd.read_csv('times_file.csv',parse_dates=True,header=False,index_col=0,delimiter='\\t',names=['content','topics'])"
   ]
  },
  {
   "cell_type": "code",
   "execution_count": 91,
   "metadata": {
    "collapsed": false
   },
   "outputs": [],
   "source": [
    "series=pd.Series(data=topics,index=times)\n",
    "#df=pd.DataFrame(data={'topic':topics},index=pd.to_datetime(times))"
   ]
  },
  {
   "cell_type": "code",
   "execution_count": 7,
   "metadata": {
    "collapsed": false
   },
   "outputs": [
    {
     "data": {
      "text/html": [
       "<div style=\"max-height:1000px;max-width:1500px;overflow:auto;\">\n",
       "<table border=\"1\" class=\"dataframe\">\n",
       "  <thead>\n",
       "    <tr style=\"text-align: right;\">\n",
       "      <th></th>\n",
       "      <th>content</th>\n",
       "      <th>topics</th>\n",
       "    </tr>\n",
       "  </thead>\n",
       "  <tbody>\n",
       "    <tr>\n",
       "      <th>2014-06-08 00:28:35</th>\n",
       "      <td> 7 Reasons America Should Succeed On Climate Ch...</td>\n",
       "      <td>           General</td>\n",
       "    </tr>\n",
       "    <tr>\n",
       "      <th>2014-06-08 02:03:23</th>\n",
       "      <td> 9 Political #Cartoons That Put #ClimateChange ...</td>\n",
       "      <td>               NaN</td>\n",
       "    </tr>\n",
       "    <tr>\n",
       "      <th>2014-06-08 00:11:24</th>\n",
       "      <td> RT @CFAware: There is a concern that people wi...</td>\n",
       "      <td> PoliticsBehaviour</td>\n",
       "    </tr>\n",
       "    <tr>\n",
       "      <th>2014-06-08 05:20:05</th>\n",
       "      <td> RT @washingtonpost: This map from 1893 explain...</td>\n",
       "      <td>           General</td>\n",
       "    </tr>\n",
       "    <tr>\n",
       "      <th>2014-06-08 01:50:59</th>\n",
       "      <td> RT @RealBobbyHooper: Who wants to drink, smoke...</td>\n",
       "      <td>            Energy</td>\n",
       "    </tr>\n",
       "  </tbody>\n",
       "</table>\n",
       "</div>"
      ],
      "text/plain": [
       "                                                               content  \\\n",
       "2014-06-08 00:28:35  7 Reasons America Should Succeed On Climate Ch...   \n",
       "2014-06-08 02:03:23  9 Political #Cartoons That Put #ClimateChange ...   \n",
       "2014-06-08 00:11:24  RT @CFAware: There is a concern that people wi...   \n",
       "2014-06-08 05:20:05  RT @washingtonpost: This map from 1893 explain...   \n",
       "2014-06-08 01:50:59  RT @RealBobbyHooper: Who wants to drink, smoke...   \n",
       "\n",
       "                                topics  \n",
       "2014-06-08 00:28:35            General  \n",
       "2014-06-08 02:03:23                NaN  \n",
       "2014-06-08 00:11:24  PoliticsBehaviour  \n",
       "2014-06-08 05:20:05            General  \n",
       "2014-06-08 01:50:59             Energy  "
      ]
     },
     "execution_count": 7,
     "metadata": {},
     "output_type": "execute_result"
    }
   ],
   "source": [
    "df.head()"
   ]
  },
  {
   "cell_type": "code",
   "execution_count": 41,
   "metadata": {
    "collapsed": false
   },
   "outputs": [
    {
     "data": {
      "image/png": "[encoded data removed]",
      "text/plain": [
       "<matplotlib.figure.Figure at 0x7f52055f9fd0>"
      ]
     },
     "metadata": {},
     "output_type": "display_data"
    }
   ],
   "source": [
    "for a,b in df.groupby('topics'):\n",
    "    b.resample('D',how='count')['content'].plot(label=a,legend=True,figsize=(20,10),logy=False)\n",
    "#    print type(b)"
   ]
  },
  {
   "cell_type": "code",
   "execution_count": 13,
   "metadata": {
    "collapsed": false
   },
   "outputs": [
    {
     "data": {
      "text/plain": [
       "pandas.core.series.Series"
      ]
     },
     "execution_count": 13,
     "metadata": {},
     "output_type": "execute_result"
    }
   ],
   "source": [
    "b.resample('D',how='count')['content']\n",
    "type(b.resample('D',how='count')['content'])"
   ]
  },
  {
   "cell_type": "code",
   "execution_count": 17,
   "metadata": {
    "collapsed": false
   },
   "outputs": [
    {
     "data": {
      "text/plain": [
       "2014-06-05    14\n",
       "2014-06-06     0\n",
       "2014-06-07     0\n",
       "2014-06-08    16\n",
       "2014-06-09     0\n",
       "2014-06-10     0\n",
       "2014-06-11    22\n",
       "2014-06-12     0\n",
       "2014-06-13     0\n",
       "2014-06-14     2\n",
       "2014-06-15     0\n",
       "2014-06-16     0\n",
       "2014-06-17    12\n",
       "Freq: D, Name: content, dtype: int64"
      ]
     },
     "execution_count": 17,
     "metadata": {},
     "output_type": "execute_result"
    }
   ],
   "source": [
    "b.resample('D',how='count')['content']+b.resample('D',how='count')['content']\n",
    "#print '----------'\n",
    "#b.resample('D',how='count')['content']"
   ]
  },
  {
   "cell_type": "code",
   "execution_count": 39,
   "metadata": {
    "collapsed": false
   },
   "outputs": [
    {
     "data": {
      "text/plain": [
       "2014-06-05    14\n",
       "2014-06-06     0\n",
       "2014-06-07     0\n",
       "2014-06-08    16\n",
       "2014-06-09     0\n",
       "2014-06-10     0\n",
       "2014-06-11    22\n",
       "2014-06-12     0\n",
       "2014-06-13     0\n",
       "2014-06-14     2\n",
       "2014-06-15     0\n",
       "2014-06-16     0\n",
       "2014-06-17    12\n",
       "Freq: D, Name: content, dtype: int64"
      ]
     },
     "execution_count": 39,
     "metadata": {},
     "output_type": "execute_result"
    }
   ],
   "source": [
    "bSeries=b.resample('D',how='count')['content']\n",
    "#bSeries.combine(bSeries,func=lambda x,y:x+y,fill_value=0)\n",
    "bSeries.add(bSeries)\n",
    "#bSeries"
   ]
  },
  {
   "cell_type": "code",
   "execution_count": 25,
   "metadata": {
    "collapsed": false
   },
   "outputs": [],
   "source": [
    "?bSeries.combine"
   ]
  },
  {
   "cell_type": "code",
   "execution_count": 44,
   "metadata": {
    "collapsed": false
   },
   "outputs": [],
   "source": [
    "a=df.groupby('topics')"
   ]
  },
  {
   "cell_type": "code",
   "execution_count": 53,
   "metadata": {
    "collapsed": false
   },
   "outputs": [],
   "source": [
    "pd.set_option('display.max_columns',1000)\n",
    "pd.set_option('display.width',1000)\n",
    "pd.set_option('display.max_colwidth',800)"
   ]
  },
  {
   "cell_type": "code",
   "execution_count": 52,
   "metadata": {
    "collapsed": false
   },
   "outputs": [],
   "source": [
    "?pd.set_option"
   ]
  },
  {
   "cell_type": "code",
   "execution_count": 54,
   "metadata": {
    "collapsed": false
   },
   "outputs": [
    {
     "data": {
      "text/html": [
       "<div style=\"max-height:1000px;max-width:1500px;overflow:auto;\">\n",
       "<table border=\"1\" class=\"dataframe\">\n",
       "  <thead>\n",
       "    <tr style=\"text-align: right;\">\n",
       "      <th></th>\n",
       "      <th></th>\n",
       "      <th>content</th>\n",
       "    </tr>\n",
       "    <tr>\n",
       "      <th>topics</th>\n",
       "      <th></th>\n",
       "      <th></th>\n",
       "    </tr>\n",
       "  </thead>\n",
       "  <tbody>\n",
       "    <tr>\n",
       "      <th rowspan=\"4\" valign=\"top\">AgricultureForesty</th>\n",
       "      <th>count</th>\n",
       "      <td>                                                                                                                                                            28</td>\n",
       "    </tr>\n",
       "    <tr>\n",
       "      <th>unique</th>\n",
       "      <td>                                                                                                                                                            28</td>\n",
       "    </tr>\n",
       "    <tr>\n",
       "      <th>top</th>\n",
       "      <td>               RT @InWinC: great discount http://t.co/usxfoRIfMs #gifts #giveaway #sundayfunday #environment #eco #birthdays #CHRISTMAS http://t.co/CCHbowf6Zw</td>\n",
       "    </tr>\n",
       "    <tr>\n",
       "      <th>freq</th>\n",
       "      <td>                                                                                                                                                             1</td>\n",
       "    </tr>\n",
       "    <tr>\n",
       "      <th rowspan=\"4\" valign=\"top\">Arctic</th>\n",
       "      <th>count</th>\n",
       "      <td>                                                                                                                                                            35</td>\n",
       "    </tr>\n",
       "    <tr>\n",
       "      <th>unique</th>\n",
       "      <td>                                                                                                                                                            34</td>\n",
       "    </tr>\n",
       "    <tr>\n",
       "      <th>top</th>\n",
       "      <td>        RT @NASA_EO: Ponds predict Arctic sea-ice melt http://t.co/P2iCJWo12w http://t.co/a5LicRSe9w Background: http://t.co/Xwn4ssRNaH http://t.co/4frU2DmpE6</td>\n",
       "    </tr>\n",
       "    <tr>\n",
       "      <th>freq</th>\n",
       "      <td>                                                                                                                                                             2</td>\n",
       "    </tr>\n",
       "    <tr>\n",
       "      <th rowspan=\"4\" valign=\"top\">Carbon</th>\n",
       "      <th>count</th>\n",
       "      <td>                                                                                                                                                           266</td>\n",
       "    </tr>\n",
       "    <tr>\n",
       "      <th>unique</th>\n",
       "      <td>                                                                                                                                                           232</td>\n",
       "    </tr>\n",
       "    <tr>\n",
       "      <th>top</th>\n",
       "      <td>                    RT @richardbranson: How can we reduce carbon footprint? Renewable jet fuel commercialisation http://t.co/bU5BSvTjvv http://t.co/fAoWuVvzGU</td>\n",
       "    </tr>\n",
       "    <tr>\n",
       "      <th>freq</th>\n",
       "      <td>                                                                                                                                                             8</td>\n",
       "    </tr>\n",
       "    <tr>\n",
       "      <th rowspan=\"4\" valign=\"top\">Disaster</th>\n",
       "      <th>count</th>\n",
       "      <td>                                                                                                                                                            43</td>\n",
       "    </tr>\n",
       "    <tr>\n",
       "      <th>unique</th>\n",
       "      <td>                                                                                                                                                            42</td>\n",
       "    </tr>\n",
       "    <tr>\n",
       "      <th>top</th>\n",
       "      <td>           RT @Omniclimate: Afghanistan-Flood Kills More Than 100 In Afghanistan #auspol #climateimpacts #climate #flood #Afghanistan - http://t.co/SneSJjaRxz</td>\n",
       "    </tr>\n",
       "    <tr>\n",
       "      <th>freq</th>\n",
       "      <td>                                                                                                                                                             2</td>\n",
       "    </tr>\n",
       "    <tr>\n",
       "      <th rowspan=\"4\" valign=\"top\">EconomicsBusiness</th>\n",
       "      <th>count</th>\n",
       "      <td>                                                                                                                                                            65</td>\n",
       "    </tr>\n",
       "    <tr>\n",
       "      <th>unique</th>\n",
       "      <td>                                                                                                                                                            58</td>\n",
       "    </tr>\n",
       "    <tr>\n",
       "      <th>top</th>\n",
       "      <td>                                       RT @iMariaJohnsen: Avoid Glorifying Sycophant People in the Work Environment http://t.co/OoGg5GcDoK #HR #work #business</td>\n",
       "    </tr>\n",
       "    <tr>\n",
       "      <th>freq</th>\n",
       "      <td>                                                                                                                                                             5</td>\n",
       "    </tr>\n",
       "    <tr>\n",
       "      <th rowspan=\"4\" valign=\"top\">Energy</th>\n",
       "      <th>count</th>\n",
       "      <td>                                                                                                                                                            55</td>\n",
       "    </tr>\n",
       "    <tr>\n",
       "      <th>unique</th>\n",
       "      <td>                                                                                                                                                            52</td>\n",
       "    </tr>\n",
       "    <tr>\n",
       "      <th>top</th>\n",
       "      <td>               RT @NASA: Our next launch takes on CO2. #OCO2 briefing 6/12 2pET. http://t.co/ANi9i2W5Uz http://t.co/I7JZEJZHfG #climate http://t.co/SnE6Qsu4ea</td>\n",
       "    </tr>\n",
       "    <tr>\n",
       "      <th>freq</th>\n",
       "      <td>                                                                                                                                                             3</td>\n",
       "    </tr>\n",
       "    <tr>\n",
       "      <th rowspan=\"4\" valign=\"top\">General</th>\n",
       "      <th>count</th>\n",
       "      <td>                                                                                                                                                          2066</td>\n",
       "    </tr>\n",
       "    <tr>\n",
       "      <th>unique</th>\n",
       "      <td>                                                                                                                                                          1770</td>\n",
       "    </tr>\n",
       "    <tr>\n",
       "      <th>top</th>\n",
       "      <td>                                                                                     RT @Fascinatingpics: Please Stop Global Warming... http://t.co/BGfWKv9tI8</td>\n",
       "    </tr>\n",
       "    <tr>\n",
       "      <th>freq</th>\n",
       "      <td>                                                                                                                                                            58</td>\n",
       "    </tr>\n",
       "    <tr>\n",
       "      <th rowspan=\"4\" valign=\"top\">Oceans/Water</th>\n",
       "      <th>count</th>\n",
       "      <td>                                                                                                                                                            21</td>\n",
       "    </tr>\n",
       "    <tr>\n",
       "      <th>unique</th>\n",
       "      <td>                                                                                                                                                            21</td>\n",
       "    </tr>\n",
       "    <tr>\n",
       "      <th>top</th>\n",
       "      <td>                                                                                                   Micro-Climate\\nDowntown SF : Sunny \\nOcean Beach SF : Foggy</td>\n",
       "    </tr>\n",
       "    <tr>\n",
       "      <th>freq</th>\n",
       "      <td>                                                                                                                                                             1</td>\n",
       "    </tr>\n",
       "    <tr>\n",
       "      <th rowspan=\"4\" valign=\"top\">PoliticsBehaviour</th>\n",
       "      <th>count</th>\n",
       "      <td>                                                                                                                                                          1192</td>\n",
       "    </tr>\n",
       "    <tr>\n",
       "      <th>unique</th>\n",
       "      <td>                                                                                                                                                          1024</td>\n",
       "    </tr>\n",
       "    <tr>\n",
       "      <th>top</th>\n",
       "      <td>                             RT @DalaiLama: We need to consider how our actions affect wildlife and the environment, and how they are likely to affect others.</td>\n",
       "    </tr>\n",
       "    <tr>\n",
       "      <th>freq</th>\n",
       "      <td>                                                                                                                                                            52</td>\n",
       "    </tr>\n",
       "    <tr>\n",
       "      <th rowspan=\"4\" valign=\"top\">Risk</th>\n",
       "      <th>count</th>\n",
       "      <td>                                                                                                                                                           226</td>\n",
       "    </tr>\n",
       "    <tr>\n",
       "      <th>unique</th>\n",
       "      <td>                                                                                                                                                           206</td>\n",
       "    </tr>\n",
       "    <tr>\n",
       "      <th>top</th>\n",
       "      <td> RT @davidplouffe: As economy heals, wars end, bold climate steps are taken and millions have health care, grateful to all those who helped elect @BarackObama</td>\n",
       "    </tr>\n",
       "    <tr>\n",
       "      <th>freq</th>\n",
       "      <td>                                                                                                                                                             7</td>\n",
       "    </tr>\n",
       "    <tr>\n",
       "      <th rowspan=\"4\" valign=\"top\">Weather</th>\n",
       "      <th>count</th>\n",
       "      <td>                                                                                                                                                            33</td>\n",
       "    </tr>\n",
       "    <tr>\n",
       "      <th>unique</th>\n",
       "      <td>                                                                                                                                                            33</td>\n",
       "    </tr>\n",
       "    <tr>\n",
       "      <th>top</th>\n",
       "      <td>                  @wattsupwiththat @bushido02 was a climate victim 2day - dethatched my lawn in 87 degrees with 73% humidity - melted into a lump on the floor</td>\n",
       "    </tr>\n",
       "    <tr>\n",
       "      <th>freq</th>\n",
       "      <td>                                                                                                                                                             1</td>\n",
       "    </tr>\n",
       "  </tbody>\n",
       "</table>\n",
       "</div>"
      ],
      "text/plain": [
       "                                                                                                                                                                                 content\n",
       "topics                                                                                                                                                                                  \n",
       "AgricultureForesty count                                                                                                                                                              28\n",
       "                   unique                                                                                                                                                             28\n",
       "                   top                   RT @InWinC: great discount http://t.co/usxfoRIfMs #gifts #giveaway #sundayfunday #environment #eco #birthdays #CHRISTMAS http://t.co/CCHbowf6Zw\n",
       "                   freq                                                                                                                                                                1\n",
       "Arctic             count                                                                                                                                                              35\n",
       "                   unique                                                                                                                                                             34\n",
       "                   top            RT @NASA_EO: Ponds predict Arctic sea-ice melt http://t.co/P2iCJWo12w http://t.co/a5LicRSe9w Background: http://t.co/Xwn4ssRNaH http://t.co/4frU2DmpE6\n",
       "                   freq                                                                                                                                                                2\n",
       "Carbon             count                                                                                                                                                             266\n",
       "                   unique                                                                                                                                                            232\n",
       "                   top                        RT @richardbranson: How can we reduce carbon footprint? Renewable jet fuel commercialisation http://t.co/bU5BSvTjvv http://t.co/fAoWuVvzGU\n",
       "                   freq                                                                                                                                                                8\n",
       "Disaster           count                                                                                                                                                              43\n",
       "                   unique                                                                                                                                                             42\n",
       "                   top               RT @Omniclimate: Afghanistan-Flood Kills More Than 100 In Afghanistan #auspol #climateimpacts #climate #flood #Afghanistan - http://t.co/SneSJjaRxz\n",
       "                   freq                                                                                                                                                                2\n",
       "EconomicsBusiness  count                                                                                                                                                              65\n",
       "                   unique                                                                                                                                                             58\n",
       "                   top                                           RT @iMariaJohnsen: Avoid Glorifying Sycophant People in the Work Environment http://t.co/OoGg5GcDoK #HR #work #business\n",
       "                   freq                                                                                                                                                                5\n",
       "Energy             count                                                                                                                                                              55\n",
       "                   unique                                                                                                                                                             52\n",
       "                   top                   RT @NASA: Our next launch takes on CO2. #OCO2 briefing 6/12 2pET. http://t.co/ANi9i2W5Uz http://t.co/I7JZEJZHfG #climate http://t.co/SnE6Qsu4ea\n",
       "                   freq                                                                                                                                                                3\n",
       "General            count                                                                                                                                                            2066\n",
       "                   unique                                                                                                                                                           1770\n",
       "                   top                                                                                         RT @Fascinatingpics: Please Stop Global Warming... http://t.co/BGfWKv9tI8\n",
       "                   freq                                                                                                                                                               58\n",
       "Oceans/Water       count                                                                                                                                                              21\n",
       "                   unique                                                                                                                                                             21\n",
       "                   top                                                                                                       Micro-Climate\\nDowntown SF : Sunny \\nOcean Beach SF : Foggy\n",
       "                   freq                                                                                                                                                                1\n",
       "PoliticsBehaviour  count                                                                                                                                                            1192\n",
       "                   unique                                                                                                                                                           1024\n",
       "                   top                                 RT @DalaiLama: We need to consider how our actions affect wildlife and the environment, and how they are likely to affect others.\n",
       "                   freq                                                                                                                                                               52\n",
       "Risk               count                                                                                                                                                             226\n",
       "                   unique                                                                                                                                                            206\n",
       "                   top     RT @davidplouffe: As economy heals, wars end, bold climate steps are taken and millions have health care, grateful to all those who helped elect @BarackObama\n",
       "                   freq                                                                                                                                                                7\n",
       "Weather            count                                                                                                                                                              33\n",
       "                   unique                                                                                                                                                             33\n",
       "                   top                      @wattsupwiththat @bushido02 was a climate victim 2day - dethatched my lawn in 87 degrees with 73% humidity - melted into a lump on the floor\n",
       "                   freq                                                                                                                                                                1"
      ]
     },
     "execution_count": 54,
     "metadata": {},
     "output_type": "execute_result"
    }
   ],
   "source": [
    "a.describe()"
   ]
  },
  {
   "cell_type": "code",
   "execution_count": 1,
   "metadata": {
    "collapsed": false
   },
   "outputs": [
    {
     "data": {
      "text/html": [
       "<style>\n",
       "@import url(https://fonts.googleapis.com/css?family=Roboto+Slab:400,100);\n",
       "@import url(https://fonts.googleapis.com/css?family=Roboto+Mono:300);\n",
       "\n",
       "body{\n",
       "  font-family: \"Helvetica\", \"Helvetica Neue\", sans-serif;\n",
       "}\n",
       "\n",
       "#notebook {\n",
       "  font-size: 1.1em !important;\n",
       "  font-weight: 100;\n",
       "}\n",
       "\n",
       "a {\n",
       "\tcolor: #138331;\n",
       "}\n",
       "\n",
       "h1, h2, h3, h4, h5 {\n",
       "  font-family: \"Roboto Slab\", sans-serif;\n",
       "  font-weight: 100 !important;\n",
       "}\n",
       "\n",
       ".CodeMirror{\n",
       "  font-family: \"Roboto Mono\", monospace;\n",
       "  font-weight: 300;\n",
       "}\n",
       "\n",
       "div.prompt{\n",
       "  font-family: \"Roboto Mono\", monospace;\n",
       "  font-weight: 300;\n",
       "}\n",
       "\n",
       "</style>\n"
      ],
      "text/plain": [
       "<IPython.core.display.HTML object>"
      ]
     },
     "execution_count": 1,
     "metadata": {},
     "output_type": "execute_result"
    }
   ],
   "source": [
    "from IPython.core.display import HTML\n",
    "styles = open(\"../css/custom.css\", \"r\").read()\n",
    "HTML(styles)"
   ]
  },
  {
   "cell_type": "code",
   "execution_count": null,
   "metadata": {
    "collapsed": false
   },
   "outputs": [],
   "source": []
  }
 ],
 "metadata": {
  "kernelspec": {
   "display_name": "Python 2",
   "language": "python",
   "name": "python2"
  },
  "language_info": {
   "codemirror_mode": {
    "name": "ipython",
    "version": 2
   },
   "file_extension": ".py",
   "mimetype": "text/x-python",
   "name": "python",
   "nbconvert_exporter": "python",
   "pygments_lexer": "ipython2",
   "version": "2.7.10"
  }
 },
 "nbformat": 4,
 "nbformat_minor": 0
}
