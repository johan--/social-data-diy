{
 "cells": [
  {
   "cell_type": "code",
   "execution_count": 1,
   "metadata": {
    "collapsed": false
   },
   "outputs": [],
   "source": [
    "import pandas as pd\n",
    "pd.set_option('display.max_columns',500)\n",
    "import csv,re,sys,os,glob,json,operator\n",
    "import collections"
   ]
  },
  {
   "cell_type": "code",
   "execution_count": 2,
   "metadata": {
    "collapsed": false
   },
   "outputs": [],
   "source": [
    "class tweets(object):\n",
    "    def __iter__(self):\n",
    "        for f in glob.glob('../data/2014-*/*json')[0:10]:\n",
    "            for line in open(f,'r').read().decode('utf-8').split('\\n'):\n",
    "                tweet=json.loads(line)\n",
    "                yield tweet['interaction']['content'].replace('\\n',' ').lower()"
   ]
  },
  {
   "cell_type": "code",
   "execution_count": 3,
   "metadata": {
    "collapsed": false
   },
   "outputs": [],
   "source": [
    "import nltk as nltk\n",
    "stopWords = nltk.corpus.stopwords.words('english')"
   ]
  },
  {
   "cell_type": "code",
   "execution_count": 4,
   "metadata": {
    "collapsed": false
   },
   "outputs": [],
   "source": [
    "stopWords.extend([\"rt\", \"don't\", \"via\", \"ht\", \"mt\"])"
   ]
  },
  {
   "cell_type": "code",
   "execution_count": 5,
   "metadata": {
    "collapsed": false
   },
   "outputs": [],
   "source": [
    "tweetStream=tweets()\n",
    "unigramCounter=collections.defaultdict(int)\n",
    "bigramCounter=collections.defaultdict(int)\n",
    "\n",
    "for t in tweetStream:\n",
    "    toks= t.split(' ')\n",
    "    for t in [t for t in toks if not t in stopWords]:\n",
    "        unigramCounter[t]+=1"
   ]
  },
  {
   "cell_type": "code",
   "execution_count": 6,
   "metadata": {
    "collapsed": false
   },
   "outputs": [],
   "source": [
    "sortedUnigramCounter = sorted(unigramCounter.iteritems(), key=operator.itemgetter(1))"
   ]
  },
  {
   "cell_type": "code",
   "execution_count": 7,
   "metadata": {
    "collapsed": false
   },
   "outputs": [
    {
     "name": "stdout",
     "output_type": "stream",
     "text": [
      "#environment 616\n",
      "water 667\n",
      "new 681\n",
      "ebola. 684\n",
      "#climatechange 908\n",
      "change. 913\n",
      "warming 1094\n",
      "#climate 1182\n",
      "&amp; 1186\n",
      "environment 1193\n",
      "everyone: 1194\n",
      "freak 1199\n",
      "scientists: 1204\n",
      "carbon 1232\n",
      "- 1493\n",
      "drought 1707\n",
      "global 1844\n",
      "change 1949\n",
      " 3631\n",
      "climate 4422\n"
     ]
    }
   ],
   "source": [
    "for s in sortedUnigramCounter[-20:]:\n",
    "    print s[0],s[1]"
   ]
  },
  {
   "cell_type": "code",
   "execution_count": 12,
   "metadata": {
    "collapsed": false
   },
   "outputs": [],
   "source": [
    "class tweets(object):\n",
    "    def __iter__(self):\n",
    "        for f in glob.glob('../data/2014-*/*json')[0:10]:\n",
    "            for line in open(f,'r').read().decode('utf-8').split('\\n'):\n",
    "                tweet=json.loads(line)\n",
    "                yield tweet['interaction']['content'].replace('\\n',' ').lower()"
   ]
  },
  {
   "cell_type": "code",
   "execution_count": 20,
   "metadata": {
    "collapsed": false
   },
   "outputs": [
    {
     "name": "stdout",
     "output_type": "stream",
     "text": [
      "We have 16811 tweets\n"
     ]
    }
   ],
   "source": [
    "tweets=[]\n",
    "for file in glob.glob('../data/2014-*/*json')[0:10]:\n",
    "# Cycle through files\n",
    "    fileString=open(file,'r').read().decode('utf-8')\n",
    "    # Read file as one long string and convert to unicode\n",
    "    fileTweets=[json.loads(line) for line in fileString.split('\\n')]\n",
    "    # Split into lines and load as JSON\n",
    "    tweets.extend(fileTweets)\n",
    "    # Add list of tweets from file to global list\n",
    "print('We have %d tweets' % len(tweets))"
   ]
  },
  {
   "cell_type": "code",
   "execution_count": 32,
   "metadata": {
    "collapsed": false
   },
   "outputs": [
    {
     "name": "stdout",
     "output_type": "stream",
     "text": [
      "16811\n"
     ]
    }
   ],
   "source": [
    "nDocumentsError=0\n",
    "\n",
    "documents=[]\n",
    "\n",
    "for tweet in tweets:\n",
    "  try:\n",
    "    documents.append([tweet['interaction']['content']].encode('utf-8'))\n",
    "  except:\n",
    "    documents.append('NaN')\n",
    "    nDocumentsError+=1\n",
    "    \n",
    "print nDocumentsError"
   ]
  },
  {
   "cell_type": "code",
   "execution_count": 22,
   "metadata": {
    "collapsed": false
   },
   "outputs": [
    {
     "ename": "TypeError",
     "evalue": "expected string or buffer",
     "output_type": "error",
     "traceback": [
      "\u001b[1;31m---------------------------------------------------------------------------\u001b[0m\n\u001b[1;31mTypeError\u001b[0m                                 Traceback (most recent call last)",
      "\u001b[1;32m<ipython-input-22-19755f9046b4>\u001b[0m in \u001b[0;36m<module>\u001b[1;34m()\u001b[0m\n\u001b[1;32m----> 1\u001b[1;33m \u001b[0mtokens\u001b[0m \u001b[1;33m=\u001b[0m \u001b[0mnltk\u001b[0m\u001b[1;33m.\u001b[0m\u001b[0mword_tokenize\u001b[0m\u001b[1;33m(\u001b[0m\u001b[0mdocuments\u001b[0m\u001b[1;33m)\u001b[0m\u001b[1;33m\u001b[0m\u001b[0m\n\u001b[0m",
      "\u001b[1;32m/home/ubuntu/anaconda/lib/python2.7/site-packages/nltk/tokenize/__init__.pyc\u001b[0m in \u001b[0;36mword_tokenize\u001b[1;34m(text)\u001b[0m\n\u001b[0;32m     85\u001b[0m     \u001b[0mThis\u001b[0m \u001b[0mtokenizer\u001b[0m \u001b[1;32mis\u001b[0m \u001b[0mdesigned\u001b[0m \u001b[0mto\u001b[0m \u001b[0mwork\u001b[0m \u001b[0mon\u001b[0m \u001b[0ma\u001b[0m \u001b[0msentence\u001b[0m \u001b[0mat\u001b[0m \u001b[0ma\u001b[0m \u001b[0mtime\u001b[0m\u001b[1;33m.\u001b[0m\u001b[1;33m\u001b[0m\u001b[0m\n\u001b[0;32m     86\u001b[0m     \"\"\"\n\u001b[1;32m---> 87\u001b[1;33m     \u001b[1;32mreturn\u001b[0m \u001b[0m_word_tokenize\u001b[0m\u001b[1;33m(\u001b[0m\u001b[0mtext\u001b[0m\u001b[1;33m)\u001b[0m\u001b[1;33m\u001b[0m\u001b[0m\n\u001b[0m\u001b[0;32m     88\u001b[0m \u001b[1;33m\u001b[0m\u001b[0m\n\u001b[0;32m     89\u001b[0m \u001b[1;33m\u001b[0m\u001b[0m\n",
      "\u001b[1;32m/home/ubuntu/anaconda/lib/python2.7/site-packages/nltk/tokenize/treebank.pyc\u001b[0m in \u001b[0;36mtokenize\u001b[1;34m(self, text)\u001b[0m\n\u001b[0;32m     65\u001b[0m     \u001b[1;32mdef\u001b[0m \u001b[0mtokenize\u001b[0m\u001b[1;33m(\u001b[0m\u001b[0mself\u001b[0m\u001b[1;33m,\u001b[0m \u001b[0mtext\u001b[0m\u001b[1;33m)\u001b[0m\u001b[1;33m:\u001b[0m\u001b[1;33m\u001b[0m\u001b[0m\n\u001b[0;32m     66\u001b[0m         \u001b[1;31m#starting quotes\u001b[0m\u001b[1;33m\u001b[0m\u001b[1;33m\u001b[0m\u001b[0m\n\u001b[1;32m---> 67\u001b[1;33m         \u001b[0mtext\u001b[0m \u001b[1;33m=\u001b[0m \u001b[0mre\u001b[0m\u001b[1;33m.\u001b[0m\u001b[0msub\u001b[0m\u001b[1;33m(\u001b[0m\u001b[1;34mr'^\\\"'\u001b[0m\u001b[1;33m,\u001b[0m \u001b[1;34mr'``'\u001b[0m\u001b[1;33m,\u001b[0m \u001b[0mtext\u001b[0m\u001b[1;33m)\u001b[0m\u001b[1;33m\u001b[0m\u001b[0m\n\u001b[0m\u001b[0;32m     68\u001b[0m         \u001b[0mtext\u001b[0m \u001b[1;33m=\u001b[0m \u001b[0mre\u001b[0m\u001b[1;33m.\u001b[0m\u001b[0msub\u001b[0m\u001b[1;33m(\u001b[0m\u001b[1;34mr'(``)'\u001b[0m\u001b[1;33m,\u001b[0m \u001b[1;34mr' \\1 '\u001b[0m\u001b[1;33m,\u001b[0m \u001b[0mtext\u001b[0m\u001b[1;33m)\u001b[0m\u001b[1;33m\u001b[0m\u001b[0m\n\u001b[0;32m     69\u001b[0m         \u001b[0mtext\u001b[0m \u001b[1;33m=\u001b[0m \u001b[0mre\u001b[0m\u001b[1;33m.\u001b[0m\u001b[0msub\u001b[0m\u001b[1;33m(\u001b[0m\u001b[1;34mr'([ (\\[{<])\"'\u001b[0m\u001b[1;33m,\u001b[0m \u001b[1;34mr'\\1 `` '\u001b[0m\u001b[1;33m,\u001b[0m \u001b[0mtext\u001b[0m\u001b[1;33m)\u001b[0m\u001b[1;33m\u001b[0m\u001b[0m\n",
      "\u001b[1;32m/home/ubuntu/anaconda/lib/python2.7/re.pyc\u001b[0m in \u001b[0;36msub\u001b[1;34m(pattern, repl, string, count, flags)\u001b[0m\n\u001b[0;32m    149\u001b[0m     \u001b[0ma\u001b[0m \u001b[0mcallable\u001b[0m\u001b[1;33m,\u001b[0m \u001b[0mit\u001b[0m\u001b[0;31m'\u001b[0m\u001b[0ms\u001b[0m \u001b[0mpassed\u001b[0m \u001b[0mthe\u001b[0m \u001b[0mmatch\u001b[0m \u001b[0mobject\u001b[0m \u001b[1;32mand\u001b[0m \u001b[0mmust\u001b[0m \u001b[1;32mreturn\u001b[0m\u001b[1;33m\u001b[0m\u001b[0m\n\u001b[0;32m    150\u001b[0m     a replacement string to be used.\"\"\"\n\u001b[1;32m--> 151\u001b[1;33m     \u001b[1;32mreturn\u001b[0m \u001b[0m_compile\u001b[0m\u001b[1;33m(\u001b[0m\u001b[0mpattern\u001b[0m\u001b[1;33m,\u001b[0m \u001b[0mflags\u001b[0m\u001b[1;33m)\u001b[0m\u001b[1;33m.\u001b[0m\u001b[0msub\u001b[0m\u001b[1;33m(\u001b[0m\u001b[0mrepl\u001b[0m\u001b[1;33m,\u001b[0m \u001b[0mstring\u001b[0m\u001b[1;33m,\u001b[0m \u001b[0mcount\u001b[0m\u001b[1;33m)\u001b[0m\u001b[1;33m\u001b[0m\u001b[0m\n\u001b[0m\u001b[0;32m    152\u001b[0m \u001b[1;33m\u001b[0m\u001b[0m\n\u001b[0;32m    153\u001b[0m \u001b[1;32mdef\u001b[0m \u001b[0msubn\u001b[0m\u001b[1;33m(\u001b[0m\u001b[0mpattern\u001b[0m\u001b[1;33m,\u001b[0m \u001b[0mrepl\u001b[0m\u001b[1;33m,\u001b[0m \u001b[0mstring\u001b[0m\u001b[1;33m,\u001b[0m \u001b[0mcount\u001b[0m\u001b[1;33m=\u001b[0m\u001b[1;36m0\u001b[0m\u001b[1;33m,\u001b[0m \u001b[0mflags\u001b[0m\u001b[1;33m=\u001b[0m\u001b[1;36m0\u001b[0m\u001b[1;33m)\u001b[0m\u001b[1;33m:\u001b[0m\u001b[1;33m\u001b[0m\u001b[0m\n",
      "\u001b[1;31mTypeError\u001b[0m: expected string or buffer"
     ]
    }
   ],
   "source": [
    "tokens = nltk.word_tokenize(documents)"
   ]
  },
  {
   "cell_type": "code",
   "execution_count": 25,
   "metadata": {
    "collapsed": false
   },
   "outputs": [
    {
     "data": {
      "text/plain": [
       "<Text: business news - bankrolling energy exports creates rift between fossil fuels and green power: with boundaries ... http://t.co/esctb741ij emma thompson visits arctic to send tony abbott a climate change message - the guardian: the guardianemma thom... http://t.co/x1ucvxmj6z the climate implications of u.s. liquefied natural gas, or lng, exports http://t.co/dlqwiaii82 get a world of #climate &amp; energy news via email every morning! sign up for a free #climatenexus hot news subscription http://t.co/im15bnk2xy rt @newscientist: local people preserve the environment better than governments http://t.co/fejjnvuoua http://t.co/mocz1iykdr california wake-up call: extreme drought will lead 2 migration exit n real estate collapse http://t.co/sspmlshru7 #climate #chaos #yvr #lng want the best deal on 3 big enviro #potato# pod forever- the ultimate potato planter, what a deal! http://t.co/qhmrrnjdba \"@9gag: sometimes i feel useless, but then i remember i breathe out carbon dioxide for plants\"...>"
      ]
     },
     "execution_count": 25,
     "metadata": {},
     "output_type": "execute_result"
    }
   ],
   "source": [
    "text = nltk.Text(tokens)\n",
    "text"
   ]
  },
  {
   "cell_type": "code",
   "execution_count": 27,
   "metadata": {
    "collapsed": false
   },
   "outputs": [
    {
     "name": "stdout",
     "output_type": "stream",
     "text": [
      "Building collocations list\n",
      "rt @asapscience: a good example of a simple acid + base reaction, in\n",
      "which carbon dioxide gas fills the balloon. #sixseconds...\n",
      "https://t.co/yuonvczuan rt @barackobama: retweet if you support\n",
      "cutting dangerous carbon pollution. http://t.co/h3pefwnpuj; rt\n",
      "@barackobama: retweet if you support cutting dangerous carbon\n",
      "pollution. http://t.co/h3pefwnpuj rt @bathmanreturns: newspaper having\n",
      "extra page for celebrating world environment day. irony,rip.; diamonds\n",
      "and coal are both made from the same element: carbon. rt @joelosteen:\n",
      "the droughts in your life are coming to an end; you’re going to see\n",
      "restoration, increase, healing &amp; new opportunities.; rt @emmkaff:\n",
      "scientists: don't freak out about ebola. everyone: *panic!*\n",
      "scientists: freak out about climate change. everyone: lol! pass me\n",
      "some coal. rt @brendohare: hey scientist: if global warming is real,\n",
      "then why is it cold outside? why isn't it hot? where does the sun go\n",
      "at night? where did i park?; rt @oscare2000: #climate engineering\n",
      "induced changes in key earth system properties  http://t.co/mug0ftucfg\n",
      "#geoengineering #science #tech #drought #debate rt @emmkaff:\n",
      "scientists: don't freak out about ebola. everyone: *panic!*\n",
      "scientists: freak out about climate change. everyone: lol! pass me\n",
      "some coal.; rt @phil_radford: mt: if you're worried about ebola (100%\n",
      "of scientists say don't), but not climate change (97% say do), time to\n",
      "reflect. via @pourmecoffee rt @emmkaff: scientists: don't freak out\n",
      "about ebola. everyone: *panic!*  scientists: freak out about climate\n",
      "change. everyone: lol! pass me some coal.; rt @michaelarria: there are\n",
      "americans who think a black teenager reached for a cop's gun, from 35\n",
      "feet away, but demand further proof for global warming. rt @nycjim:\n",
      "study concludes manmade global warming has cause 70 percent of recent\n",
      "global glacier melt. http://t.co/vclwoecukm http://t.co/wwbaxqgtrx; rt\n",
      "@richardhine: % who believe climate change largely result of human\n",
      "activity: china: 93% india: 80% japan: 70% australia: 64% us: 54%\n",
      "@ipsosmori, via @time rt @emmkaff: scientists: don't freak out about\n",
      "ebola. everyone: *panic!*  scientists: freak out about climate change.\n",
      "everyone: lol! pass me some coal.; rt @barackobama: retweet if you\n",
      "support cutting dangerous carbon pollution. http://t.co/h3pefwnpuj\n",
      "kentut sapi termasuk penyebab utama global warming, karena\n",
      "mengeluarkan gas panas yang bisa merusak udara; rt @barackobama:\n",
      "retweet if you support cutting dangerous carbon pollution.\n",
      "http://t.co/h3pefwnpuj rt @climatereality: news: world’s youth invited\n",
      "to present to u.n climate summit. @algore challenges youth to be voice\n",
      "on climate change http://t.co/j78mwqludf; rt @climatereality: news:\n",
      "world’s youth invited to present to u.n climate summit. @algore\n",
      "challenges youth to be voice on climate change http://t.co/j78mwqludf\n",
      "rt @michaelarria: there are americans who think a black teenager\n",
      "reached for a cop's gun, from 35 feet away, but demand further proof\n",
      "for global warming.; rt @barackobama: \"epa climate rule economically\n",
      "feasible, study says\" more from @thehill: http://t.co/ivjbdxh7ee\n",
      "#actonclimate rt @barackobama: retweet if you support cutting\n",
      "dangerous carbon pollution. http://t.co/h3pefwnpuj; rt @emmkaff:\n",
      "scientists: don't freak out about ebola. everyone: *panic!*\n",
      "scientists: freak out about climate change. everyone: lol! pass me\n",
      "some coal. rt @fredmisntfree76: so scary, but true!! liberals are\n",
      "worried about global warming, not about psychopaths shown.\n",
      "http://t.co/war1qq2cmg\"; rt @emmkaff: scientists: don't freak out\n",
      "about ebola. everyone: *panic!*  scientists: freak out about climate\n",
      "change. everyone: lol! pass me some coal. rt @naturenews: california\n",
      "has long had wild swings in climate but the current 3-year drought is\n",
      "more ominous http://t.co/g4jixitv77 http://t.co/8f08ybxspf; rt\n",
      "@emmkaff: scientists: don't freak out about ebola. everyone: *panic!*\n",
      "scientists: freak out about climate change. everyone: lol! pass me\n",
      "some coal. rt @narendramodi: ladakh's prakash (energy), paryavaran\n",
      "(environment) &amp; paryatan (tourism) are not only j&amp;k's\n",
      "strength. the entire nation will benefit from it; rt @barackobama:\n",
      "watch: because of climate change, the average u.s. wildfire season is\n",
      "longer and more intense. http://t.co/0hqju8u0ld #actonclimate rt\n",
      "@emmkaff: scientists: don't freak out about ebola. everyone: *panic!*\n",
      "scientists: freak out about climate change. everyone: lol! pass me\n",
      "some coal.; rt @aquagreensaving: @nbcbayarea here is the solution to\n",
      "california's drought http://t.co/dp21ujpjpl rt @emmkaff: scientists:\n",
      "don't freak out about ebola. everyone: *panic!*  scientists: freak out\n",
      "about climate change. everyone: lol! pass me some coal.; rt\n",
      "@barackobama: retweet if you support cutting dangerous carbon\n",
      "pollution. http://t.co/h3pefwnpuj rt @emmkaff: scientists: don't freak\n",
      "out about ebola. everyone: *panic!*  scientists: freak out about\n",
      "climate change. everyone: lol! pass me some coal.; rt @emmkaff:\n",
      "scientists: don't freak out about ebola. everyone: *panic!*\n",
      "scientists: freak out about climate change. everyone: lol! pass me\n",
      "some coal. galih &amp; asyam dr sma kesatuan bangsa berhasil meraih\n",
      "medali emas di international environment sustainability project\n",
      "olympiad, holand [gnfi]; rt @michaelarria: there are americans who\n",
      "think a black teenager reached for a cop's gun, from 35 feet away, but\n",
      "demand further proof for global warming. rt @un: \"we need to\n",
      "understand we can't do business as usual &amp; a little bit on the\n",
      "green side\" – mary robinson http://t.co/nwxlvtydvu #climate2014\n"
     ]
    }
   ],
   "source": [
    "text.collocations()"
   ]
  },
  {
   "cell_type": "code",
   "execution_count": 1,
   "metadata": {
    "collapsed": false
   },
   "outputs": [
    {
     "data": {
      "text/html": [
       "<style>\n",
       "@import url(https://fonts.googleapis.com/css?family=Roboto+Slab:400,100);\n",
       "@import url(https://fonts.googleapis.com/css?family=Roboto+Mono:300);\n",
       "\n",
       "body{\n",
       "  font-family: \"Helvetica\", \"Helvetica Neue\", sans-serif;\n",
       "}\n",
       "\n",
       "#notebook {\n",
       "  font-size: 1.1em !important;\n",
       "  font-weight: 100;\n",
       "}\n",
       "\n",
       "a {\n",
       "\tcolor: #138331;\n",
       "}\n",
       "\n",
       "h1, h2, h3, h4, h5 {\n",
       "  font-family: \"Roboto Slab\", sans-serif;\n",
       "  font-weight: 100 !important;\n",
       "}\n",
       "\n",
       ".CodeMirror{\n",
       "  font-family: \"Roboto Mono\", monospace;\n",
       "  font-weight: 300;\n",
       "}\n",
       "\n",
       "div.prompt{\n",
       "  font-family: \"Roboto Mono\", monospace;\n",
       "  font-weight: 300;\n",
       "}\n",
       "\n",
       "</style>\n"
      ],
      "text/plain": [
       "<IPython.core.display.HTML object>"
      ]
     },
     "execution_count": 1,
     "metadata": {},
     "output_type": "execute_result"
    }
   ],
   "source": [
    "from IPython.core.display import HTML\n",
    "styles = open(\"../css/custom.css\", \"r\").read()\n",
    "HTML(styles)"
   ]
  },
  {
   "cell_type": "code",
   "execution_count": null,
   "metadata": {
    "collapsed": false
   },
   "outputs": [],
   "source": []
  }
 ],
 "metadata": {
  "kernelspec": {
   "display_name": "Python 2",
   "language": "python",
   "name": "python2"
  },
  "language_info": {
   "codemirror_mode": {
    "name": "ipython",
    "version": 2
   },
   "file_extension": ".py",
   "mimetype": "text/x-python",
   "name": "python",
   "nbconvert_exporter": "python",
   "pygments_lexer": "ipython2",
   "version": "2.7.10"
  }
 },
 "nbformat": 4,
 "nbformat_minor": 0
}
