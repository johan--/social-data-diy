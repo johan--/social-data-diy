{
 "cells": [
  {
   "cell_type": "markdown",
   "metadata": {},
   "source": [
    "The intention of this set of IPython Notebooks is to make it easy to do a fairly quick analysis of Twitter data from DataSift. The set contains:\n",
    "\n",
    "1. [Parse Twitter Data from DataSift](01%20-%20Parse%20Twitter%20Data.ipynb)\n",
    "    1. Import retrieved JSON files (from S3)\n",
    "    2. Read in individual tweets\n",
    "    3. Geolocate\n",
    "    4. Add gender\n",
    "    5. Create CSV file (and drop unwanted data)\n",
    "2. Descriptive Statistics and Graphs\n",
    "    1. Number of Tweets (Total)\n",
    "    2. Number of Tweets (Time Series)\n",
    "    3. Gender Distribution\n",
    "    4. Language Distribution\n",
    "    5. Follower Counts\n",
    "    5. Client Usage (Android, iPhone, web etc.)\n",
    "3. Simple Text Analysis\n",
    "    1. Most used hashtags\n",
    "    2. Most tweeted links\n",
    "    3. Most retweeted tweets\n",
    "    4. Most used words (n-grams?)\n",
    "4. Topic modeling\n",
    "    1. Lowercasing\n",
    "    2. Split tweets into lists\n",
    "    3. Strip punctuation etc.\n",
    "5. Sentiment analysis\n",
    "6. Geographical distribution (Map)\n",
    "7. Use official Twitter API (see [Mining the Social Web](http://nbviewer.ipython.org/github/ptwobrussell/Mining-the-Social-Web-2nd-Edition/blob/master/ipynb/Chapter%209%20-%20Twitter%20Cookbook.ipynb))\n",
    "    1. Trending topics\n",
    "    2. Extracting Twitter entities (hashtags, users etc.)\n",
    "    3. Get user's followers and friends\n",
    "    4. Create network"
   ]
  },
  {
   "cell_type": "code",
   "execution_count": 15,
   "metadata": {
    "collapsed": false
   },
   "outputs": [
    {
     "data": {
      "text/html": [
       "<style>\n",
       "@import url(https://fonts.googleapis.com/css?family=Roboto+Slab:400,100);\n",
       "@import url(http://fonts.googleapis.com/css?family=Droid+Sans+Mono);\n",
       "\n",
       "body{\n",
       "  font-family: \"Helvetica\", \"Helvetica Neue\", sans-serif;\n",
       "}\n",
       "\n",
       "#notebook {\n",
       "  font-size: 1.2em !important;\n",
       "  font-weight: 100;\n",
       "}\n",
       "\n",
       "a {\n",
       "\tcolor: #138331;\n",
       "}\n",
       "\n",
       "h1, h2, h3, h4, h5 {\n",
       "  font-family: \"Roboto Slab\", sans-serif;\n",
       "  font-weight: 100 !important;\n",
       "}\n",
       "\n",
       ".CodeMirror{\n",
       "  font-family: \"Droid Sans Mono\", monospace;\n",
       "}\n",
       "\n",
       "div.prompt{\n",
       "  font-family: \"Droid Sans Mono\", monospace;\n",
       "}\n",
       "\n",
       "</style>\n"
      ],
      "text/plain": [
       "<IPython.core.display.HTML object>"
      ]
     },
     "execution_count": 15,
     "metadata": {},
     "output_type": "execute_result"
    }
   ],
   "source": [
    "from IPython.core.display import HTML\n",
    "styles = open(\"../css/custom.css\", \"r\").read()\n",
    "HTML(styles)"
   ]
  },
  {
   "cell_type": "code",
   "execution_count": null,
   "metadata": {
    "collapsed": false
   },
   "outputs": [],
   "source": []
  }
 ],
 "metadata": {
  "kernelspec": {
   "display_name": "Python 2",
   "language": "python",
   "name": "python2"
  },
  "language_info": {
   "codemirror_mode": {
    "name": "ipython",
    "version": 2
   },
   "file_extension": ".py",
   "mimetype": "text/x-python",
   "name": "python",
   "nbconvert_exporter": "python",
   "pygments_lexer": "ipython2",
   "version": "2.7.10"
  }
 },
 "nbformat": 4,
 "nbformat_minor": 0
}
