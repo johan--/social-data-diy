{
 "cells": [
  {
   "cell_type": "markdown",
   "metadata": {},
   "source": [
    "<h1>Twitter + <span style=\"color:#138331\">You</span> + Jupyter</h1>"
   ]
  },
  {
   "cell_type": "markdown",
   "metadata": {},
   "source": [
    "<p style=\"font-size:18px\">Twitter-DIY is a few simple scripts <b>getting Twitter data</b> and <b>visualising</b> a few interesting tidbits. We'll use stuff like Lightning, which supports modern web libraries like <b>d3.js</b> and <b>three.js</b> and the <b>npm</b> ecosystem, and is designed for interactivity and continuously updating data streams.</p>"
   ]
  },
  {
   "cell_type": "markdown",
   "metadata": {},
   "source": [
    "# What's in Twitter-DIY?\n",
    "\n",
    "1. [Get Tweets by Tweet IDs](ipynb/getTweetsByID.ipynb)\n",
    "1. Get Tweets by searching for keywords\n",
    "1. Save to database\n",
    "1. Count tweets\n",
    "1. etc.\n",
    "\n",
    "<br/>\n",
    "<a class='button' href='http://lightning-viz.org/lightning-python/' style='font-weight: 200; text-decoration: none !important; padding-left: 20px; padding-right: 20px; padding-top: 10px; padding-bottom: 10px; margin-right: 20px; border: 1px solid #138331; box-shadow: inset 0px 1px 0px 0px rgba(255,255,255,0.30); border-radius: 3px; font-size: 24px; color: #138331; line-height: 26px;'>Lightning Python Docs</a>\n",
    "<a class='button' style='font-weight: 200; text-decoration: none !important; padding-left: 20px; padding-right: 20px; padding-top: 10px; padding-bottom: 10px; margin-right: 20px; border: 1px solid #138331; box-shadow: inset 0px 1px 0px 0px rgba(255,255,255,0.30); border-radius: 3px; font-size: 24px; color: #138331; line-height: 26px;' href='http://lightning-viz.org'>Project page</a>\n",
    "<a class='button' style='font-weight: 200; text-decoration: none !important; padding-left: 20px; padding-right: 20px; padding-top: 10px; padding-bottom: 10px; margin-right: 20px; border: 1px solid #138331; box-shadow: inset 0px 1px 0px 0px rgba(255,255,255,0.30); border-radius: 3px; font-size: 24px; color: #138331; line-height: 26px;' href='https://github.com/lightning-viz'>Github</a>\n",
    "<br>\n",
    "<br>"
   ]
  },
  {
   "cell_type": "markdown",
   "metadata": {},
   "source": [
    "<hr style=\"border-top-width: 4px; border-top-color: #138331;\">"
   ]
  },
  {
   "cell_type": "markdown",
   "metadata": {},
   "source": [
    "<h1>Below are some Lightning Examples</h1>\n",
    "<hr>"
   ]
  },
  {
   "cell_type": "markdown",
   "metadata": {},
   "source": [
    "<h2 style='font-weight: 200'>Plots</h2>\n",
    "\n",
    "<a data-content=\"Scatter\" href=\"plots/scatter.ipynb\" class=\"test\" style='padding-bottom: 5px'><img class='thumbnail' style='float: left; width: 21%; height: 21%; margin-right: 15px; margin-top: 15px; -web-kit-shadow: None !important; box-shadow: None !important; margin-bottom: 0px;' src=\"https://raw.githubusercontent.com/lightning-viz/lightning-default-index/master/thumbnails/scatter.png\"></a>\n",
    "\n",
    "<a data-content=\"Line\" href=\"plots/line.ipynb\" class=\"test\"><img class='thumbnail'style='float: left; width: 21%; height: 21%; margin-right: 15px; margin-top: 15px; -web-kit-shadow: None !important; box-shadow: None !important; margin-bottom: 0px;' src=\"https://raw.githubusercontent.com/lightning-viz/lightning-default-index/master/thumbnails/line.png\"></a>\n",
    "\n",
    "<a data-content=\"Force\" href=\"plots/force.ipynb\" class=\"test\"><img class='thumbnail' style='float: left; width: 21%; height: 21%; margin-right: 15px; margin-top: 15px; -web-kit-shadow: None !important; box-shadow: None !important; margin-bottom: 0px;' src=\"https://raw.githubusercontent.com/lightning-viz/lightning-default-index/master/thumbnails/force.png\"></a>\n",
    "\n",
    "<a data-content=\"Graph\" href=\"plots/graph.ipynb\" class=\"test\"><img class='thumbnail' style='float: left; width: 21%; height: 21%; margin-right: 15px; margin-top: 15px; -web-kit-shadow: None !important; box-shadow: None !important; margin-bottom: 0px;' src=\"https://raw.githubusercontent.com/lightning-viz/lightning-default-index/master/thumbnails/graph.png\"></a>\n",
    "\n",
    "<a data-content=\"Matrix\" href=\"plots/matrix.ipynb\" class=\"test\"><img class='thumbnail' style='float: left; width: 21%; height: 21%; margin-right: 15px; margin-top: 15px; -web-kit-shadow: None !important; box-shadow: None !important; margin-bottom: 0px;' src=\"https://raw.githubusercontent.com/lightning-viz/lightning-default-index/master/thumbnails/matrix.png\"></a>\n",
    "\n",
    "<a data-content=\"Map\" href=\"plots/map.ipynb\" class=\"test\"><img class='thumbnail' style='float: left; width: 21%; height: 21%; margin-right: 15px; margin-top: 15px; -web-kit-shadow: None !important; box-shadow: None !important; margin-bottom: 0px;' src=\"https://raw.githubusercontent.com/lightning-viz/lightning-default-index/master/thumbnails/map.png\"></a>\n",
    "\n",
    "<a data-content=\"Histogram\" href=\"plots/histogram.ipynb\" class=\"test\"><img class='thumbnail' style='float: left; width: 21%; height: 21%; margin-right: 15px; margin-top: 15px; -web-kit-shadow: None !important; box-shadow: None !important; margin-bottom: 0px;' src=\"https://raw.githubusercontent.com/lightning-viz/lightning-default-index/master/thumbnails/histogram.png\"></a>\n",
    "\n",
    "<a data-content=\"Circle\" href=\"plots/circle.ipynb\" class=\"test\"><img class='thumbnail' style='float: left; width: 21%; height: 21%; margin-right: 15px; margin-top: 15px; -web-kit-shadow: None !important; box-shadow: None !important; margin-bottom: 0px;' src=\"https://raw.githubusercontent.com/lightning-viz/lightning-default-index/master/thumbnails/circle.png\"></a>\n"
   ]
  },
  {
   "cell_type": "markdown",
   "metadata": {},
   "source": [
    "<h2 style='font-weight: 200'>Images</h2>\n",
    "\n",
    "<a data-content=\"Image\" href=\"images/image.ipynb\" class=\"test\"><img class='thumbnail' style='float: left; width: 21%; height: 21%; margin-right: 15px; margin-top: 15px; -web-kit-shadow: None !important; box-shadow: None !important; margin-bottom: 0px;' src=\"https://raw.githubusercontent.com/lightning-viz/lightning-default-index/master/thumbnails/image.png\"></a>\n",
    "\n",
    "<a data-content=\"Image poly\" href=\"images/image-poly.ipynb\" class=\"test\"><img class='thumbnail' style='float: left; width: 21%; height: 21%; margin-right: 15px; margin-top: 15px; -web-kit-shadow: None !important; box-shadow: None !important; margin-bottom: 0px;' src=\"https://raw.githubusercontent.com/lightning-viz/lightning-default-index/master/thumbnails/image-poly.png\"></a>\n",
    "\n",
    "<a data-content=\"Gallery\" href=\"images/gallery.ipynb\" class=\"test\"><img class='thumbnail' style='float: left; width: 21%; height: 21%; margin-right: 15px; margin-top: 15px; -web-kit-shadow: None !important; box-shadow: None !important; margin-bottom: 0px;' src=\"https://raw.githubusercontent.com/lightning-viz/lightning-default-index/master/thumbnails/gallery.png\"></a>\n"
   ]
  },
  {
   "cell_type": "markdown",
   "metadata": {},
   "source": [
    "<h2 style='font-weight: 200'>3D</h2>\n",
    "\n",
    "<a data-content=\"Scatter3\" href=\"3D/scatter3.ipynb\" class=\"test\"><img class='thumbnail' style='float: left; width: 21%; height: 21%; margin-right: 15px; margin-top: 15px; -web-kit-shadow: None !important; box-shadow: None !important; margin-bottom: 0px;' src=\"https://raw.githubusercontent.com/lightning-viz/lightning-default-index/master/thumbnails/scatter-3.png\"></a>\n",
    "\n",
    "<a data-content=\"Volume\" href=\"3D/volume.ipynb\" class=\"test\"><img class='thumbnail' style='float: left; width: 21%; height: 21%; margin-right: 15px; margin-top: 15px; -web-kit-shadow: None !important; box-shadow: None !important; margin-bottom: 0px;' src=\"https://raw.githubusercontent.com/lightning-viz/lightning-default-index/master/thumbnails/volume.png\"></a>"
   ]
  },
  {
   "cell_type": "markdown",
   "metadata": {},
   "source": [
    "<h2 style='font-weight: 200'>Options, modes, and interactivity</h2>\n",
    "\n",
    "<a data-content=\"Brushing\" href=\"misc/brushing.ipynb\" class=\"test\"><img class='thumbnail' style='float: left; width: 21%; height: 21%; margin-right: 15px; margin-top: 15px; -web-kit-shadow: None !important; box-shadow: None !important; margin-bottom: 0px;' src=\"https://raw.githubusercontent.com/lightning-viz/lightning-default-index/master/thumbnails/brushing.png\"></a>\n",
    "\n",
    "<a data-content=\"Tooltops\" href=\"misc/tooltips.ipynb\" class=\"test\"><img class='thumbnail' style='float: left; width: 21%; height: 21%; margin-right: 15px; margin-top: 15px; -web-kit-shadow: None !important; box-shadow: None !important; margin-bottom: 0px;' src=\"https://raw.githubusercontent.com/lightning-viz/lightning-default-index/master/thumbnails/tooltips.png\"></a>\n",
    "\n",
    "<a data-content=\"Sizing\" href=\"misc/sizing.ipynb\" class=\"test\"><img class='thumbnail' style='float: left; width: 21%; height: 21%; margin-right: 15px; margin-top: 15px; -web-kit-shadow: None !important; box-shadow: None !important; margin-bottom: 0px;' src=\"https://raw.githubusercontent.com/lightning-viz/lightning-default-index/master/thumbnails/sizing.png\"></a>\n",
    "\n",
    "<a data-content=\"Severless\" href=\"misc/severless.ipynb\" class=\"test\"><img class='thumbnail' style='float: left; width: 21%; height: 21%; margin-right: 15px; margin-top: 15px; -web-kit-shadow: None !important; box-shadow: None !important; margin-bottom: 0px;' src=\"https://raw.githubusercontent.com/lightning-viz/lightning-default-index/master/thumbnails/local.png\"></a>\n",
    "\n"
   ]
  },
  {
   "cell_type": "markdown",
   "metadata": {},
   "source": [
    "<hr style=\"border-top-width: 4px; border-top-color: #138331;\">"
   ]
  },
  {
   "cell_type": "markdown",
   "metadata": {},
   "source": [
    "<br>\n",
    "<h1 style='font-weight:200'>Questions? Get in touch: <a href='http://twitter.com/ReneCNielsen' style='color:#138331; text-decoration: none' >@ReneCNielsen</a></h1>"
   ]
  },
  {
   "cell_type": "code",
   "execution_count": 7,
   "metadata": {
    "collapsed": false
   },
   "outputs": [
    {
     "data": {
      "text/html": [
       "<style>\n",
       "@import url(https://fonts.googleapis.com/css?family=Roboto+Slab:400,100);\n",
       "@import url(http://fonts.googleapis.com/css?family=Droid+Sans+Mono);\n",
       "\n",
       "body{\n",
       "  font-family: \"Helvetica\", \"Helvetica Neue\", sans-serif;\n",
       "}\n",
       "\n",
       "#notebook {\n",
       "  font-size: 1.2em !important;\n",
       "  font-weight: 100;\n",
       "}\n",
       "\n",
       "a {\n",
       "\tcolor: #138331;\n",
       "}\n",
       "\n",
       "h1, h2, h3, h4, h5 {\n",
       "  font-family: \"Roboto Slab\", sans-serif;\n",
       "  font-weight: 100 !important;\n",
       "}\n",
       "\n",
       ".CodeMirror{\n",
       "  font-family: \"Droid Sans Mono\", monospace;\n",
       "}\n",
       "\n",
       "div.prompt{\n",
       "  font-family: \"Droid Sans Mono\", monospace;\n",
       "}\n",
       "\n",
       "</style>\n"
      ],
      "text/plain": [
       "<IPython.core.display.HTML object>"
      ]
     },
     "execution_count": 7,
     "metadata": {},
     "output_type": "execute_result"
    }
   ],
   "source": [
    "from IPython.core.display import HTML\n",
    "styles = open(\"css/custom.css\", \"r\").read()\n",
    "HTML(styles)"
   ]
  },
  {
   "cell_type": "code",
   "execution_count": null,
   "metadata": {
    "collapsed": true
   },
   "outputs": [],
   "source": []
  }
 ],
 "metadata": {
  "kernelspec": {
   "display_name": "Python 2",
   "language": "python",
   "name": "python2"
  },
  "language_info": {
   "codemirror_mode": {
    "name": "ipython",
    "version": 2
   },
   "file_extension": ".py",
   "mimetype": "text/x-python",
   "name": "python",
   "nbconvert_exporter": "python",
   "pygments_lexer": "ipython2",
   "version": "2.7.10"
  }
 },
 "nbformat": 4,
 "nbformat_minor": 0
}
