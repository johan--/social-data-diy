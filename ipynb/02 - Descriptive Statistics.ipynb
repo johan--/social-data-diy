{
 "cells": [
  {
   "cell_type": "markdown",
   "metadata": {},
   "source": [
    "# Descriptive Statistics"
   ]
  },
  {
   "cell_type": "markdown",
   "metadata": {},
   "source": [
    "1. Descriptive Statistics and Graphs\n",
    "2. Number of Tweets (Total)\n",
    "3. Number of Tweets (Time Series)\n",
    "4. Gender Distribution\n",
    "5. Language Distribution\n",
    "6. Follower Counts\n",
    "7. Client Usage (Android, iPhone, web etc.)"
   ]
  },
  {
   "cell_type": "code",
   "execution_count": null,
   "metadata": {
    "collapsed": false
   },
   "outputs": [],
   "source": [
    "import pandas as pd\n",
    "import numpy as np"
   ]
  },
  {
   "cell_type": "code",
   "execution_count": null,
   "metadata": {
    "collapsed": false
   },
   "outputs": [],
   "source": [
    "!cat ../data/stream.tsv | head"
   ]
  },
  {
   "cell_type": "code",
   "execution_count": 2,
   "metadata": {
    "collapsed": false
   },
   "outputs": [],
   "source": [
    "twitterData=pd.read_table('../data/stream.tsv',\n",
    "                          encoding='utf-8',\n",
    "                          na_values=['NaN',''],\n",
    "                          parse_dates=[1]\n",
    "                        )\n",
    "# Read in TSV and turn off NaN catching to leave in unrecognised genders"
   ]
  },
  {
   "cell_type": "code",
   "execution_count": 3,
   "metadata": {
    "collapsed": false
   },
   "outputs": [
    {
     "data": {
      "text/html": [
       "<div style=\"max-height:1000px;max-width:1500px;overflow:auto;\">\n",
       "<table border=\"1\" class=\"dataframe\">\n",
       "  <thead>\n",
       "    <tr style=\"text-align: right;\">\n",
       "      <th></th>\n",
       "      <th>ID</th>\n",
       "      <th>Date</th>\n",
       "      <th>Content</th>\n",
       "      <th>Type</th>\n",
       "      <th>DataSiftLanguage</th>\n",
       "      <th>TwitterLanguage</th>\n",
       "      <th>TwitterLocation</th>\n",
       "      <th>UNGPLocation</th>\n",
       "      <th>DSGender</th>\n",
       "      <th>UNGPGender</th>\n",
       "      <th>UNGPGenderProb</th>\n",
       "      <th>Followers</th>\n",
       "      <th>Friends</th>\n",
       "      <th>Sentiment</th>\n",
       "      <th>Topic</th>\n",
       "      <th>Subtopic</th>\n",
       "    </tr>\n",
       "  </thead>\n",
       "  <tbody>\n",
       "    <tr>\n",
       "      <th>0</th>\n",
       "      <td> 1e4088e50af4a700e07435975fd8ac10</td>\n",
       "      <td>2014-07-11 00:00:06</td>\n",
       "      <td> @takeyoudrews gjfkdjfkd fiquei puta qnd soube ...</td>\n",
       "      <td> twitter</td>\n",
       "      <td> pt</td>\n",
       "      <td> pt</td>\n",
       "      <td>        NaN</td>\n",
       "      <td> NaN</td>\n",
       "      <td>    NaN</td>\n",
       "      <td>  NaN</td>\n",
       "      <td>      NaN</td>\n",
       "      <td> 5008</td>\n",
       "      <td> 4154</td>\n",
       "      <td>NaN</td>\n",
       "      <td>     Prevention</td>\n",
       "      <td>  Neutral</td>\n",
       "    </tr>\n",
       "    <tr>\n",
       "      <th>1</th>\n",
       "      <td> 1e4088e750b2a380e0745149c91047ac</td>\n",
       "      <td>2014-07-11 00:01:07</td>\n",
       "      <td> Odio que insulten a Argentina saben hijas de p...</td>\n",
       "      <td> twitter</td>\n",
       "      <td> es</td>\n",
       "      <td> es</td>\n",
       "      <td> Argentina </td>\n",
       "      <td>  AR</td>\n",
       "      <td>    NaN</td>\n",
       "      <td> male</td>\n",
       "      <td> 1.000000</td>\n",
       "      <td>  673</td>\n",
       "      <td>  979</td>\n",
       "      <td>NaN</td>\n",
       "      <td> Discrimination</td>\n",
       "      <td> Negative</td>\n",
       "    </tr>\n",
       "    <tr>\n",
       "      <th>2</th>\n",
       "      <td> 1e408946aec2a380e0746014f5019be4</td>\n",
       "      <td>2014-07-11 00:43:47</td>\n",
       "      <td> SÍNDICA FILHA DA PUTA, TE ODEIO, VELHA NOJENTA...</td>\n",
       "      <td> twitter</td>\n",
       "      <td> pt</td>\n",
       "      <td> pt</td>\n",
       "      <td>        NaN</td>\n",
       "      <td> NaN</td>\n",
       "      <td>    NaN</td>\n",
       "      <td>  NaN</td>\n",
       "      <td>      NaN</td>\n",
       "      <td>  267</td>\n",
       "      <td>  268</td>\n",
       "      <td>NaN</td>\n",
       "      <td> Discrimination</td>\n",
       "      <td> Negative</td>\n",
       "    </tr>\n",
       "    <tr>\n",
       "      <th>3</th>\n",
       "      <td> 1e4089f9fb1aa800e07446359506a908</td>\n",
       "      <td>2014-07-11 02:04:00</td>\n",
       "      <td> Esse cara cansou de me peitar e ficar encarand...</td>\n",
       "      <td> twitter</td>\n",
       "      <td> pt</td>\n",
       "      <td> pt</td>\n",
       "      <td>        NaN</td>\n",
       "      <td> NaN</td>\n",
       "      <td> unisex</td>\n",
       "      <td>  NaN</td>\n",
       "      <td>      NaN</td>\n",
       "      <td>  568</td>\n",
       "      <td>  258</td>\n",
       "      <td>NaN</td>\n",
       "      <td> Discrimination</td>\n",
       "      <td> Negative</td>\n",
       "    </tr>\n",
       "    <tr>\n",
       "      <th>4</th>\n",
       "      <td> 1e40925b4388a380e074eab24d9e7ba2</td>\n",
       "      <td>2014-07-11 18:03:47</td>\n",
       "      <td> @SPachec0 com ela eu vou usar camisinha de hor...</td>\n",
       "      <td> twitter</td>\n",
       "      <td> pt</td>\n",
       "      <td> pt</td>\n",
       "      <td>        NaN</td>\n",
       "      <td> NaN</td>\n",
       "      <td> female</td>\n",
       "      <td> male</td>\n",
       "      <td> 0.968354</td>\n",
       "      <td>  432</td>\n",
       "      <td>  243</td>\n",
       "      <td>NaN</td>\n",
       "      <td>     Prevention</td>\n",
       "      <td> Positive</td>\n",
       "    </tr>\n",
       "  </tbody>\n",
       "</table>\n",
       "</div>"
      ],
      "text/plain": [
       "                                 ID                Date  \\\n",
       "0  1e4088e50af4a700e07435975fd8ac10 2014-07-11 00:00:06   \n",
       "1  1e4088e750b2a380e0745149c91047ac 2014-07-11 00:01:07   \n",
       "2  1e408946aec2a380e0746014f5019be4 2014-07-11 00:43:47   \n",
       "3  1e4089f9fb1aa800e07446359506a908 2014-07-11 02:04:00   \n",
       "4  1e40925b4388a380e074eab24d9e7ba2 2014-07-11 18:03:47   \n",
       "\n",
       "                                             Content     Type  \\\n",
       "0  @takeyoudrews gjfkdjfkd fiquei puta qnd soube ...  twitter   \n",
       "1  Odio que insulten a Argentina saben hijas de p...  twitter   \n",
       "2  SÍNDICA FILHA DA PUTA, TE ODEIO, VELHA NOJENTA...  twitter   \n",
       "3  Esse cara cansou de me peitar e ficar encarand...  twitter   \n",
       "4  @SPachec0 com ela eu vou usar camisinha de hor...  twitter   \n",
       "\n",
       "  DataSiftLanguage TwitterLanguage TwitterLocation UNGPLocation DSGender  \\\n",
       "0               pt              pt             NaN          NaN      NaN   \n",
       "1               es              es      Argentina            AR      NaN   \n",
       "2               pt              pt             NaN          NaN      NaN   \n",
       "3               pt              pt             NaN          NaN   unisex   \n",
       "4               pt              pt             NaN          NaN   female   \n",
       "\n",
       "  UNGPGender  UNGPGenderProb  Followers  Friends  Sentiment           Topic  \\\n",
       "0        NaN             NaN       5008     4154        NaN      Prevention   \n",
       "1       male        1.000000        673      979        NaN  Discrimination   \n",
       "2        NaN             NaN        267      268        NaN  Discrimination   \n",
       "3        NaN             NaN        568      258        NaN  Discrimination   \n",
       "4       male        0.968354        432      243        NaN      Prevention   \n",
       "\n",
       "   Subtopic  \n",
       "0   Neutral  \n",
       "1  Negative  \n",
       "2  Negative  \n",
       "3  Negative  \n",
       "4  Positive  "
      ]
     },
     "execution_count": 3,
     "metadata": {},
     "output_type": "execute_result"
    }
   ],
   "source": [
    "twitterData.head()"
   ]
  },
  {
   "cell_type": "code",
   "execution_count": 4,
   "metadata": {
    "collapsed": false
   },
   "outputs": [
    {
     "data": {
      "text/plain": [
       "ID                          object\n",
       "Date                datetime64[ns]\n",
       "Content                     object\n",
       "Type                        object\n",
       "DataSiftLanguage            object\n",
       "TwitterLanguage             object\n",
       "TwitterLocation             object\n",
       "UNGPLocation                object\n",
       "DSGender                    object\n",
       "UNGPGender                  object\n",
       "UNGPGenderProb             float64\n",
       "Followers                  float64\n",
       "Friends                    float64\n",
       "Sentiment                  float64\n",
       "Topic                       object\n",
       "Subtopic                    object\n",
       "dtype: object"
      ]
     },
     "execution_count": 4,
     "metadata": {},
     "output_type": "execute_result"
    }
   ],
   "source": [
    "twitterData.dtypes"
   ]
  },
  {
   "cell_type": "markdown",
   "metadata": {},
   "source": [
    "## All Tweets"
   ]
  },
  {
   "cell_type": "markdown",
   "metadata": {},
   "source": [
    "### Number of Tweets"
   ]
  },
  {
   "cell_type": "code",
   "execution_count": 5,
   "metadata": {
    "collapsed": false
   },
   "outputs": [
    {
     "name": "stdout",
     "output_type": "stream",
     "text": [
      "There are 29150 tweets in the full dataset\n"
     ]
    }
   ],
   "source": [
    "nTweets = len(twitterData.index)\n",
    "print \"There are\", nTweets, \"tweets in the full dataset\""
   ]
  },
  {
   "cell_type": "markdown",
   "metadata": {},
   "source": [
    "### Number of Tweets Over Time"
   ]
  },
  {
   "cell_type": "code",
   "execution_count": 6,
   "metadata": {
    "collapsed": false
   },
   "outputs": [],
   "source": [
    "import matplotlib.pyplot as plt\n",
    "import matplotlib.dates as mdates"
   ]
  },
  {
   "cell_type": "code",
   "execution_count": 9,
   "metadata": {
    "collapsed": false
   },
   "outputs": [],
   "source": [
    "#twitterData['Friends'].plot()"
   ]
  },
  {
   "cell_type": "markdown",
   "metadata": {},
   "source": [
    "### Documents by DataSift Language"
   ]
  },
  {
   "cell_type": "code",
   "execution_count": 11,
   "metadata": {
    "collapsed": false
   },
   "outputs": [
    {
     "data": {
      "text/plain": [
       "pt    25621\n",
       "en     1079\n",
       "es      756\n",
       "sr      468\n",
       "la      285\n",
       "gl       73\n",
       "rm       65\n",
       "nn       65\n",
       "sv       57\n",
       "uz       56\n",
       "dtype: int64"
      ]
     },
     "execution_count": 11,
     "metadata": {},
     "output_type": "execute_result"
    }
   ],
   "source": [
    "# Languages included in taxonomy: en, hi, ur, sw, ha, ig, yo\n",
    "nDataSiftLanguage = twitterData.DataSiftLanguage.value_counts(sort=True, ascending=False, bins=None)\n",
    "nDataSiftLanguage[0:10]"
   ]
  },
  {
   "cell_type": "code",
   "execution_count": 7,
   "metadata": {
    "collapsed": false
   },
   "outputs": [
    {
     "data": {
      "text/plain": [
       "pt    0.878937\n",
       "en    0.037015\n",
       "es    0.025935\n",
       "sr    0.016055\n",
       "la    0.009777\n",
       "gl    0.002504\n",
       "rm    0.002230\n",
       "nn    0.002230\n",
       "sv    0.001955\n",
       "uz    0.001921\n",
       "dtype: float64"
      ]
     },
     "execution_count": 7,
     "metadata": {},
     "output_type": "execute_result"
    }
   ],
   "source": [
    "# Languages included in taxonomy: en, hi, ur, sw, ha, ig, yo\n",
    "nDataSiftLanguage = twitterData.DataSiftLanguage.value_counts(normalize=True, sort=True, ascending=False, bins=None)\n",
    "nDataSiftLanguage[0:10]"
   ]
  },
  {
   "cell_type": "markdown",
   "metadata": {},
   "source": [
    "### Documents by Twitter Language"
   ]
  },
  {
   "cell_type": "code",
   "execution_count": 12,
   "metadata": {
    "collapsed": false
   },
   "outputs": [
    {
     "data": {
      "text/plain": [
       "pt    27089\n",
       "es     1061\n",
       "en      382\n",
       "it       84\n",
       "et       77\n",
       "fr       59\n",
       "pl       50\n",
       "ro       44\n",
       "sl       43\n",
       "is       33\n",
       "dtype: int64"
      ]
     },
     "execution_count": 12,
     "metadata": {},
     "output_type": "execute_result"
    }
   ],
   "source": [
    "nTwitterLanguage = twitterData.TwitterLanguage.value_counts(sort=True, ascending=False, bins=None)\n",
    "nTwitterLanguage[0:10]"
   ]
  },
  {
   "cell_type": "code",
   "execution_count": 8,
   "metadata": {
    "collapsed": false
   },
   "outputs": [
    {
     "data": {
      "text/plain": [
       "pt    0.929297\n",
       "es    0.036398\n",
       "en    0.013105\n",
       "it    0.002882\n",
       "et    0.002642\n",
       "fr    0.002024\n",
       "pl    0.001715\n",
       "ro    0.001509\n",
       "sl    0.001475\n",
       "is    0.001132\n",
       "dtype: float64"
      ]
     },
     "execution_count": 8,
     "metadata": {},
     "output_type": "execute_result"
    }
   ],
   "source": [
    "nTwitterLanguage = twitterData.TwitterLanguage.value_counts(normalize=True, sort=True, ascending=False, bins=None)\n",
    "nTwitterLanguage[0:10]"
   ]
  },
  {
   "cell_type": "markdown",
   "metadata": {},
   "source": [
    "### Number of Documents by Twitter Location"
   ]
  },
  {
   "cell_type": "code",
   "execution_count": 9,
   "metadata": {
    "collapsed": false
   },
   "outputs": [
    {
     "data": {
      "text/plain": [
       "Rio de Janeiro          784\n",
       "Brasil                  663\n",
       "São Paulo               353\n",
       "Brazil                  311\n",
       "RJ                      153\n",
       "Rio de Janeiro          143\n",
       "SP                      122\n",
       "Porto Alegre             99\n",
       "Brasília                 92\n",
       "PORTUGUÊS | Italiano     82\n",
       "Curitiba                 72\n",
       "Belo Horizonte           69\n",
       "sp                       69\n",
       "Rio Grande do Sul        67\n",
       "Recife                   64\n",
       "dtype: int64"
      ]
     },
     "execution_count": 9,
     "metadata": {},
     "output_type": "execute_result"
    }
   ],
   "source": [
    "# Reminder: Locations we are interested in are \"IN\", \"PK\", \"NG\", and \"KE\".\n",
    "nLocation = twitterData.TwitterLocation.value_counts(normalize=False, sort=True, ascending=False, bins=None)\n",
    "nLocation[0:15]"
   ]
  },
  {
   "cell_type": "markdown",
   "metadata": {},
   "source": [
    "### Number of Documents by UNGP Location"
   ]
  },
  {
   "cell_type": "code",
   "execution_count": 10,
   "metadata": {
    "collapsed": false
   },
   "outputs": [
    {
     "data": {
      "text/plain": [
       "BR    11267\n",
       "US      711\n",
       "AR      226\n",
       "FR      137\n",
       "GB      107\n",
       "AU       92\n",
       "MX       73\n",
       "ES       68\n",
       "IT       67\n",
       "RO       62\n",
       "CO       59\n",
       "CH       58\n",
       "DE       55\n",
       "PT       43\n",
       "PH       38\n",
       "dtype: int64"
      ]
     },
     "execution_count": 10,
     "metadata": {},
     "output_type": "execute_result"
    }
   ],
   "source": [
    "# Reminder: Locations we are interested in are \"IN\", \"PK\", \"NG\", and \"KE\".\n",
    "nUngpLocation = twitterData.UNGPLocation.value_counts(normalize=False, sort=True, ascending=False, bins=None)\n",
    "nUngpLocation[0:15]"
   ]
  },
  {
   "cell_type": "code",
   "execution_count": 37,
   "metadata": {
    "collapsed": false
   },
   "outputs": [
    {
     "data": {
      "text/html": [
       "\n",
       "           <script>\n",
       "               \n",
       "                function vct_load_lib(url, callback){\n",
       "                      if(typeof d3 !== 'undefined' &&\n",
       "                         url === 'http://d3js.org/d3.v3.min.js'){\n",
       "                        callback()\n",
       "                      }\n",
       "                      var s = document.createElement('script');\n",
       "                      s.src = url;\n",
       "                      s.async = true;\n",
       "                      s.onreadystatechange = s.onload = callback;\n",
       "                      s.onerror = function(){\n",
       "                        console.warn(\"failed to load library \" + url);\n",
       "                        };\n",
       "                      document.getElementsByTagName(\"head\")[0].appendChild(s);\n",
       "                };\n",
       "                var vincent_event = new CustomEvent(\n",
       "                  \"vincent_libs_loaded\",\n",
       "                  {bubbles: true, cancelable: true}\n",
       "                );\n",
       "                \n",
       "               function load_all_libs(){\n",
       "                  console.log('Loading Vincent libs...')\n",
       "                  vct_load_lib('http://d3js.org/d3.v3.min.js', function(){\n",
       "                  vct_load_lib('http://d3js.org/d3.geo.projection.v0.min.js', function(){\n",
       "                  vct_load_lib('http://wrobstory.github.io/d3-cloud/d3.layout.cloud.js', function(){\n",
       "                  vct_load_lib('http://wrobstory.github.io/vega/vega.v1.3.3.js', function(){\n",
       "                  window.dispatchEvent(vincent_event);\n",
       "                  });\n",
       "                  });\n",
       "                  });\n",
       "                  });\n",
       "               };\n",
       "               if(typeof define === \"function\" && define.amd){\n",
       "                    if (window['d3'] === undefined ||\n",
       "                        window['topojson'] === undefined){\n",
       "                        require.config(\n",
       "                            {paths: {\n",
       "                              d3: 'http://d3js.org/d3.v3.min',\n",
       "                              topojson: 'http://d3js.org/topojson.v1.min'\n",
       "                              }\n",
       "                            }\n",
       "                          );\n",
       "                        require([\"d3\"], function(d3){\n",
       "                            console.log('Loading Vincent from require.js...')\n",
       "                            window.d3 = d3;\n",
       "                            require([\"topojson\"], function(topojson){\n",
       "                                window.topojson = topojson;\n",
       "                                load_all_libs();\n",
       "                            });\n",
       "                        });\n",
       "                    } else {\n",
       "                        load_all_libs();\n",
       "                    };\n",
       "               }else{\n",
       "                    console.log('Require.js not found, loading manually...')\n",
       "                    load_all_libs();\n",
       "               };\n",
       "\n",
       "           </script>"
      ],
      "text/plain": [
       "<IPython.core.display.HTML at 0x95c6590>"
      ]
     },
     "metadata": {},
     "output_type": "display_data"
    }
   ],
   "source": [
    "# Getting Vincent ready \n",
    "vincent.initialize_notebook()\n",
    "gpBlue='#00aeef'\n",
    "gpLightGray='#96999b'\n",
    "gpDarkBlue='#00447c'\n",
    "gpRed='#cf5c42'\n",
    "gpBrown='#e1d8ad'\n",
    "gpPink='#f4d5e3'\n",
    "gpLightBlue='#e1f4fd'"
   ]
  },
  {
   "cell_type": "code",
   "execution_count": 39,
   "metadata": {
    "collapsed": false
   },
   "outputs": [
    {
     "data": {
      "text/html": [
       "<div id=\"vis41cd2f8045aa4769b76a1809319a5954\"></div>\n",
       "<script>\n",
       "   ( function() {\n",
       "     var _do_plot = function() {\n",
       "       if (typeof vg === 'undefined') {\n",
       "         window.addEventListener('vincent_libs_loaded', _do_plot)\n",
       "         return;\n",
       "       }\n",
       "       vg.parse.spec({\"axes\": [{\"properties\": {\"axis\": {\"stroke\": {\"value\": \"#96999b\"}}, \"labels\": {\"align\": {\"value\": \"center\"}, \"angle\": {\"value\": 0}, \"fill\": {\"value\": \"#96999b\"}}, \"majorTicks\": {\"stroke\": {\"value\": \"#96999b\"}}, \"minorTicks\": {\"stroke\": {\"value\": \"#96999b\"}}, \"title\": {\"dy\": {\"value\": 20}, \"fill\": {\"value\": \"#96999b\"}, \"fontSize\": {\"value\": 20}}}, \"scale\": \"x\", \"title\": \"Country\", \"type\": \"x\"}, {\"properties\": {\"axis\": {\"stroke\": {\"value\": \"#96999b\"}}, \"labels\": {\"fill\": {\"value\": \"#96999b\"}}, \"majorTicks\": {\"stroke\": {\"value\": \"#96999b\"}}, \"minorTicks\": {\"stroke\": {\"value\": \"#96999b\"}}, \"title\": {\"fill\": {\"value\": \"#96999b\"}, \"fontSize\": {\"value\": 20}}}, \"scale\": \"y\", \"title\": \"Followers\", \"type\": \"y\"}], \"data\": [{\"name\": \"table\", \"values\": [{\"col\": \"Followers\", \"idx\": \"VE\", \"val\": 23.0}, {\"col\": \"Followers\", \"idx\": \"AF\", \"val\": 61.0}, {\"col\": \"Followers\", \"idx\": \"BT\", \"val\": 63.666666666666664}, {\"col\": \"Followers\", \"idx\": \"JO\", \"val\": 64.0}, {\"col\": \"Followers\", \"idx\": \"SX\", \"val\": 212.5}, {\"col\": \"Followers\", \"idx\": \"GM\", \"val\": 232.66666666666666}, {\"col\": \"Followers\", \"idx\": \"MZ\", \"val\": 248.0}, {\"col\": \"Followers\", \"idx\": \"ME\", \"val\": 352.0}, {\"col\": \"Followers\", \"idx\": \"AT\", \"val\": 435.6666666666667}, {\"col\": \"Followers\", \"idx\": \"HU\", \"val\": 452.0}, {\"col\": \"Followers\", \"idx\": \"PH\", \"val\": 454.77272727272725}, {\"col\": \"Followers\", \"idx\": \"KY\", \"val\": 472.0}, {\"col\": \"Followers\", \"idx\": \"NZ\", \"val\": 475.0}, {\"col\": \"Followers\", \"idx\": \"UY\", \"val\": 478.4}, {\"col\": \"Followers\", \"idx\": \"SV\", \"val\": 501.57142857142856}, {\"col\": \"Followers\", \"idx\": \"GL\", \"val\": 538.0}, {\"col\": \"Followers\", \"idx\": \"UA\", \"val\": 563.5}, {\"col\": \"Followers\", \"idx\": \"HN\", \"val\": 579.0}, {\"col\": \"Followers\", \"idx\": \"MA\", \"val\": 594.6666666666666}, {\"col\": \"Followers\", \"idx\": \"GQ\", \"val\": 611.5555555555555}, {\"col\": \"Followers\", \"idx\": \"UG\", \"val\": 657.5}, {\"col\": \"Followers\", \"idx\": \"SK\", \"val\": 694.5}, {\"col\": \"Followers\", \"idx\": \"SM\", \"val\": 736.0}, {\"col\": \"Followers\", \"idx\": \"KR\", \"val\": 828.0}, {\"col\": \"Followers\", \"idx\": \"TD\", \"val\": 968.4}, {\"col\": \"Followers\", \"idx\": \"GR\", \"val\": 981.7272727272727}, {\"col\": \"Followers\", \"idx\": \"IT\", \"val\": 991.3191489361702}, {\"col\": \"Followers\", \"idx\": \"FI\", \"val\": 1039.8333333333333}, {\"col\": \"Followers\", \"idx\": \"CA\", \"val\": 1048.1666666666667}, {\"col\": \"Followers\", \"idx\": \"PA\", \"val\": 1052.3076923076924}, {\"col\": \"Followers\", \"idx\": \"CR\", \"val\": 1064.111111111111}, {\"col\": \"Followers\", \"idx\": \"TH\", \"val\": 1086.0}, {\"col\": \"Followers\", \"idx\": \"JP\", \"val\": 1098.090909090909}, {\"col\": \"Followers\", \"idx\": \"AR\", \"val\": 1136.6666666666667}, {\"col\": \"Followers\", \"idx\": \"BD\", \"val\": 1144.0}, {\"col\": \"Followers\", \"idx\": \"NG\", \"val\": 1156.0}, {\"col\": \"Followers\", \"idx\": \"MG\", \"val\": 1178.0}, {\"col\": \"Followers\", \"idx\": \"ES\", \"val\": 1185.1454545454546}, {\"col\": \"Followers\", \"idx\": \"PG\", \"val\": 1219.6666666666667}, {\"col\": \"Followers\", \"idx\": \"JM\", \"val\": 1229.0526315789473}, {\"col\": \"Followers\", \"idx\": \"MX\", \"val\": 1262.9333333333334}, {\"col\": \"Followers\", \"idx\": \"ML\", \"val\": 1272.0}, {\"col\": \"Followers\", \"idx\": \"IN\", \"val\": 1297.3684210526317}, {\"col\": \"Followers\", \"idx\": \"GB\", \"val\": 1318.2280701754387}, {\"col\": \"Followers\", \"idx\": \"RO\", \"val\": 1335.0357142857142}, {\"col\": \"Followers\", \"idx\": \"GH\", \"val\": 1499.0}, {\"col\": \"Followers\", \"idx\": \"DE\", \"val\": 1520.2962962962963}, {\"col\": \"Followers\", \"idx\": \"BR\", \"val\": 1524.3992233009708}, {\"col\": \"Followers\", \"idx\": \"CH\", \"val\": 1608.090909090909}, {\"col\": \"Followers\", \"idx\": \"MT\", \"val\": 1637.0}, {\"col\": \"Followers\", \"idx\": \"CN\", \"val\": 1725.1666666666667}, {\"col\": \"Followers\", \"idx\": \"PK\", \"val\": 1726.5}, {\"col\": \"Followers\", \"idx\": \"RU\", \"val\": 1812.6363636363637}, {\"col\": \"Followers\", \"idx\": \"TR\", \"val\": 1955.1666666666667}, {\"col\": \"Followers\", \"idx\": \"BJ\", \"val\": 2068.0}, {\"col\": \"Followers\", \"idx\": \"CD\", \"val\": 2197.5}, {\"col\": \"Followers\", \"idx\": \"US\", \"val\": 2252.7591240875913}, {\"col\": \"Followers\", \"idx\": \"NO\", \"val\": 2265.0}, {\"col\": \"Followers\", \"idx\": \"PE\", \"val\": 2313.181818181818}, {\"col\": \"Followers\", \"idx\": \"CV\", \"val\": 2330.75}, {\"col\": \"Followers\", \"idx\": \"CO\", \"val\": 2425.3870967741937}, {\"col\": \"Followers\", \"idx\": \"PS\", \"val\": 2491.6111111111113}, {\"col\": \"Followers\", \"idx\": \"YE\", \"val\": 2555.9285714285716}, {\"col\": \"Followers\", \"idx\": \"CZ\", \"val\": 2612.2083333333335}, {\"col\": \"Followers\", \"idx\": \"IR\", \"val\": 2625.75}, {\"col\": \"Followers\", \"idx\": \"TN\", \"val\": 2636.6666666666665}, {\"col\": \"Followers\", \"idx\": \"MV\", \"val\": 2678.6666666666665}, {\"col\": \"Followers\", \"idx\": \"PY\", \"val\": 2867.0}, {\"col\": \"Followers\", \"idx\": \"KE\", \"val\": 2995.0}, {\"col\": \"Followers\", \"idx\": \"FR\", \"val\": 3059.0077519379847}, {\"col\": \"Followers\", \"idx\": \"SE\", \"val\": 3322.875}, {\"col\": \"Followers\", \"idx\": \"NL\", \"val\": 3334.7272727272725}, {\"col\": \"Followers\", \"idx\": \"AU\", \"val\": 3375.7708333333335}, {\"col\": \"Followers\", \"idx\": \"CL\", \"val\": 3434.0}, {\"col\": \"Followers\", \"idx\": \"CF\", \"val\": 3517.0}, {\"col\": \"Followers\", \"idx\": \"BH\", \"val\": 3661.5}, {\"col\": \"Followers\", \"idx\": \"MY\", \"val\": 3737.0}, {\"col\": \"Followers\", \"idx\": \"IE\", \"val\": 4203.6}, {\"col\": \"Followers\", \"idx\": \"ZA\", \"val\": 4205.428571428572}, {\"col\": \"Followers\", \"idx\": \"BF\", \"val\": 4360.5}, {\"col\": \"Followers\", \"idx\": \"EE\", \"val\": 4425.25}, {\"col\": \"Followers\", \"idx\": \"PT\", \"val\": 6447.32}, {\"col\": \"Followers\", \"idx\": \"MP\", \"val\": 7847.0}, {\"col\": \"Followers\", \"idx\": \"PR\", \"val\": 8341.0}, {\"col\": \"Followers\", \"idx\": \"LV\", \"val\": 126763.5}]}, {\"name\": \"stats\", \"source\": \"table\", \"transform\": [{\"keys\": [\"data.idx\"], \"type\": \"facet\"}, {\"type\": \"stats\", \"value\": \"data.val\"}]}], \"height\": 500, \"legends\": [], \"marks\": [{\"from\": {\"data\": \"table\", \"transform\": [{\"keys\": [\"data.col\"], \"type\": \"facet\"}, {\"height\": \"data.val\", \"point\": \"data.idx\", \"type\": \"stack\"}]}, \"marks\": [{\"properties\": {\"enter\": {\"fill\": {\"field\": \"data.col\", \"scale\": \"color\"}, \"width\": {\"band\": true, \"offset\": -1, \"scale\": \"x\"}, \"x\": {\"field\": \"data.idx\", \"scale\": \"x\"}, \"y\": {\"field\": \"y\", \"scale\": \"y\"}, \"y2\": {\"field\": \"y2\", \"scale\": \"y\"}}}, \"type\": \"rect\"}], \"type\": \"group\"}], \"padding\": \"auto\", \"scales\": [{\"domain\": {\"data\": \"table\", \"field\": \"data.idx\"}, \"name\": \"x\", \"range\": \"width\", \"type\": \"ordinal\", \"zero\": false}, {\"domain\": {\"data\": \"stats\", \"field\": \"sum\"}, \"name\": \"y\", \"nice\": true, \"range\": \"height\"}, {\"domain\": {\"data\": \"table\", \"field\": \"data.col\"}, \"name\": \"color\", \"range\": [\"#00aeef\"], \"type\": \"ordinal\"}], \"width\": 960}, function(chart) {\n",
       "         chart({el: \"#vis41cd2f8045aa4769b76a1809319a5954\"}).update();\n",
       "       });\n",
       "     };\n",
       "     _do_plot();\n",
       "   })();\n",
       "</script>\n",
       "<style>.vega canvas {width: 100%;}</style>\n",
       "        "
      ],
      "text/plain": [
       "<vincent.charts.Bar at 0x95bc410>"
      ]
     },
     "execution_count": 39,
     "metadata": {},
     "output_type": "execute_result"
    }
   ],
   "source": [
    "location_grouped = twitterData.groupby('UNGPLocation')\n",
    "mean_location_grouped = location_grouped.mean().dropna()\n",
    "mean_followers = mean_location_grouped.sort('Followers')['Followers']\n",
    "followersBar = vincent.Bar(mean_followers)\n",
    "followersBar.axis_titles(x='Country', y='Followers')\n",
    "from vincent.axes import AxisProperties\n",
    "from vincent.properties import PropertySet\n",
    "from vincent.values import ValueRef\n",
    "for axis in followersBar.axes:\n",
    "    axis.properties = AxisProperties()\n",
    "    for prop in ['ticks', 'axis', 'major_ticks', 'minor_ticks']:\n",
    "        setattr(axis.properties, prop, PropertySet(stroke=ValueRef(value=gpLightGray)))\n",
    "    axis.properties.title = PropertySet(font_size=ValueRef(value=20), \n",
    "                                        fill=ValueRef(value=gpLightGray))\n",
    "    axis.properties.labels = PropertySet(fill=ValueRef(value=gpLightGray))\n",
    "followersBar.axes[0].properties.labels.angle = ValueRef(value=0)\n",
    "followersBar.axes[0].properties.labels.align = ValueRef(value='center')\n",
    "followersBar.axes[0].properties.title.dy = ValueRef(value=20)\n",
    "followersBar.scales[2].range = [gpBlue]\n",
    "followersBar.to_json('../charts/followersBar.json')\n",
    "followersBar"
   ]
  },
  {
   "cell_type": "code",
   "execution_count": 40,
   "metadata": {
    "collapsed": false
   },
   "outputs": [
    {
     "data": {
      "text/html": [
       "<div id=\"vis37415947cb1a4f13b709f849319fa26b\"></div>\n",
       "<script>\n",
       "   ( function() {\n",
       "     var _do_plot = function() {\n",
       "       if (typeof vg === 'undefined') {\n",
       "         window.addEventListener('vincent_libs_loaded', _do_plot)\n",
       "         return;\n",
       "       }\n",
       "       vg.parse.spec({\"axes\": [{\"properties\": {\"axis\": {\"stroke\": {\"value\": \"#96999b\"}}, \"labels\": {\"align\": {\"value\": \"center\"}, \"angle\": {\"value\": 0}, \"fill\": {\"value\": \"#96999b\"}}, \"majorTicks\": {\"stroke\": {\"value\": \"#96999b\"}}, \"minorTicks\": {\"stroke\": {\"value\": \"#96999b\"}}, \"title\": {\"dy\": {\"value\": 20}, \"fill\": {\"value\": \"#96999b\"}, \"fontSize\": {\"value\": 20}}}, \"scale\": \"x\", \"title\": \"Country\", \"type\": \"x\"}, {\"properties\": {\"axis\": {\"stroke\": {\"value\": \"#96999b\"}}, \"labels\": {\"fill\": {\"value\": \"#96999b\"}}, \"majorTicks\": {\"stroke\": {\"value\": \"#96999b\"}}, \"minorTicks\": {\"stroke\": {\"value\": \"#96999b\"}}, \"title\": {\"fill\": {\"value\": \"#96999b\"}, \"fontSize\": {\"value\": 20}}}, \"scale\": \"y\", \"title\": \"Friends\", \"type\": \"y\"}], \"data\": [{\"name\": \"table\", \"values\": [{\"col\": \"Friends\", \"idx\": \"VE\", \"val\": 60.0}, {\"col\": \"Friends\", \"idx\": \"AF\", \"val\": 99.0}, {\"col\": \"Friends\", \"idx\": \"JO\", \"val\": 106.0}, {\"col\": \"Friends\", \"idx\": \"UG\", \"val\": 124.25}, {\"col\": \"Friends\", \"idx\": \"GM\", \"val\": 139.66666666666666}, {\"col\": \"Friends\", \"idx\": \"SX\", \"val\": 164.0}, {\"col\": \"Friends\", \"idx\": \"MZ\", \"val\": 174.0}, {\"col\": \"Friends\", \"idx\": \"GL\", \"val\": 180.5}, {\"col\": \"Friends\", \"idx\": \"NZ\", \"val\": 189.0}, {\"col\": \"Friends\", \"idx\": \"BT\", \"val\": 194.66666666666666}, {\"col\": \"Friends\", \"idx\": \"AT\", \"val\": 201.0}, {\"col\": \"Friends\", \"idx\": \"KY\", \"val\": 250.0}, {\"col\": \"Friends\", \"idx\": \"ME\", \"val\": 265.0}, {\"col\": \"Friends\", \"idx\": \"HU\", \"val\": 317.0}, {\"col\": \"Friends\", \"idx\": \"PH\", \"val\": 327.09090909090907}, {\"col\": \"Friends\", \"idx\": \"UA\", \"val\": 351.0}, {\"col\": \"Friends\", \"idx\": \"JM\", \"val\": 359.63157894736844}, {\"col\": \"Friends\", \"idx\": \"GQ\", \"val\": 391.0}, {\"col\": \"Friends\", \"idx\": \"MG\", \"val\": 395.0}, {\"col\": \"Friends\", \"idx\": \"SV\", \"val\": 413.2857142857143}, {\"col\": \"Friends\", \"idx\": \"MA\", \"val\": 418.0}, {\"col\": \"Friends\", \"idx\": \"PG\", \"val\": 432.6666666666667}, {\"col\": \"Friends\", \"idx\": \"SE\", \"val\": 495.75}, {\"col\": \"Friends\", \"idx\": \"SK\", \"val\": 500.0}, {\"col\": \"Friends\", \"idx\": \"KR\", \"val\": 511.0}, {\"col\": \"Friends\", \"idx\": \"BR\", \"val\": 547.2893203883496}, {\"col\": \"Friends\", \"idx\": \"HN\", \"val\": 557.0}, {\"col\": \"Friends\", \"idx\": \"UY\", \"val\": 571.4}, {\"col\": \"Friends\", \"idx\": \"ZA\", \"val\": 595.4285714285714}, {\"col\": \"Friends\", \"idx\": \"BD\", \"val\": 605.0}, {\"col\": \"Friends\", \"idx\": \"SM\", \"val\": 611.0}, {\"col\": \"Friends\", \"idx\": \"PA\", \"val\": 624.5384615384615}, {\"col\": \"Friends\", \"idx\": \"GR\", \"val\": 667.9545454545455}, {\"col\": \"Friends\", \"idx\": \"GB\", \"val\": 740.1228070175439}, {\"col\": \"Friends\", \"idx\": \"ML\", \"val\": 757.5}, {\"col\": \"Friends\", \"idx\": \"TD\", \"val\": 766.9}, {\"col\": \"Friends\", \"idx\": \"IT\", \"val\": 771.468085106383}, {\"col\": \"Friends\", \"idx\": \"AR\", \"val\": 805.0}, {\"col\": \"Friends\", \"idx\": \"CR\", \"val\": 808.3333333333334}, {\"col\": \"Friends\", \"idx\": \"NG\", \"val\": 810.0}, {\"col\": \"Friends\", \"idx\": \"MX\", \"val\": 851.6222222222223}, {\"col\": \"Friends\", \"idx\": \"TH\", \"val\": 854.25}, {\"col\": \"Friends\", \"idx\": \"GH\", \"val\": 912.75}, {\"col\": \"Friends\", \"idx\": \"ES\", \"val\": 927.3090909090909}, {\"col\": \"Friends\", \"idx\": \"JP\", \"val\": 965.1818181818181}, {\"col\": \"Friends\", \"idx\": \"FI\", \"val\": 1011.3333333333334}, {\"col\": \"Friends\", \"idx\": \"RO\", \"val\": 1014.8035714285714}, {\"col\": \"Friends\", \"idx\": \"DE\", \"val\": 1146.962962962963}, {\"col\": \"Friends\", \"idx\": \"PY\", \"val\": 1156.0}, {\"col\": \"Friends\", \"idx\": \"IN\", \"val\": 1168.8947368421052}, {\"col\": \"Friends\", \"idx\": \"CA\", \"val\": 1195.0}, {\"col\": \"Friends\", \"idx\": \"CD\", \"val\": 1199.0}, {\"col\": \"Friends\", \"idx\": \"RU\", \"val\": 1340.4545454545455}, {\"col\": \"Friends\", \"idx\": \"CN\", \"val\": 1340.75}, {\"col\": \"Friends\", \"idx\": \"MT\", \"val\": 1363.5}, {\"col\": \"Friends\", \"idx\": \"CH\", \"val\": 1408.9545454545455}, {\"col\": \"Friends\", \"idx\": \"PS\", \"val\": 1512.2222222222222}, {\"col\": \"Friends\", \"idx\": \"PK\", \"val\": 1531.0}, {\"col\": \"Friends\", \"idx\": \"TR\", \"val\": 1600.6666666666667}, {\"col\": \"Friends\", \"idx\": \"US\", \"val\": 1625.0729927007299}, {\"col\": \"Friends\", \"idx\": \"PE\", \"val\": 1760.2727272727273}, {\"col\": \"Friends\", \"idx\": \"CO\", \"val\": 1794.774193548387}, {\"col\": \"Friends\", \"idx\": \"CV\", \"val\": 1805.5}, {\"col\": \"Friends\", \"idx\": \"NO\", \"val\": 1874.125}, {\"col\": \"Friends\", \"idx\": \"MV\", \"val\": 1994.0}, {\"col\": \"Friends\", \"idx\": \"LV\", \"val\": 2026.0}, {\"col\": \"Friends\", \"idx\": \"BJ\", \"val\": 2056.0}, {\"col\": \"Friends\", \"idx\": \"YE\", \"val\": 2068.8571428571427}, {\"col\": \"Friends\", \"idx\": \"CF\", \"val\": 2104.0}, {\"col\": \"Friends\", \"idx\": \"TN\", \"val\": 2187.5}, {\"col\": \"Friends\", \"idx\": \"CZ\", \"val\": 2211.4583333333335}, {\"col\": \"Friends\", \"idx\": \"KE\", \"val\": 2334.0}, {\"col\": \"Friends\", \"idx\": \"FR\", \"val\": 2432.6821705426355}, {\"col\": \"Friends\", \"idx\": \"AU\", \"val\": 2441.5416666666665}, {\"col\": \"Friends\", \"idx\": \"NL\", \"val\": 2488.181818181818}, {\"col\": \"Friends\", \"idx\": \"CL\", \"val\": 2809.25}, {\"col\": \"Friends\", \"idx\": \"MY\", \"val\": 2867.777777777778}, {\"col\": \"Friends\", \"idx\": \"IR\", \"val\": 2910.75}, {\"col\": \"Friends\", \"idx\": \"BH\", \"val\": 3052.625}, {\"col\": \"Friends\", \"idx\": \"IE\", \"val\": 3279.6}, {\"col\": \"Friends\", \"idx\": \"EE\", \"val\": 3826.375}, {\"col\": \"Friends\", \"idx\": \"BF\", \"val\": 3926.375}, {\"col\": \"Friends\", \"idx\": \"PT\", \"val\": 5356.72}, {\"col\": \"Friends\", \"idx\": \"MP\", \"val\": 6095.0}, {\"col\": \"Friends\", \"idx\": \"PR\", \"val\": 6791.0}]}, {\"name\": \"stats\", \"source\": \"table\", \"transform\": [{\"keys\": [\"data.idx\"], \"type\": \"facet\"}, {\"type\": \"stats\", \"value\": \"data.val\"}]}], \"height\": 500, \"legends\": [], \"marks\": [{\"from\": {\"data\": \"table\", \"transform\": [{\"keys\": [\"data.col\"], \"type\": \"facet\"}, {\"height\": \"data.val\", \"point\": \"data.idx\", \"type\": \"stack\"}]}, \"marks\": [{\"properties\": {\"enter\": {\"fill\": {\"field\": \"data.col\", \"scale\": \"color\"}, \"width\": {\"band\": true, \"offset\": -1, \"scale\": \"x\"}, \"x\": {\"field\": \"data.idx\", \"scale\": \"x\"}, \"y\": {\"field\": \"y\", \"scale\": \"y\"}, \"y2\": {\"field\": \"y2\", \"scale\": \"y\"}}}, \"type\": \"rect\"}], \"type\": \"group\"}], \"padding\": \"auto\", \"scales\": [{\"domain\": {\"data\": \"table\", \"field\": \"data.idx\"}, \"name\": \"x\", \"range\": \"width\", \"type\": \"ordinal\", \"zero\": false}, {\"domain\": {\"data\": \"stats\", \"field\": \"sum\"}, \"name\": \"y\", \"nice\": true, \"range\": \"height\"}, {\"domain\": {\"data\": \"table\", \"field\": \"data.col\"}, \"name\": \"color\", \"range\": [\"#00447c\"], \"type\": \"ordinal\"}], \"width\": 960}, function(chart) {\n",
       "         chart({el: \"#vis37415947cb1a4f13b709f849319fa26b\"}).update();\n",
       "       });\n",
       "     };\n",
       "     _do_plot();\n",
       "   })();\n",
       "</script>\n",
       "<style>.vega canvas {width: 100%;}</style>\n",
       "        "
      ],
      "text/plain": [
       "<vincent.charts.Bar at 0x95bc750>"
      ]
     },
     "execution_count": 40,
     "metadata": {},
     "output_type": "execute_result"
    }
   ],
   "source": [
    "location_grouped = twitterData.groupby('UNGPLocation')\n",
    "mean_location_grouped = location_grouped.mean().dropna()\n",
    "mean_friends = mean_location_grouped.sort('Friends')['Friends']\n",
    "friendsBar = vincent.Bar(mean_friends)\n",
    "friendsBar.axis_titles(x='Country', y='Friends')\n",
    "for axis in friendsBar.axes:\n",
    "    axis.properties = AxisProperties()\n",
    "    for prop in ['ticks', 'axis', 'major_ticks', 'minor_ticks']:\n",
    "        setattr(axis.properties, prop, PropertySet(stroke=ValueRef(value=gpLightGray)))\n",
    "    axis.properties.title = PropertySet(font_size=ValueRef(value=20), \n",
    "                                        fill=ValueRef(value=gpLightGray))\n",
    "    axis.properties.labels = PropertySet(fill=ValueRef(value=gpLightGray))\n",
    "friendsBar.axes[0].properties.labels.angle = ValueRef(value=0)\n",
    "friendsBar.axes[0].properties.labels.align = ValueRef(value='center')\n",
    "friendsBar.axes[0].properties.title.dy = ValueRef(value=20)\n",
    "friendsBar.scales[2].range = [gpDarkBlue]\n",
    "friendsBar.to_json('../charts/friendsBar.json')\n",
    "friendsBar"
   ]
  },
  {
   "cell_type": "code",
   "execution_count": 41,
   "metadata": {
    "collapsed": false
   },
   "outputs": [
    {
     "data": {
      "text/html": [
       "<div id=\"vis26b3d2b4c0c945d2b4d8633081fa8784\"></div>\n",
       "<script>\n",
       "   ( function() {\n",
       "     var _do_plot = function() {\n",
       "       if (typeof vg === 'undefined') {\n",
       "         window.addEventListener('vincent_libs_loaded', _do_plot)\n",
       "         return;\n",
       "       }\n",
       "       vg.parse.spec({\"axes\": [{\"properties\": {\"axis\": {\"stroke\": {\"value\": \"#96999b\"}}, \"labels\": {\"align\": {\"value\": \"center\"}, \"angle\": {\"value\": 0}, \"fill\": {\"value\": \"#96999b\"}}, \"majorTicks\": {\"stroke\": {\"value\": \"#96999b\"}}, \"minorTicks\": {\"stroke\": {\"value\": \"#96999b\"}}, \"title\": {\"dy\": {\"value\": 20}, \"fill\": {\"value\": \"#96999b\"}, \"fontSize\": {\"value\": 20}}}, \"scale\": \"x\", \"title\": \"Country\", \"type\": \"x\"}, {\"properties\": {\"axis\": {\"stroke\": {\"value\": \"#96999b\"}}, \"labels\": {\"fill\": {\"value\": \"#96999b\"}}, \"majorTicks\": {\"stroke\": {\"value\": \"#96999b\"}}, \"minorTicks\": {\"stroke\": {\"value\": \"#96999b\"}}, \"title\": {\"fill\": {\"value\": \"#96999b\"}, \"fontSize\": {\"value\": 20}}}, \"scale\": \"y\", \"title\": \"Average Gender Probablility\", \"type\": \"y\"}], \"data\": [{\"name\": \"table\", \"values\": [{\"col\": \"UNGPGenderProb\", \"idx\": \"AF\", \"val\": 0.5}, {\"col\": \"UNGPGenderProb\", \"idx\": \"GM\", \"val\": 0.5}, {\"col\": \"UNGPGenderProb\", \"idx\": \"TD\", \"val\": 0.7488767876320276}, {\"col\": \"UNGPGenderProb\", \"idx\": \"UG\", \"val\": 0.75}, {\"col\": \"UNGPGenderProb\", \"idx\": \"BF\", \"val\": 0.8519357671391967}, {\"col\": \"UNGPGenderProb\", \"idx\": \"GR\", \"val\": 0.8629136083285637}, {\"col\": \"UNGPGenderProb\", \"idx\": \"BH\", \"val\": 0.8726284584935449}, {\"col\": \"UNGPGenderProb\", \"idx\": \"PT\", \"val\": 0.8775589692108572}, {\"col\": \"UNGPGenderProb\", \"idx\": \"NL\", \"val\": 0.8883828200374914}, {\"col\": \"UNGPGenderProb\", \"idx\": \"JP\", \"val\": 0.8962103828052093}, {\"col\": \"UNGPGenderProb\", \"idx\": \"DE\", \"val\": 0.9056307368282243}, {\"col\": \"UNGPGenderProb\", \"idx\": \"MA\", \"val\": 0.9278178040575344}, {\"col\": \"UNGPGenderProb\", \"idx\": \"RO\", \"val\": 0.932336945031247}, {\"col\": \"UNGPGenderProb\", \"idx\": \"AT\", \"val\": 0.9334897888332597}, {\"col\": \"UNGPGenderProb\", \"idx\": \"FR\", \"val\": 0.9418853186796358}, {\"col\": \"UNGPGenderProb\", \"idx\": \"AU\", \"val\": 0.9429579570300407}, {\"col\": \"UNGPGenderProb\", \"idx\": \"PS\", \"val\": 0.9503028306185015}, {\"col\": \"UNGPGenderProb\", \"idx\": \"PH\", \"val\": 0.9508028711127826}, {\"col\": \"UNGPGenderProb\", \"idx\": \"IN\", \"val\": 0.9532789132921444}, {\"col\": \"UNGPGenderProb\", \"idx\": \"JM\", \"val\": 0.9536550601006394}, {\"col\": \"UNGPGenderProb\", \"idx\": \"IT\", \"val\": 0.9565097634469746}, {\"col\": \"UNGPGenderProb\", \"idx\": \"US\", \"val\": 0.9575418435296166}, {\"col\": \"UNGPGenderProb\", \"idx\": \"BR\", \"val\": 0.9654037539992195}, {\"col\": \"UNGPGenderProb\", \"idx\": \"AR\", \"val\": 0.9727654217842914}, {\"col\": \"UNGPGenderProb\", \"idx\": \"MX\", \"val\": 0.9728189300750233}, {\"col\": \"UNGPGenderProb\", \"idx\": \"KR\", \"val\": 0.9740082012957076}, {\"col\": \"UNGPGenderProb\", \"idx\": \"GB\", \"val\": 0.97507961572164}, {\"col\": \"UNGPGenderProb\", \"idx\": \"MY\", \"val\": 0.9758881402349929}, {\"col\": \"UNGPGenderProb\", \"idx\": \"CV\", \"val\": 0.9771966543191472}, {\"col\": \"UNGPGenderProb\", \"idx\": \"TN\", \"val\": 0.9813866693251653}, {\"col\": \"UNGPGenderProb\", \"idx\": \"GH\", \"val\": 0.9816292850989046}, {\"col\": \"UNGPGenderProb\", \"idx\": \"EE\", \"val\": 0.9817707708381118}, {\"col\": \"UNGPGenderProb\", \"idx\": \"PE\", \"val\": 0.98354349058543}, {\"col\": \"UNGPGenderProb\", \"idx\": \"FI\", \"val\": 0.9873678007385873}, {\"col\": \"UNGPGenderProb\", \"idx\": \"CZ\", \"val\": 0.9904369200734694}, {\"col\": \"UNGPGenderProb\", \"idx\": \"CD\", \"val\": 0.9913148228745419}, {\"col\": \"UNGPGenderProb\", \"idx\": \"ES\", \"val\": 0.9920206313659398}, {\"col\": \"UNGPGenderProb\", \"idx\": \"IE\", \"val\": 0.9928321344452224}, {\"col\": \"UNGPGenderProb\", \"idx\": \"RU\", \"val\": 0.9930847096602021}, {\"col\": \"UNGPGenderProb\", \"idx\": \"CA\", \"val\": 0.9933383086470192}, {\"col\": \"UNGPGenderProb\", \"idx\": \"SK\", \"val\": 0.9937704883473348}, {\"col\": \"UNGPGenderProb\", \"idx\": \"CH\", \"val\": 0.9940452312397694}, {\"col\": \"UNGPGenderProb\", \"idx\": \"IR\", \"val\": 0.9941703364340031}, {\"col\": \"UNGPGenderProb\", \"idx\": \"UY\", \"val\": 0.9948302394921612}, {\"col\": \"UNGPGenderProb\", \"idx\": \"KY\", \"val\": 0.9949652328919975}, {\"col\": \"UNGPGenderProb\", \"idx\": \"GQ\", \"val\": 0.9950112498048272}, {\"col\": \"UNGPGenderProb\", \"idx\": \"KE\", \"val\": 0.9950489204442591}, {\"col\": \"UNGPGenderProb\", \"idx\": \"PY\", \"val\": 0.9950989543953898}, {\"col\": \"UNGPGenderProb\", \"idx\": \"SV\", \"val\": 0.9957034094006085}, {\"col\": \"UNGPGenderProb\", \"idx\": \"HN\", \"val\": 0.9958985522479546}, {\"col\": \"UNGPGenderProb\", \"idx\": \"PR\", \"val\": 0.9959099708681007}, {\"col\": \"UNGPGenderProb\", \"idx\": \"MP\", \"val\": 0.9960736867046394}, {\"col\": \"UNGPGenderProb\", \"idx\": \"YE\", \"val\": 0.9966137660397395}, {\"col\": \"UNGPGenderProb\", \"idx\": \"JO\", \"val\": 0.9966251542193871}, {\"col\": \"UNGPGenderProb\", \"idx\": \"PG\", \"val\": 0.9966648251961112}, {\"col\": \"UNGPGenderProb\", \"idx\": \"LV\", \"val\": 0.9967212128504391}, {\"col\": \"UNGPGenderProb\", \"idx\": \"CR\", \"val\": 0.996783609627141}, {\"col\": \"UNGPGenderProb\", \"idx\": \"HU\", \"val\": 0.9968833822242322}, {\"col\": \"UNGPGenderProb\", \"idx\": \"CN\", \"val\": 0.9973428904418528}, {\"col\": \"UNGPGenderProb\", \"idx\": \"CO\", \"val\": 0.9974264828366943}, {\"col\": \"UNGPGenderProb\", \"idx\": \"UA\", \"val\": 0.9979482634101503}, {\"col\": \"UNGPGenderProb\", \"idx\": \"PA\", \"val\": 0.9979598188539738}, {\"col\": \"UNGPGenderProb\", \"idx\": \"ZA\", \"val\": 0.9981679893031413}, {\"col\": \"UNGPGenderProb\", \"idx\": \"SX\", \"val\": 0.9984701086680288}, {\"col\": \"UNGPGenderProb\", \"idx\": \"TR\", \"val\": 0.998596218169646}, {\"col\": \"UNGPGenderProb\", \"idx\": \"VE\", \"val\": 0.9989388043862752}, {\"col\": \"UNGPGenderProb\", \"idx\": \"MT\", \"val\": 0.9991347082090128}, {\"col\": \"UNGPGenderProb\", \"idx\": \"PK\", \"val\": 0.9991567434967036}, {\"col\": \"UNGPGenderProb\", \"idx\": \"TH\", \"val\": 0.999565168071993}, {\"col\": \"UNGPGenderProb\", \"idx\": \"NO\", \"val\": 0.999746192893401}, {\"col\": \"UNGPGenderProb\", \"idx\": \"BD\", \"val\": 1.0}, {\"col\": \"UNGPGenderProb\", \"idx\": \"BJ\", \"val\": 1.0}, {\"col\": \"UNGPGenderProb\", \"idx\": \"BT\", \"val\": 1.0}, {\"col\": \"UNGPGenderProb\", \"idx\": \"MG\", \"val\": 1.0}, {\"col\": \"UNGPGenderProb\", \"idx\": \"CF\", \"val\": 1.0}, {\"col\": \"UNGPGenderProb\", \"idx\": \"NZ\", \"val\": 1.0}, {\"col\": \"UNGPGenderProb\", \"idx\": \"ML\", \"val\": 1.0}, {\"col\": \"UNGPGenderProb\", \"idx\": \"SM\", \"val\": 1.0}, {\"col\": \"UNGPGenderProb\", \"idx\": \"SE\", \"val\": 1.0}, {\"col\": \"UNGPGenderProb\", \"idx\": \"MV\", \"val\": 1.0}, {\"col\": \"UNGPGenderProb\", \"idx\": \"MZ\", \"val\": 1.0}, {\"col\": \"UNGPGenderProb\", \"idx\": \"NG\", \"val\": 1.0}, {\"col\": \"UNGPGenderProb\", \"idx\": \"GL\", \"val\": 1.0}, {\"col\": \"UNGPGenderProb\", \"idx\": \"CL\", \"val\": 1.0}, {\"col\": \"UNGPGenderProb\", \"idx\": \"ME\", \"val\": 1.0}]}, {\"name\": \"stats\", \"source\": \"table\", \"transform\": [{\"keys\": [\"data.idx\"], \"type\": \"facet\"}, {\"type\": \"stats\", \"value\": \"data.val\"}]}], \"height\": 500, \"legends\": [], \"marks\": [{\"from\": {\"data\": \"table\", \"transform\": [{\"keys\": [\"data.col\"], \"type\": \"facet\"}, {\"height\": \"data.val\", \"point\": \"data.idx\", \"type\": \"stack\"}]}, \"marks\": [{\"properties\": {\"enter\": {\"fill\": {\"field\": \"data.col\", \"scale\": \"color\"}, \"width\": {\"band\": true, \"offset\": -1, \"scale\": \"x\"}, \"x\": {\"field\": \"data.idx\", \"scale\": \"x\"}, \"y\": {\"field\": \"y\", \"scale\": \"y\"}, \"y2\": {\"field\": \"y2\", \"scale\": \"y\"}}}, \"type\": \"rect\"}], \"type\": \"group\"}], \"padding\": \"auto\", \"scales\": [{\"domain\": {\"data\": \"table\", \"field\": \"data.idx\"}, \"name\": \"x\", \"range\": \"width\", \"type\": \"ordinal\", \"zero\": false}, {\"domain\": {\"data\": \"stats\", \"field\": \"sum\"}, \"name\": \"y\", \"nice\": true, \"range\": \"height\"}, {\"domain\": {\"data\": \"table\", \"field\": \"data.col\"}, \"name\": \"color\", \"range\": [\"#cf5c42\"], \"type\": \"ordinal\"}], \"width\": 960}, function(chart) {\n",
       "         chart({el: \"#vis26b3d2b4c0c945d2b4d8633081fa8784\"}).update();\n",
       "       });\n",
       "     };\n",
       "     _do_plot();\n",
       "   })();\n",
       "</script>\n",
       "<style>.vega canvas {width: 100%;}</style>\n",
       "        "
      ],
      "text/plain": [
       "<vincent.charts.Bar at 0x95d7910>"
      ]
     },
     "execution_count": 41,
     "metadata": {},
     "output_type": "execute_result"
    }
   ],
   "source": [
    "location_grouped = twitterData.groupby('UNGPLocation')\n",
    "mean_location_grouped = location_grouped.mean().dropna()\n",
    "mean_genderProb = mean_location_grouped.sort('UNGPGenderProb')['UNGPGenderProb']\n",
    "genderProb = vincent.Bar(mean_genderProb)\n",
    "genderProb.axis_titles(x='Country', y='Average Gender Probablility')\n",
    "for axis in genderProb.axes:\n",
    "    axis.properties = AxisProperties()\n",
    "    for prop in ['ticks', 'axis', 'major_ticks', 'minor_ticks']:\n",
    "        setattr(axis.properties, prop, PropertySet(stroke=ValueRef(value=gpLightGray)))\n",
    "    axis.properties.title = PropertySet(font_size=ValueRef(value=20), \n",
    "                                        fill=ValueRef(value=gpLightGray))\n",
    "    axis.properties.labels = PropertySet(fill=ValueRef(value=gpLightGray))\n",
    "genderProb.axes[0].properties.labels.angle = ValueRef(value=0)\n",
    "genderProb.axes[0].properties.labels.align = ValueRef(value='center')\n",
    "genderProb.axes[0].properties.title.dy = ValueRef(value=20)\n",
    "genderProb.scales[2].range = [gpRed]\n",
    "genderProb.to_json('../charts/genderProbBar.json')\n",
    "genderProb"
   ]
  },
  {
   "cell_type": "code",
   "execution_count": 42,
   "metadata": {
    "collapsed": false
   },
   "outputs": [
    {
     "name": "stderr",
     "output_type": "stream",
     "text": [
      "/usr/local/lib/python2.7/dist-packages/mpld3/mplexporter/exporter.py:82: UserWarning: Blended transforms not yet supported. Zoom behavior may not work as expected.\n",
      "  warnings.warn(\"Blended transforms not yet supported. \"\n"
     ]
    },
    {
     "ename": "AttributeError",
     "evalue": "'BlendedGenericTransform' object has no attribute 'contains_branch'",
     "output_type": "error",
     "traceback": [
      "\u001b[1;31m---------------------------------------------------------------------------\u001b[0m\n\u001b[1;31mAttributeError\u001b[0m                            Traceback (most recent call last)",
      "\u001b[1;32m<ipython-input-42-f2b9fce17639>\u001b[0m in \u001b[0;36m<module>\u001b[1;34m()\u001b[0m\n\u001b[0;32m      2\u001b[0m \u001b[0mgatesCountry\u001b[0m \u001b[1;33m=\u001b[0m \u001b[0mtwitterData\u001b[0m\u001b[1;33m.\u001b[0m\u001b[0mUNGPLocation\u001b[0m\u001b[1;33m.\u001b[0m\u001b[0mvalue_counts\u001b[0m\u001b[1;33m(\u001b[0m\u001b[0mnormalize\u001b[0m\u001b[1;33m=\u001b[0m\u001b[0mFalse\u001b[0m\u001b[1;33m,\u001b[0m \u001b[0msort\u001b[0m\u001b[1;33m=\u001b[0m\u001b[0mTrue\u001b[0m\u001b[1;33m,\u001b[0m \u001b[0mascending\u001b[0m\u001b[1;33m=\u001b[0m\u001b[0mFalse\u001b[0m\u001b[1;33m,\u001b[0m \u001b[0mbins\u001b[0m\u001b[1;33m=\u001b[0m\u001b[0mNone\u001b[0m\u001b[1;33m)\u001b[0m\u001b[1;33m\u001b[0m\u001b[0m\n\u001b[0;32m      3\u001b[0m \u001b[0mgatesCountryFig\u001b[0m \u001b[1;33m=\u001b[0m \u001b[0mgatesCountry\u001b[0m\u001b[1;33m.\u001b[0m\u001b[0mplot\u001b[0m\u001b[1;33m(\u001b[0m\u001b[0mkind\u001b[0m\u001b[1;33m=\u001b[0m\u001b[1;34m'barh'\u001b[0m\u001b[1;33m,\u001b[0m \u001b[0mcolor\u001b[0m\u001b[1;33m=\u001b[0m\u001b[1;34m'#00aeef'\u001b[0m\u001b[1;33m)\u001b[0m\u001b[1;33m\u001b[0m\u001b[0m\n\u001b[1;32m----> 4\u001b[1;33m \u001b[0mmpld3\u001b[0m\u001b[1;33m.\u001b[0m\u001b[0mdisplay\u001b[0m\u001b[1;33m(\u001b[0m\u001b[1;33m)\u001b[0m\u001b[1;33m\u001b[0m\u001b[0m\n\u001b[0m",
      "\u001b[1;32m/usr/local/lib/python2.7/dist-packages/mpld3/_display.pyc\u001b[0m in \u001b[0;36mdisplay\u001b[1;34m(fig, closefig, local, **kwargs)\u001b[0m\n\u001b[0;32m    288\u001b[0m     \u001b[1;32mif\u001b[0m \u001b[0mclosefig\u001b[0m\u001b[1;33m:\u001b[0m\u001b[1;33m\u001b[0m\u001b[0m\n\u001b[0;32m    289\u001b[0m         \u001b[0mplt\u001b[0m\u001b[1;33m.\u001b[0m\u001b[0mclose\u001b[0m\u001b[1;33m(\u001b[0m\u001b[0mfig\u001b[0m\u001b[1;33m)\u001b[0m\u001b[1;33m\u001b[0m\u001b[0m\n\u001b[1;32m--> 290\u001b[1;33m     \u001b[1;32mreturn\u001b[0m \u001b[0mHTML\u001b[0m\u001b[1;33m(\u001b[0m\u001b[0mfig_to_html\u001b[0m\u001b[1;33m(\u001b[0m\u001b[0mfig\u001b[0m\u001b[1;33m,\u001b[0m \u001b[1;33m**\u001b[0m\u001b[0mkwargs\u001b[0m\u001b[1;33m)\u001b[0m\u001b[1;33m)\u001b[0m\u001b[1;33m\u001b[0m\u001b[0m\n\u001b[0m\u001b[0;32m    291\u001b[0m \u001b[1;33m\u001b[0m\u001b[0m\n\u001b[0;32m    292\u001b[0m \u001b[1;33m\u001b[0m\u001b[0m\n",
      "\u001b[1;32m/usr/local/lib/python2.7/dist-packages/mpld3/_display.pyc\u001b[0m in \u001b[0;36mfig_to_html\u001b[1;34m(fig, d3_url, mpld3_url, no_extras, template_type, figid, use_http, **kwargs)\u001b[0m\n\u001b[0;32m    223\u001b[0m \u001b[1;33m\u001b[0m\u001b[0m\n\u001b[0;32m    224\u001b[0m     \u001b[0mrenderer\u001b[0m \u001b[1;33m=\u001b[0m \u001b[0mMPLD3Renderer\u001b[0m\u001b[1;33m(\u001b[0m\u001b[1;33m)\u001b[0m\u001b[1;33m\u001b[0m\u001b[0m\n\u001b[1;32m--> 225\u001b[1;33m     \u001b[0mExporter\u001b[0m\u001b[1;33m(\u001b[0m\u001b[0mrenderer\u001b[0m\u001b[1;33m,\u001b[0m \u001b[0mclose_mpl\u001b[0m\u001b[1;33m=\u001b[0m\u001b[0mFalse\u001b[0m\u001b[1;33m,\u001b[0m \u001b[1;33m**\u001b[0m\u001b[0mkwargs\u001b[0m\u001b[1;33m)\u001b[0m\u001b[1;33m.\u001b[0m\u001b[0mrun\u001b[0m\u001b[1;33m(\u001b[0m\u001b[0mfig\u001b[0m\u001b[1;33m)\u001b[0m\u001b[1;33m\u001b[0m\u001b[0m\n\u001b[0m\u001b[0;32m    226\u001b[0m \u001b[1;33m\u001b[0m\u001b[0m\n\u001b[0;32m    227\u001b[0m     \u001b[0mfig\u001b[0m\u001b[1;33m,\u001b[0m \u001b[0mfigure_json\u001b[0m\u001b[1;33m,\u001b[0m \u001b[0mextra_css\u001b[0m\u001b[1;33m,\u001b[0m \u001b[0mextra_js\u001b[0m \u001b[1;33m=\u001b[0m \u001b[0mrenderer\u001b[0m\u001b[1;33m.\u001b[0m\u001b[0mfinished_figures\u001b[0m\u001b[1;33m[\u001b[0m\u001b[1;36m0\u001b[0m\u001b[1;33m]\u001b[0m\u001b[1;33m\u001b[0m\u001b[0m\n",
      "\u001b[1;32m/usr/local/lib/python2.7/dist-packages/mpld3/mplexporter/exporter.pyc\u001b[0m in \u001b[0;36mrun\u001b[1;34m(self, fig)\u001b[0m\n\u001b[0;32m     47\u001b[0m             \u001b[1;32mimport\u001b[0m \u001b[0mmatplotlib\u001b[0m\u001b[1;33m.\u001b[0m\u001b[0mpyplot\u001b[0m \u001b[1;32mas\u001b[0m \u001b[0mplt\u001b[0m\u001b[1;33m\u001b[0m\u001b[0m\n\u001b[0;32m     48\u001b[0m             \u001b[0mplt\u001b[0m\u001b[1;33m.\u001b[0m\u001b[0mclose\u001b[0m\u001b[1;33m(\u001b[0m\u001b[0mfig\u001b[0m\u001b[1;33m)\u001b[0m\u001b[1;33m\u001b[0m\u001b[0m\n\u001b[1;32m---> 49\u001b[1;33m         \u001b[0mself\u001b[0m\u001b[1;33m.\u001b[0m\u001b[0mcrawl_fig\u001b[0m\u001b[1;33m(\u001b[0m\u001b[0mfig\u001b[0m\u001b[1;33m)\u001b[0m\u001b[1;33m\u001b[0m\u001b[0m\n\u001b[0m\u001b[0;32m     50\u001b[0m \u001b[1;33m\u001b[0m\u001b[0m\n\u001b[0;32m     51\u001b[0m     \u001b[1;33m@\u001b[0m\u001b[0mstaticmethod\u001b[0m\u001b[1;33m\u001b[0m\u001b[0m\n",
      "\u001b[1;32m/usr/local/lib/python2.7/dist-packages/mpld3/mplexporter/exporter.pyc\u001b[0m in \u001b[0;36mcrawl_fig\u001b[1;34m(self, fig)\u001b[0m\n\u001b[0;32m    114\u001b[0m                                        props=utils.get_figure_properties(fig)):\n\u001b[0;32m    115\u001b[0m             \u001b[1;32mfor\u001b[0m \u001b[0max\u001b[0m \u001b[1;32min\u001b[0m \u001b[0mfig\u001b[0m\u001b[1;33m.\u001b[0m\u001b[0maxes\u001b[0m\u001b[1;33m:\u001b[0m\u001b[1;33m\u001b[0m\u001b[0m\n\u001b[1;32m--> 116\u001b[1;33m                 \u001b[0mself\u001b[0m\u001b[1;33m.\u001b[0m\u001b[0mcrawl_ax\u001b[0m\u001b[1;33m(\u001b[0m\u001b[0max\u001b[0m\u001b[1;33m)\u001b[0m\u001b[1;33m\u001b[0m\u001b[0m\n\u001b[0m\u001b[0;32m    117\u001b[0m \u001b[1;33m\u001b[0m\u001b[0m\n\u001b[0;32m    118\u001b[0m     \u001b[1;32mdef\u001b[0m \u001b[0mcrawl_ax\u001b[0m\u001b[1;33m(\u001b[0m\u001b[0mself\u001b[0m\u001b[1;33m,\u001b[0m \u001b[0max\u001b[0m\u001b[1;33m)\u001b[0m\u001b[1;33m:\u001b[0m\u001b[1;33m\u001b[0m\u001b[0m\n",
      "\u001b[1;32m/usr/local/lib/python2.7/dist-packages/mpld3/mplexporter/exporter.pyc\u001b[0m in \u001b[0;36mcrawl_ax\u001b[1;34m(self, ax)\u001b[0m\n\u001b[0;32m    121\u001b[0m                                      props=utils.get_axes_properties(ax)):\n\u001b[0;32m    122\u001b[0m             \u001b[1;32mfor\u001b[0m \u001b[0mline\u001b[0m \u001b[1;32min\u001b[0m \u001b[0max\u001b[0m\u001b[1;33m.\u001b[0m\u001b[0mlines\u001b[0m\u001b[1;33m:\u001b[0m\u001b[1;33m\u001b[0m\u001b[0m\n\u001b[1;32m--> 123\u001b[1;33m                 \u001b[0mself\u001b[0m\u001b[1;33m.\u001b[0m\u001b[0mdraw_line\u001b[0m\u001b[1;33m(\u001b[0m\u001b[0max\u001b[0m\u001b[1;33m,\u001b[0m \u001b[0mline\u001b[0m\u001b[1;33m)\u001b[0m\u001b[1;33m\u001b[0m\u001b[0m\n\u001b[0m\u001b[0;32m    124\u001b[0m             \u001b[1;32mfor\u001b[0m \u001b[0mtext\u001b[0m \u001b[1;32min\u001b[0m \u001b[0max\u001b[0m\u001b[1;33m.\u001b[0m\u001b[0mtexts\u001b[0m\u001b[1;33m:\u001b[0m\u001b[1;33m\u001b[0m\u001b[0m\n\u001b[0;32m    125\u001b[0m                 \u001b[0mself\u001b[0m\u001b[1;33m.\u001b[0m\u001b[0mdraw_text\u001b[0m\u001b[1;33m(\u001b[0m\u001b[0max\u001b[0m\u001b[1;33m,\u001b[0m \u001b[0mtext\u001b[0m\u001b[1;33m)\u001b[0m\u001b[1;33m\u001b[0m\u001b[0m\n",
      "\u001b[1;32m/usr/local/lib/python2.7/dist-packages/mpld3/mplexporter/exporter.pyc\u001b[0m in \u001b[0;36mdraw_line\u001b[1;34m(self, ax, line, force_trans)\u001b[0m\n\u001b[0;32m    177\u001b[0m         coordinates, data = self.process_transform(line.get_transform(),\n\u001b[0;32m    178\u001b[0m                                                    \u001b[0max\u001b[0m\u001b[1;33m,\u001b[0m \u001b[0mline\u001b[0m\u001b[1;33m.\u001b[0m\u001b[0mget_xydata\u001b[0m\u001b[1;33m(\u001b[0m\u001b[1;33m)\u001b[0m\u001b[1;33m,\u001b[0m\u001b[1;33m\u001b[0m\u001b[0m\n\u001b[1;32m--> 179\u001b[1;33m                                                    force_trans=force_trans)\n\u001b[0m\u001b[0;32m    180\u001b[0m         \u001b[0mlinestyle\u001b[0m \u001b[1;33m=\u001b[0m \u001b[0mutils\u001b[0m\u001b[1;33m.\u001b[0m\u001b[0mget_line_style\u001b[0m\u001b[1;33m(\u001b[0m\u001b[0mline\u001b[0m\u001b[1;33m)\u001b[0m\u001b[1;33m\u001b[0m\u001b[0m\n\u001b[0;32m    181\u001b[0m         \u001b[1;32mif\u001b[0m \u001b[0mlinestyle\u001b[0m\u001b[1;33m[\u001b[0m\u001b[1;34m'dasharray'\u001b[0m\u001b[1;33m]\u001b[0m \u001b[1;32min\u001b[0m \u001b[1;33m[\u001b[0m\u001b[1;34m'None'\u001b[0m\u001b[1;33m,\u001b[0m \u001b[1;34m'none'\u001b[0m\u001b[1;33m,\u001b[0m \u001b[0mNone\u001b[0m\u001b[1;33m]\u001b[0m\u001b[1;33m:\u001b[0m\u001b[1;33m\u001b[0m\u001b[0m\n",
      "\u001b[1;32m/usr/local/lib/python2.7/dist-packages/mpld3/mplexporter/exporter.pyc\u001b[0m in \u001b[0;36mprocess_transform\u001b[1;34m(transform, ax, data, return_trans, force_trans)\u001b[0m\n\u001b[0;32m     94\u001b[0m                                \u001b[1;33m(\u001b[0m\u001b[1;34m\"figure\"\u001b[0m\u001b[1;33m,\u001b[0m \u001b[0max\u001b[0m\u001b[1;33m.\u001b[0m\u001b[0mfigure\u001b[0m\u001b[1;33m.\u001b[0m\u001b[0mtransFigure\u001b[0m\u001b[1;33m)\u001b[0m\u001b[1;33m,\u001b[0m\u001b[1;33m\u001b[0m\u001b[0m\n\u001b[0;32m     95\u001b[0m                                (\"display\", transforms.IdentityTransform())]:\n\u001b[1;32m---> 96\u001b[1;33m                 \u001b[1;32mif\u001b[0m \u001b[0mtransform\u001b[0m\u001b[1;33m.\u001b[0m\u001b[0mcontains_branch\u001b[0m\u001b[1;33m(\u001b[0m\u001b[0mtrans\u001b[0m\u001b[1;33m)\u001b[0m\u001b[1;33m:\u001b[0m\u001b[1;33m\u001b[0m\u001b[0m\n\u001b[0m\u001b[0;32m     97\u001b[0m                     \u001b[0mcode\u001b[0m\u001b[1;33m,\u001b[0m \u001b[0mtransform\u001b[0m \u001b[1;33m=\u001b[0m \u001b[1;33m(\u001b[0m\u001b[0mc\u001b[0m\u001b[1;33m,\u001b[0m \u001b[0mtransform\u001b[0m \u001b[1;33m-\u001b[0m \u001b[0mtrans\u001b[0m\u001b[1;33m)\u001b[0m\u001b[1;33m\u001b[0m\u001b[0m\n\u001b[0;32m     98\u001b[0m                     \u001b[1;32mbreak\u001b[0m\u001b[1;33m\u001b[0m\u001b[0m\n",
      "\u001b[1;31mAttributeError\u001b[0m: 'BlendedGenericTransform' object has no attribute 'contains_branch'"
     ]
    }
   ],
   "source": [
    "mpld3.enable_notebook()\n",
    "gatesCountry = twitterData.UNGPLocation.value_counts(normalize=False, sort=True, ascending=False, bins=None)\n",
    "gatesCountryFig = gatesCountry.plot(kind='barh', color='#00aeef')\n",
    "mpld3.display()"
   ]
  },
  {
   "cell_type": "code",
   "execution_count": 70,
   "metadata": {
    "collapsed": false
   },
   "outputs": [
    {
     "ename": "TypeError",
     "evalue": "'module' object is not callable",
     "output_type": "error",
     "traceback": [
      "\u001b[1;31m---------------------------------------------------------------------------\u001b[0m\n\u001b[1;31mTypeError\u001b[0m                                 Traceback (most recent call last)",
      "\u001b[1;32m<ipython-input-70-4d0126b5e38a>\u001b[0m in \u001b[0;36m<module>\u001b[1;34m()\u001b[0m\n\u001b[0;32m      2\u001b[0m (ggplot(gg.aes(x='UNGPLocation'), data=gatesData)\n\u001b[0;32m      3\u001b[0m \u001b[1;33m+\u001b[0m \u001b[0mgg\u001b[0m\u001b[1;33m.\u001b[0m\u001b[0mgeom_bar\u001b[0m\u001b[1;33m(\u001b[0m\u001b[1;33m)\u001b[0m \u001b[1;33m+\u001b[0m \u001b[0mgg\u001b[0m\u001b[1;33m.\u001b[0m\u001b[0mggtitle\u001b[0m\u001b[1;33m(\u001b[0m\u001b[1;34m\"Gates Tweets\"\u001b[0m\u001b[1;33m)\u001b[0m\u001b[1;33m\u001b[0m\u001b[0m\n\u001b[1;32m----> 4\u001b[1;33m + gg.labs(\"Country\", \"Number of tweets\"))\n\u001b[0m",
      "\u001b[1;31mTypeError\u001b[0m: 'module' object is not callable"
     ]
    }
   ],
   "source": [
    "import ggplot as gg\n",
    "(ggplot(gg.aes(x='UNGPLocation'), data=twitterData)\n",
    "+ gg.geom_bar() + gg.ggtitle(\"Gates Tweets\")\n",
    "+ gg.labs(\"Country\", \"Number of tweets\"))"
   ]
  },
  {
   "cell_type": "code",
   "execution_count": 77,
   "metadata": {
    "collapsed": false
   },
   "outputs": [
    {
     "ename": "NameError",
     "evalue": "name 'aes' is not defined",
     "output_type": "error",
     "traceback": [
      "\u001b[1;31m---------------------------------------------------------------------------\u001b[0m\n\u001b[1;31mNameError\u001b[0m                                 Traceback (most recent call last)",
      "\u001b[1;32m<ipython-input-77-44d726a8e92c>\u001b[0m in \u001b[0;36m<module>\u001b[1;34m()\u001b[0m\n\u001b[1;32m----> 1\u001b[1;33m \u001b[0mlanguagePlot\u001b[0m \u001b[1;33m=\u001b[0m \u001b[0mggplot\u001b[0m\u001b[1;33m(\u001b[0m\u001b[0maes\u001b[0m\u001b[1;33m(\u001b[0m\u001b[0mx\u001b[0m\u001b[1;33m=\u001b[0m\u001b[1;34m'DataSiftLanguage'\u001b[0m\u001b[1;33m)\u001b[0m\u001b[1;33m,\u001b[0m \u001b[0mdata\u001b[0m\u001b[1;33m=\u001b[0m\u001b[0mgatesData\u001b[0m\u001b[1;33m)\u001b[0m \u001b[1;33m+\u001b[0m \u001b[0mgeom_bar\u001b[0m\u001b[1;33m(\u001b[0m\u001b[1;33m)\u001b[0m \u001b[1;33m+\u001b[0m \u001b[0mggtitle\u001b[0m\u001b[1;33m(\u001b[0m\u001b[1;34m\"Language Distribution\"\u001b[0m\u001b[1;33m)\u001b[0m \u001b[1;33m+\u001b[0m \u001b[0mlabs\u001b[0m\u001b[1;33m(\u001b[0m\u001b[1;34m\"Language\"\u001b[0m\u001b[1;33m,\u001b[0m \u001b[1;34m\"Number of tweets\"\u001b[0m\u001b[1;33m)\u001b[0m\u001b[1;33m\u001b[0m\u001b[0m\n\u001b[0m\u001b[0;32m      2\u001b[0m \u001b[0mlanguagePlot\u001b[0m\u001b[1;33m\u001b[0m\u001b[0m\n",
      "\u001b[1;31mNameError\u001b[0m: name 'aes' is not defined"
     ]
    }
   ],
   "source": [
    "languagePlot = ggplot(aes(x='DataSiftLanguage'), data=twitterData) + geom_bar() + ggtitle(\"Language Distribution\") + labs(\"Language\", \"Number of tweets\")\n",
    "languagePlot"
   ]
  },
  {
   "cell_type": "code",
   "execution_count": 1,
   "metadata": {
    "collapsed": false
   },
   "outputs": [
    {
     "data": {
      "text/html": [
       "<style>\n",
       "@import url(https://fonts.googleapis.com/css?family=Roboto+Slab:400,100);\n",
       "@import url(https://fonts.googleapis.com/css?family=Roboto+Mono:300);\n",
       "\n",
       "body{\n",
       "  font-family: \"Helvetica\", \"Helvetica Neue\", sans-serif;\n",
       "}\n",
       "\n",
       "#notebook {\n",
       "  font-size: 1.1em !important;\n",
       "  font-weight: 100;\n",
       "}\n",
       "\n",
       "a {\n",
       "\tcolor: #138331;\n",
       "}\n",
       "\n",
       "h1, h2, h3, h4, h5 {\n",
       "  font-family: \"Roboto Slab\", sans-serif;\n",
       "  font-weight: 100 !important;\n",
       "}\n",
       "\n",
       ".CodeMirror{\n",
       "  font-family: \"Roboto Mono\", monospace;\n",
       "  font-weight: 300;\n",
       "}\n",
       "\n",
       "div.prompt{\n",
       "  font-family: \"Roboto Mono\", monospace;\n",
       "  font-weight: 300;\n",
       "}\n",
       "\n",
       "</style>\n"
      ],
      "text/plain": [
       "<IPython.core.display.HTML object>"
      ]
     },
     "execution_count": 1,
     "metadata": {},
     "output_type": "execute_result"
    }
   ],
   "source": [
    "from IPython.core.display import HTML\n",
    "styles = open(\"../css/custom.css\", \"r\").read()\n",
    "HTML(styles)"
   ]
  },
  {
   "cell_type": "code",
   "execution_count": null,
   "metadata": {
    "collapsed": false
   },
   "outputs": [],
   "source": []
  }
 ],
 "metadata": {
  "kernelspec": {
   "display_name": "Python 2",
   "language": "python",
   "name": "python2"
  },
  "language_info": {
   "codemirror_mode": {
    "name": "ipython",
    "version": 2
   },
   "file_extension": ".py",
   "mimetype": "text/x-python",
   "name": "python",
   "nbconvert_exporter": "python",
   "pygments_lexer": "ipython2",
   "version": "2.7.10"
  }
 },
 "nbformat": 4,
 "nbformat_minor": 0
}
