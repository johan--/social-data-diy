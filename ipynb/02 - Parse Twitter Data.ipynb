{
 "cells": [
  {
   "cell_type": "markdown",
   "metadata": {},
   "source": [
    "# Parse Twitter Data"
   ]
  },
  {
   "cell_type": "markdown",
   "metadata": {},
   "source": [
    "1. Import retrieved tweets (from JSON file, pickle or similar)\n",
    "2. Read in individual tweets\n",
    "5. Create CSV file (and drop unwanted data)"
   ]
  },
  {
   "cell_type": "markdown",
   "metadata": {},
   "source": [
    "## Get Data and Enrich It"
   ]
  },
  {
   "cell_type": "code",
   "execution_count": 14,
   "metadata": {
    "collapsed": false
   },
   "outputs": [],
   "source": [
    "import sys,re,json,os,csv\n",
    "import numpy as np\n",
    "import cPickle as pickle\n",
    "import uuid\n",
    "from IPython.display import display_javascript, display_html, display"
   ]
  },
  {
   "cell_type": "markdown",
   "metadata": {},
   "source": [
    "## Read Pickle File with Tweets "
   ]
  },
  {
   "cell_type": "code",
   "execution_count": 15,
   "metadata": {
    "collapsed": true
   },
   "outputs": [],
   "source": [
    "picklepath = '../data/raw/tweets.p'"
   ]
  },
  {
   "cell_type": "code",
   "execution_count": 16,
   "metadata": {
    "collapsed": true
   },
   "outputs": [],
   "source": [
    "tweets = pickle.load( open(picklepath, \"rb\" ) )"
   ]
  },
  {
   "cell_type": "markdown",
   "metadata": {},
   "source": [
    "## Number of Tweets"
   ]
  },
  {
   "cell_type": "code",
   "execution_count": 17,
   "metadata": {
    "collapsed": false
   },
   "outputs": [
    {
     "name": "stdout",
     "output_type": "stream",
     "text": [
      "We have 281 tweets in total\n"
     ]
    }
   ],
   "source": [
    "print('We have %d tweets in total' % len(tweets))"
   ]
  },
  {
   "cell_type": "markdown",
   "metadata": {},
   "source": [
    "## What Does a Tweet Look Like?\n",
    "Let's make JSON look nice (with thanks to [Renderjson](http://caldwell.github.io/renderjson/))"
   ]
  },
  {
   "cell_type": "code",
   "execution_count": 18,
   "metadata": {
    "collapsed": true
   },
   "outputs": [],
   "source": [
    "class RenderJSON(object):\n",
    "    def __init__(self, json_data):\n",
    "        if isinstance(json_data, dict):\n",
    "            self.json_str = json.dumps(json_data)\n",
    "        else:\n",
    "            self.json_str = json\n",
    "        self.uuid = str(uuid.uuid4())\n",
    "\n",
    "    def _ipython_display_(self):\n",
    "        display_html('<div id=\"{}\" style=\"height: 600px; width:100%;\"></div>'.format(self.uuid),\n",
    "            raw=True\n",
    "        )\n",
    "        display_javascript(\"\"\"\n",
    "        require([\"https://rawgit.com/caldwell/renderjson/master/renderjson.js\"], function() {\n",
    "          document.getElementById('%s').appendChild(renderjson(%s))\n",
    "        });\n",
    "        \"\"\" % (self.uuid, self.json_str), raw=True)"
   ]
  },
  {
   "cell_type": "code",
   "execution_count": 45,
   "metadata": {
    "collapsed": false
   },
   "outputs": [
    {
     "data": {
      "text/html": [
       "<div id=\"27199b71-dcf5-466e-8260-28fe5d5a05f8\" style=\"height: 600px; width:100%;\"></div>"
      ]
     },
     "metadata": {},
     "output_type": "display_data"
    },
    {
     "data": {
      "application/javascript": [
       "\n",
       "        require([\"https://rawgit.com/caldwell/renderjson/master/renderjson.js\"], function() {\n",
       "          document.getElementById('27199b71-dcf5-466e-8260-28fe5d5a05f8').appendChild(renderjson({\"contributors\": null, \"truncated\": false, \"text\": \"@sinksync BUT THEN THE FUCKING GAME LAGS HALFWAY THROUGH AND YOU CANT EVEN GET THE C COMBO I WANT TO DIE\", \"is_quote_status\": false, \"in_reply_to_status_id\": 559123972961603584, \"id\": 559124051336368129, \"favorite_count\": 0, \"source\": \"<a href=\\\"http://twitter.com/#!/download/ipad\\\" rel=\\\"nofollow\\\">Twitter for iPad</a>\", \"retweeted\": false, \"coordinates\": null, \"entities\": {\"symbols\": [], \"user_mentions\": [], \"hashtags\": [], \"urls\": []}, \"in_reply_to_screen_name\": \"grandmarth\", \"in_reply_to_user_id\": 1963720441, \"retweet_count\": 0, \"id_str\": \"559124051336368129\", \"favorited\": false, \"user\": {\"follow_request_sent\": false, \"has_extended_profile\": true, \"profile_use_background_image\": true, \"id\": 1963720441, \"verified\": false, \"profile_text_color\": \"333333\", \"profile_image_url_https\": \"https://pbs.twimg.com/profile_images/680979231199899648/fs_RM5L7_normal.jpg\", \"profile_sidebar_fill_color\": \"FFFFFF\", \"is_translator\": false, \"geo_enabled\": true, \"entities\": {\"url\": {\"urls\": [{\"url\": \"https://t.co/f0B0MkI08Z\", \"indices\": [0, 23], \"expanded_url\": \"http://radical-6.tumblr.com\", \"display_url\": \"radical-6.tumblr.com\"}]}, \"description\": {\"urls\": []}}, \"followers_count\": 148, \"protected\": false, \"location\": \"shitposter extraordinare\", \"default_profile_image\": false, \"id_str\": \"1963720441\", \"lang\": \"en\", \"utc_offset\": -28800, \"statuses_count\": 50800, \"description\": \"sink | intj | 21 | filthy elitist | neutral trash | hella gay | @remypost: fuck of you naoya apologist\", \"friends_count\": 87, \"profile_link_color\": \"93A644\", \"profile_image_url\": \"http://pbs.twimg.com/profile_images/680979231199899648/fs_RM5L7_normal.jpg\", \"notifications\": false, \"profile_background_image_url_https\": \"https://abs.twimg.com/images/themes/theme13/bg.gif\", \"profile_background_color\": \"B2DFDA\", \"profile_banner_url\": \"https://pbs.twimg.com/profile_banners/1963720441/1451900372\", \"profile_background_image_url\": \"http://abs.twimg.com/images/themes/theme13/bg.gif\", \"name\": \"8 br\\u00fat\\u00e1l\\u00eft\\u00ff dr\\u00edv\\u00ea\\u015b\", \"is_translation_enabled\": false, \"profile_background_tile\": false, \"favourites_count\": 29229, \"screen_name\": \"grandmarth\", \"url\": \"https://t.co/f0B0MkI08Z\", \"created_at\": \"Wed Oct 16 00:51:23 +0000 2013\", \"contributors_enabled\": false, \"time_zone\": \"Pacific Time (US & Canada)\", \"profile_sidebar_border_color\": \"EEEEEE\", \"default_profile\": false, \"following\": false, \"listed_count\": 4}, \"geo\": null, \"in_reply_to_user_id_str\": \"1963720441\", \"lang\": \"en\", \"created_at\": \"Sat Jan 24 23:02:16 +0000 2015\", \"in_reply_to_status_id_str\": \"559123972961603584\", \"place\": null}))\n",
       "        });\n",
       "        "
      ]
     },
     "metadata": {},
     "output_type": "display_data"
    }
   ],
   "source": [
    "RenderJSON(tweets[12])"
   ]
  },
  {
   "cell_type": "markdown",
   "metadata": {},
   "source": [
    "## Get Rid of Line Breaks in Tweets"
   ]
  },
  {
   "cell_type": "code",
   "execution_count": 7,
   "metadata": {
    "collapsed": false
   },
   "outputs": [
    {
     "name": "stdout",
     "output_type": "stream",
     "text": [
      "Failed removing line breaks in 0 tweets\n"
     ]
    }
   ],
   "source": [
    "tweetLinebreakError=0\n",
    "\n",
    "for tweet in tweets:\n",
    "  try:\n",
    "    tweet['text'] = tweet['text'].replace('\\n', ' ').replace('\\r', '')\n",
    "  except:\n",
    "    tweetLinebreakError+=1\n",
    "    tweet['text'] = 'NaN'\n",
    "\n",
    "print('Failed removing line breaks in %d tweets' % tweetLinebreakError)"
   ]
  },
  {
   "cell_type": "markdown",
   "metadata": {},
   "source": [
    "## Save Data to Disk"
   ]
  },
  {
   "cell_type": "markdown",
   "metadata": {},
   "source": [
    "### Save as JSON"
   ]
  },
  {
   "cell_type": "code",
   "execution_count": 11,
   "metadata": {
    "collapsed": false
   },
   "outputs": [],
   "source": [
    "with open('../data/allTweets.json','wb') as f: f.write(json.dumps(tweets))"
   ]
  },
  {
   "cell_type": "markdown",
   "metadata": {},
   "source": [
    "### Save as Pickle file"
   ]
  },
  {
   "cell_type": "code",
   "execution_count": 12,
   "metadata": {
    "collapsed": false
   },
   "outputs": [],
   "source": [
    "pickle.dump(tweets, open('../data/allTweets.p', \"wb\" ) )\n",
    "with open('../data/allTweets.json','wb') as f: f.write(json.dumps(tweets))"
   ]
  },
  {
   "cell_type": "markdown",
   "metadata": {},
   "source": [
    "### Save as TSV"
   ]
  },
  {
   "cell_type": "code",
   "execution_count": 13,
   "metadata": {
    "collapsed": false
   },
   "outputs": [
    {
     "ename": "NameError",
     "evalue": "name 'header' is not defined",
     "output_type": "error",
     "traceback": [
      "\u001b[0;31m---------------------------------------------------------------------------\u001b[0m",
      "\u001b[0;31mNameError\u001b[0m                                 Traceback (most recent call last)",
      "\u001b[0;32m<ipython-input-13-a2d941e68ded>\u001b[0m in \u001b[0;36m<module>\u001b[0;34m()\u001b[0m\n\u001b[1;32m      1\u001b[0m \u001b[0moutFile\u001b[0m\u001b[0;34m=\u001b[0m\u001b[0mcsv\u001b[0m\u001b[0;34m.\u001b[0m\u001b[0mwriter\u001b[0m\u001b[0;34m(\u001b[0m\u001b[0mopen\u001b[0m\u001b[0;34m(\u001b[0m\u001b[0;34m'../data/allTweets.tsv'\u001b[0m\u001b[0;34m,\u001b[0m\u001b[0;34m'wb'\u001b[0m\u001b[0;34m)\u001b[0m\u001b[0;34m,\u001b[0m\u001b[0mdelimiter\u001b[0m\u001b[0;34m=\u001b[0m\u001b[0;34m'\\t'\u001b[0m\u001b[0;34m)\u001b[0m\u001b[0;34m\u001b[0m\u001b[0m\n\u001b[0;32m----> 2\u001b[0;31m \u001b[0moutFile\u001b[0m\u001b[0;34m.\u001b[0m\u001b[0mwriterow\u001b[0m\u001b[0;34m(\u001b[0m\u001b[0mheader\u001b[0m\u001b[0;34m)\u001b[0m\u001b[0;34m\u001b[0m\u001b[0m\n\u001b[0m",
      "\u001b[0;31mNameError\u001b[0m: name 'header' is not defined"
     ]
    }
   ],
   "source": [
    "header=['Tweets ID','Tweet Time','Tweet Text','Tweet Language','User Location','User Followers','User Friends']\n",
    "outFile=csv.writer(open('../data/allTweets.tsv','wb'),delimiter='\\t')\n",
    "outFile.writerow(header)"
   ]
  },
  {
   "cell_type": "code",
   "execution_count": null,
   "metadata": {
    "collapsed": false
   },
   "outputs": [],
   "source": [
    "nIdError=0\n",
    "nDateError=0\n",
    "nTextError=0\n",
    "nLanguageError=0\n",
    "nLocationError=0\n",
    "nLikesError=0\n",
    "nRetweetsError=0\n",
    "nFollowersError=0\n",
    "nFriendsError=0\n",
    "nTagsError=0\n",
    "nMentionsError=0\n",
    "nLinksError=0\n",
    "nDomainsError=0\n",
    "nDescriptionError=0\n",
    "nScreenNameError=0\n",
    "\n",
    "documents=[]\n",
    "\n",
    "for tweet in tweets:\n",
    "  outList=[]\n",
    "  try:\n",
    "    outList.append(tweet['id'])\n",
    "    documents.append(tweet['id'])\n",
    "  except:\n",
    "    outList.append('NaN')\n",
    "    documents.append('NaN')\n",
    "    nIdError+=1\n",
    "  try:\n",
    "    outList.append(tweet['created_at'])\n",
    "    documents.append(tweet['created_at'])\n",
    "  except:\n",
    "    outList.append('NaN')\n",
    "    documents.append('NaN')\n",
    "    nDateError+=1\n",
    "  try:\n",
    "    outList.append(tweet['text'].encode('utf-8'))\n",
    "    documents.append(tweet['text'].encode('utf-8'))\n",
    "  except:\n",
    "    outList.append('NaN')\n",
    "    documents.append('NaN')\n",
    "    nTextError+=1\n",
    "  try:\n",
    "    outList.append(tweet['lang'])\n",
    "    documents.append(tweet['lang'])\n",
    "  except:\n",
    "    outList.append('NaN')\n",
    "    documents.append('NaN')\n",
    "    nLanguageError+=1\n",
    "  try:\n",
    "    outList.append(tweet['user']['location'].encode('utf-8'))\n",
    "    documents.append(tweet['user']['location'].encode('utf-8'))\n",
    "  except:\n",
    "    outList.append('NaN')\n",
    "    documents.append('NaN')\n",
    "    nLocationError+=1\n",
    "  try:\n",
    "    outList.append(tweet['geo'].encode('utf-8'))\n",
    "    documents.append(tweet['geo'].encode('utf-8'))\n",
    "  except:\n",
    "    outList.append('NaN')\n",
    "    documents.append('NaN')\n",
    "    nGeoeoError+=1\n",
    "  try:\n",
    "    outList.append(tweet['place'].encode('utf-8'))\n",
    "    documents.append(tweet['place'].encode('utf-8'))\n",
    "  except:\n",
    "    outList.append('NaN')\n",
    "    documents.append('NaN')\n",
    "    nUngpPlaceError+=1\n",
    "  try:\n",
    "    outList.append(tweet['favorite_count'])\n",
    "    documents.append(tweet['favorite_count'])\n",
    "  except:\n",
    "    outList.append('NaN')\n",
    "    documents.append('NaN')\n",
    "    nLikesError+=1\n",
    "  try:\n",
    "    outList.append(tweet['retweet_count'])\n",
    "    documents.append(tweet['retweet_count'])\n",
    "  except:\n",
    "    outList.append('NaN')\n",
    "    documents.append('NaN')\n",
    "    nRetweetsError+=1\n",
    "  try:\n",
    "    outList.append(tweet['user']['followers_count'])\n",
    "    documents.append(tweet['user']['followers_count'])\n",
    "  except:\n",
    "    outList.append('NaN')\n",
    "    documents.append('NaN')\n",
    "    nFollowersError+=1\n",
    "  try:\n",
    "    outList.append(tweet['user']['friends_count'])\n",
    "    documents.append(tweet['user']['friends_count'])\n",
    "  except:\n",
    "    outList.append('NaN')\n",
    "    documents.append('NaN')\n",
    "    nFriendsError+=1\n",
    "  try:\n",
    "    outList.append(tweet['user']['listed_count'])\n",
    "    documents.append(tweet['user']['listed_count'])\n",
    "  except:\n",
    "    outList.append('NaN')\n",
    "    documents.append('NaN')\n",
    "    nListedError+=1\n",
    "  try:\n",
    "    outList.append(tweet['user']['favourites_count'])\n",
    "    documents.append(tweet['user']['favourites_count'])\n",
    "  except:\n",
    "    outList.append('NaN')\n",
    "    documents.append('NaN')\n",
    "    nFavouritesError+=1\n",
    "  try:\n",
    "    tweetTags=','.join([h.lower() for h in tweet['entities']['hashtags']])\n",
    "    outList.append(tweetTags.decode('utf-8'))\n",
    "    documents.append(tweetTags.decode('utf-8'))\n",
    "  except:\n",
    "    nTagsError+=1\n",
    "    outList.append('NaN')\n",
    "    documents.append('NaN')\n",
    "  try:\n",
    "    tweetMentions=','.join([m.lower() for m in tweet['entities']['user_mentions']])\n",
    "    outList.append(tweetMentions.decode('utf-8'))\n",
    "    documents.append(tweetMentions.decode('utf-8'))\n",
    "  except:\n",
    "    nMentionsError+=1\n",
    "    outList.append('NaN')\n",
    "    documents.append('NaN')\n",
    "  try:\n",
    "    tweetLinks=','.join([m.lower() for m in tweet['entities']['urls']])\n",
    "    outList.append(tweetLinks.decode('utf-8'))\n",
    "    documents.append(tweetLinks.decode('utf-8'))\n",
    "  except:\n",
    "    nLinksError+=1\n",
    "    outList.append('NaN')\n",
    "    documents.append('NaN')\n",
    "  try:\n",
    "    outList.append(tweet['user']['description'].encode('utf-8'))\n",
    "    documents.append(tweet['user']['description'].encode('utf-8'))\n",
    "  except:\n",
    "    nDescriptionError+=1\n",
    "    outList.append('NaN')\n",
    "    documents.append('NaN')\n",
    "  try:\n",
    "    outList.append(tweet['twitter']['user']['screen_name'].encode('utf-8'))\n",
    "    documents.append(tweet['twitter']['user']['screen_name'].encode('utf-8'))\n",
    "  except:\n",
    "    nScreenNameError+=1\n",
    "    outList.append('NaN')\n",
    "    documents.append('NaN')\n",
    "    \n",
    "            \n",
    "  outFile.writerow(outList)\n",
    "\n",
    "print \"%d ID errors.\" % nIdError\n",
    "print \"%d Date errors.\" % nDateError\n",
    "print \"%d Content errors.\" % nContentError\n",
    "print \"%d Type errors.\" % nTypeError\n",
    "print \"%d DataSift language errors.\" % nLanguageError\n",
    "print \"%d Twitter language errors.\" % nTwitterLanguageError\n",
    "print \"%d Twitter Location errors.\" % nLocationError\n",
    "print \"%d UNGP Location errors.\" % nUngpLocationError\n",
    "print \"%d Gender errors.\" % nGenderError\n",
    "print \"%d UNGP gender errors.\" % nUngpGenderError\n",
    "print \"%d UNGP gender probability errors.\" % nUngpGenderProbError\n",
    "print \"%d Follower errors.\" % nFollowersError\n",
    "print \"%d Friends errors.\" % nFriendsError\n",
    "print \"%d Topic Key errors.\" % nTopicKeyError\n",
    "print \"%d Topic Value errors.\" % nTopicValueError\n",
    "print \"%d Topic errors.\" % nTopicError\n",
    "print \"%d Topic lengtherrors.\" % nTopicLengthError\n",
    "print \"%d Interaction hashtag errors.\" % nTagsError\n",
    "print \"%d Interaction mention errors.\" % nMentionsError\n",
    "print \"%d Interaction link errors.\" % nLinksError\n",
    "print \"%d Domain errors.\" % nDomainsError\n",
    "print \"%d Description errors.\" % nDescriptionError\n",
    "print \"%d Screen name errors.\" % nScreenNameError"
   ]
  },
  {
   "cell_type": "code",
   "execution_count": 48,
   "metadata": {
    "collapsed": false
   },
   "outputs": [
    {
     "data": {
      "text/html": [
       "<style>\n",
       "@import url(https://fonts.googleapis.com/css?family=Roboto+Slab:400,100);\n",
       "@import url(https://fonts.googleapis.com/css?family=Roboto+Mono:300);\n",
       "\n",
       "body{\n",
       "  font-family: \"Helvetica\", \"Helvetica Neue\", sans-serif;\n",
       "}\n",
       "\n",
       "#notebook {\n",
       "  font-size: 1.1em !important;\n",
       "  font-weight: 100;\n",
       "}\n",
       "\n",
       "a {\n",
       "\tcolor: #497285;\n",
       "}\n",
       "\n",
       "h1, h2, h3, h4, h5 {\n",
       "  font-family: \"Roboto Slab\", sans-serif;\n",
       "  font-weight: 100 !important;\n",
       "}\n",
       "\n",
       ".CodeMirror{\n",
       "  font-family: \"Roboto Mono\", monospace;\n",
       "  font-weight: 300;\n",
       "}\n",
       "\n",
       "div.prompt{\n",
       "  font-family: \"Roboto Mono\", monospace;\n",
       "  font-weight: 300;\n",
       "}\n",
       "\n",
       ".renderjson a              { text-decoration: none; }\n",
       ".renderjson .disclosure    { color: crimson;\n",
       "                             font-size: 150%; }\n",
       ".renderjson .syntax        { color: grey; }\n",
       ".renderjson .string        { color: black; }\n",
       ".renderjson .number        { color: #0CCA98; }\n",
       ".renderjson .boolean       { color: #5E366A; }\n",
       ".renderjson .key           { color: #497285; }\n",
       ".renderjson .keyword       { color: #2B4450; }\n",
       ".renderjson .object.syntax { color: #3FBAC2; }\n",
       ".renderjson .array.syntax  { color: #F78536; }\n",
       "\n",
       "</style>\n"
      ],
      "text/plain": [
       "<IPython.core.display.HTML object>"
      ]
     },
     "execution_count": 48,
     "metadata": {},
     "output_type": "execute_result"
    }
   ],
   "source": [
    "from IPython.core.display import HTML\n",
    "styles = open(\"../css/custom.css\", \"r\").read()\n",
    "HTML(styles)"
   ]
  },
  {
   "cell_type": "code",
   "execution_count": null,
   "metadata": {
    "collapsed": true
   },
   "outputs": [],
   "source": []
  }
 ],
 "metadata": {
  "kernelspec": {
   "display_name": "Python 2",
   "language": "python",
   "name": "python2"
  },
  "language_info": {
   "codemirror_mode": {
    "name": "ipython",
    "version": 2
   },
   "file_extension": ".py",
   "mimetype": "text/x-python",
   "name": "python",
   "nbconvert_exporter": "python",
   "pygments_lexer": "ipython2",
   "version": "2.7.11"
  }
 },
 "nbformat": 4,
 "nbformat_minor": 0
}
