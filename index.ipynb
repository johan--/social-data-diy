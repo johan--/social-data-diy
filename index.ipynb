{
 "cells": [
  {
   "cell_type": "markdown",
   "metadata": {},
   "source": [
    "<h1>Social Data + <span style=\"color:#497285\">You</span> + Jupyter</h1>"
   ]
  },
  {
   "cell_type": "markdown",
   "metadata": {},
   "source": [
    "<p style=\"font-size:18px\">Social Data DIY is a few simple scripts <b>getting social data</b> and <b>visualising</b> a few interesting tidbits.</p>\n",
    "\n",
    "<br>\n",
    "<a class='button' href='https://dev.twitter.com/overview/documentation' style='font-weight: 100; text-decoration: none !important; padding-left: 20px; padding-right: 20px; padding-top: 10px; padding-bottom: 10px; margin-right: 20px; border: 1px solid #497285; box-shadow: inset 0px 1px 0px 0px rgba(255,255,255,0.30); border-radius: 3px; font-size: 14px; color: #497285; line-height: 16px;'>Twitter Docs</a>\n",
    "<a class='button' style='font-weight: 100; text-decoration: none !important; padding-left: 20px; padding-right: 20px; padding-top: 10px; padding-bottom: 10px; margin-right: 20px; border: 1px solid #497285; box-shadow: inset 0px 1px 0px 0px rgba(255,255,255,0.30); border-radius: 3px; font-size: 14px; color: #497285; line-height: 16px;' href=''>Project page (later)</a>\n",
    "<a class='button' style='font-weight: 100; text-decoration: none !important; padding-left: 20px; padding-right: 20px; padding-top: 10px; padding-bottom: 10px; margin-right: 20px; border: 1px solid #497285; box-shadow: inset 0px 1px 0px 0px rgba(255,255,255,0.30); border-radius: 3px; font-size: 14px; color: #497285; line-height: 16px;' href='https://github.com/renecnielsen/social-data-diy'>Github</a>\n",
    "<br><br>"
   ]
  },
  {
   "cell_type": "markdown",
   "metadata": {},
   "source": [
    "## What's in Social Data DIY?\n",
    "\n",
    "1. Get Tweets\n",
    "  1. [Get Tweets by Tweet IDs](ipynb/01a%20Fetch%20Tweets%20by%20Tweet%20ID.ipynb)\n",
    "  1. Get Tweets by searching for keywords\n",
    "1. Save to database\n",
    "1. Count tweets\n",
    "1. etc.\n"
   ]
  },
  {
   "cell_type": "markdown",
   "metadata": {},
   "source": [
    "<hr style=\"border-top-width: 2px; border-top-color: #497285;\">"
   ]
  },
  {
   "cell_type": "markdown",
   "metadata": {},
   "source": [
    "## What You Can Expect"
   ]
  },
  {
   "cell_type": "markdown",
   "metadata": {},
   "source": [
    "### Plots\n",
    "\n",
    "<a data-content=\"Scatter\" href=\"plots/scatter.ipynb\" class=\"test\" style='padding-bottom: 5px'><img class='thumbnail' style='float: left; width: 21%; height: 21%; margin-right: 15px; margin-top: 15px; -web-kit-shadow: None !important; box-shadow: None !important; margin-bottom: 0px;' src=\"https://raw.githubusercontent.com/lightning-viz/lightning-default-index/master/thumbnails/scatter.png\"></a>\n",
    "\n",
    "<a data-content=\"Line\" href=\"plots/line.ipynb\" class=\"test\"><img class='thumbnail'style='float: left; width: 21%; height: 21%; margin-right: 15px; margin-top: 15px; -web-kit-shadow: None !important; box-shadow: None !important; margin-bottom: 0px;' src=\"https://raw.githubusercontent.com/lightning-viz/lightning-default-index/master/thumbnails/line.png\"></a>\n",
    "\n",
    "<a data-content=\"Force\" href=\"plots/force.ipynb\" class=\"test\"><img class='thumbnail' style='float: left; width: 21%; height: 21%; margin-right: 15px; margin-top: 15px; -web-kit-shadow: None !important; box-shadow: None !important; margin-bottom: 0px;' src=\"https://raw.githubusercontent.com/lightning-viz/lightning-default-index/master/thumbnails/force.png\"></a>\n",
    "\n",
    "<a data-content=\"Graph\" href=\"plots/graph.ipynb\" class=\"test\"><img class='thumbnail' style='float: left; width: 21%; height: 21%; margin-right: 15px; margin-top: 15px; -web-kit-shadow: None !important; box-shadow: None !important; margin-bottom: 0px;' src=\"https://raw.githubusercontent.com/lightning-viz/lightning-default-index/master/thumbnails/graph.png\"></a>\n",
    "\n",
    "<a data-content=\"Matrix\" href=\"plots/matrix.ipynb\" class=\"test\"><img class='thumbnail' style='float: left; width: 21%; height: 21%; margin-right: 15px; margin-top: 15px; -web-kit-shadow: None !important; box-shadow: None !important; margin-bottom: 0px;' src=\"https://raw.githubusercontent.com/lightning-viz/lightning-default-index/master/thumbnails/matrix.png\"></a>\n",
    "\n",
    "<a data-content=\"Map\" href=\"plots/map.ipynb\" class=\"test\"><img class='thumbnail' style='float: left; width: 21%; height: 21%; margin-right: 15px; margin-top: 15px; -web-kit-shadow: None !important; box-shadow: None !important; margin-bottom: 0px;' src=\"https://raw.githubusercontent.com/lightning-viz/lightning-default-index/master/thumbnails/map.png\"></a>\n",
    "\n",
    "<a data-content=\"Histogram\" href=\"plots/histogram.ipynb\" class=\"test\"><img class='thumbnail' style='float: left; width: 21%; height: 21%; margin-right: 15px; margin-top: 15px; -web-kit-shadow: None !important; box-shadow: None !important; margin-bottom: 0px;' src=\"https://raw.githubusercontent.com/lightning-viz/lightning-default-index/master/thumbnails/histogram.png\"></a>\n",
    "\n",
    "<a data-content=\"Circle\" href=\"plots/circle.ipynb\" class=\"test\"><img class='thumbnail' style='float: left; width: 21%; height: 21%; margin-right: 15px; margin-top: 15px; -web-kit-shadow: None !important; box-shadow: None !important; margin-bottom: 0px;' src=\"https://raw.githubusercontent.com/lightning-viz/lightning-default-index/master/thumbnails/circle.png\"></a>\n"
   ]
  },
  {
   "cell_type": "markdown",
   "metadata": {},
   "source": [
    "<hr style=\"border-top-width: 2px; border-top-color: #497285;\">"
   ]
  },
  {
   "cell_type": "markdown",
   "metadata": {},
   "source": [
    "<h1>Questions? Get in touch: <a href='http://twitter.com/ReneCNielsen' style='color:#497285; text-decoration: none' >@ReneCNielsen</a></h1>"
   ]
  },
  {
   "cell_type": "code",
   "execution_count": 2,
   "metadata": {
    "collapsed": false
   },
   "outputs": [
    {
     "data": {
      "text/html": [
       "<style>\n",
       "@import url(https://fonts.googleapis.com/css?family=Roboto+Slab:400,100);\n",
       "@import url(https://fonts.googleapis.com/css?family=Roboto+Mono:300);\n",
       "\n",
       "body{\n",
       "  font-family: \"Helvetica\", \"Helvetica Neue\", sans-serif;\n",
       "}\n",
       "\n",
       "#notebook {\n",
       "  font-size: 1.1em !important;\n",
       "  font-weight: 100;\n",
       "}\n",
       "\n",
       "a {\n",
       "\tcolor: #497285;\n",
       "}\n",
       "\n",
       "h1, h2, h3, h4, h5 {\n",
       "  font-family: \"Roboto Slab\", sans-serif;\n",
       "  font-weight: 100 !important;\n",
       "}\n",
       "\n",
       ".CodeMirror{\n",
       "  font-family: \"Roboto Mono\", monospace;\n",
       "  font-weight: 300;\n",
       "}\n",
       "\n",
       "div.prompt{\n",
       "  font-family: \"Roboto Mono\", monospace;\n",
       "  font-weight: 300;\n",
       "}\n",
       "\n",
       ".renderjson a              { text-decoration: none; }\n",
       ".renderjson .disclosure    { color: crimson;\n",
       "                             font-size: 150%; }\n",
       ".renderjson .syntax        { color: grey; }\n",
       ".renderjson .string        { color: black; }\n",
       ".renderjson .number        { color: #0CCA98; }\n",
       ".renderjson .boolean       { color: #5E366A; }\n",
       ".renderjson .key           { color: #497285; }\n",
       ".renderjson .keyword       { color: #2B4450; }\n",
       ".renderjson .object.syntax { color: #3FBAC2; }\n",
       ".renderjson .array.syntax  { color: #F78536; }\n",
       "\n",
       "</style>\n"
      ],
      "text/plain": [
       "<IPython.core.display.HTML object>"
      ]
     },
     "execution_count": 2,
     "metadata": {},
     "output_type": "execute_result"
    }
   ],
   "source": [
    "from IPython.core.display import HTML\n",
    "styles = open(\"css/custom.css\", \"r\").read()\n",
    "HTML(styles)"
   ]
  }
 ],
 "metadata": {
  "kernelspec": {
   "display_name": "Python 2",
   "language": "python",
   "name": "python2"
  },
  "language_info": {
   "codemirror_mode": {
    "name": "ipython",
    "version": 2
   },
   "file_extension": ".py",
   "mimetype": "text/x-python",
   "name": "python",
   "nbconvert_exporter": "python",
   "pygments_lexer": "ipython2",
   "version": "2.7.11"
  }
 },
 "nbformat": 4,
 "nbformat_minor": 0
}
