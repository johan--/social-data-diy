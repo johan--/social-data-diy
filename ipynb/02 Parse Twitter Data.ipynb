{
 "cells": [
  {
   "cell_type": "markdown",
   "metadata": {},
   "source": [
    "# Parse Twitter Data"
   ]
  },
  {
   "cell_type": "markdown",
   "metadata": {},
   "source": [
    "1. Import retrieved tweets (from JSON file, pickle or similar)\n",
    "2. Read in individual tweets\n",
    "5. Create TSV file (and drop unwanted data)"
   ]
  },
  {
   "cell_type": "markdown",
   "metadata": {},
   "source": [
    "# Jupyter Notebook Style\n",
    "Let's make this thing look nice."
   ]
  },
  {
   "cell_type": "code",
   "execution_count": 2,
   "metadata": {
    "collapsed": false
   },
   "outputs": [
    {
     "data": {
      "text/html": [
       "<style>\n",
       "@import url(https://fonts.googleapis.com/css?family=Roboto+Slab:400,100);\n",
       "@import url(https://fonts.googleapis.com/css?family=Roboto+Mono:300);\n",
       "\n",
       "body{\n",
       "  font-family: \"Helvetica\", \"Helvetica Neue\", sans-serif;\n",
       "}\n",
       "\n",
       "#notebook {\n",
       "  font-size: 1.1em !important;\n",
       "  font-weight: 100;\n",
       "}\n",
       "\n",
       "a {\n",
       "\tcolor: #497285;\n",
       "}\n",
       "\n",
       "h1, h2, h3, h4, h5 {\n",
       "  font-family: \"Roboto Slab\", sans-serif;\n",
       "  font-weight: 100 !important;\n",
       "  font-size: 1.2 em;\n",
       "}\n",
       "\n",
       ".CodeMirror{\n",
       "  font-family: \"Roboto Mono\", monospace;\n",
       "  font-weight: 300;\n",
       "}\n",
       "\n",
       "div.prompt{\n",
       "  font-family: \"Roboto Mono\", monospace;\n",
       "  font-weight: 300;\n",
       "}\n",
       "\n",
       ".renderjson a              { text-decoration: none; }\n",
       ".renderjson .disclosure    { color: crimson;\n",
       "                             font-size: 150%; }\n",
       ".renderjson .syntax        { color: grey; }\n",
       ".renderjson .string        { color: black; }\n",
       ".renderjson .number        { color: #0CCA98; }\n",
       ".renderjson .boolean       { color: #5E366A; }\n",
       ".renderjson .key           { color: #497285; }\n",
       ".renderjson .keyword       { color: #2B4450; }\n",
       ".renderjson .object.syntax { color: #3FBAC2; }\n",
       ".renderjson .array.syntax  { color: #F78536; }\n",
       "\n",
       "</style>\n"
      ],
      "text/plain": [
       "<IPython.core.display.HTML object>"
      ]
     },
     "execution_count": 2,
     "metadata": {},
     "output_type": "execute_result"
    }
   ],
   "source": [
    "from IPython.core.display import HTML\n",
    "styles = open(\"../css/custom.css\", \"r\").read()\n",
    "HTML(styles)"
   ]
  },
  {
   "cell_type": "markdown",
   "metadata": {},
   "source": [
    "## Get Data and Enrich It"
   ]
  },
  {
   "cell_type": "code",
   "execution_count": 3,
   "metadata": {
    "collapsed": false
   },
   "outputs": [],
   "source": [
    "import sys,re,json,os,csv\n",
    "import numpy as np\n",
    "import cPickle as pickle\n",
    "import uuid\n",
    "from IPython.display import display_javascript, display_html, display"
   ]
  },
  {
   "cell_type": "markdown",
   "metadata": {},
   "source": [
    "## Read JSON or Pickle File with Tweets\n",
    "- _Example pickle, Mac: /Users/[username]/Documents/twitter-analysis/data/raw/tweets.p_"
   ]
  },
  {
   "cell_type": "code",
   "execution_count": 4,
   "metadata": {
    "collapsed": true
   },
   "outputs": [],
   "source": [
    "picklepath = '/Users/rcn/Desktop/twitter-analysis/data/raw/tweets.p'"
   ]
  },
  {
   "cell_type": "code",
   "execution_count": 16,
   "metadata": {
    "collapsed": true
   },
   "outputs": [],
   "source": [
    "tweets = pickle.load( open(picklepath, \"rb\" ) )"
   ]
  },
  {
   "cell_type": "markdown",
   "metadata": {},
   "source": [
    "## Number of Tweets"
   ]
  },
  {
   "cell_type": "code",
   "execution_count": 17,
   "metadata": {
    "collapsed": false
   },
   "outputs": [
    {
     "name": "stdout",
     "output_type": "stream",
     "text": [
      "We have 6727 tweets in total\n"
     ]
    }
   ],
   "source": [
    "print('We have %d tweets in total' % len(tweets))"
   ]
  },
  {
   "cell_type": "markdown",
   "metadata": {},
   "source": [
    "## What Does a Tweet Look Like?\n",
    "Let's make JSON look nice (with thanks to [Renderjson](http://caldwell.github.io/renderjson/))"
   ]
  },
  {
   "cell_type": "code",
   "execution_count": 18,
   "metadata": {
    "collapsed": true
   },
   "outputs": [],
   "source": [
    "class RenderJSON(object):\n",
    "    def __init__(self, json_data):\n",
    "        if isinstance(json_data, dict):\n",
    "            self.json_str = json.dumps(json_data)\n",
    "        else:\n",
    "            self.json_str = json\n",
    "        self.uuid = str(uuid.uuid4())\n",
    "\n",
    "    def _ipython_display_(self):\n",
    "        display_html('<div id=\"{}\" style=\"height: 600px; width:100%;\"></div>'.format(self.uuid),\n",
    "            raw=True\n",
    "        )\n",
    "        display_javascript(\"\"\"\n",
    "        require([\"https://rawgit.com/caldwell/renderjson/master/renderjson.js\"], function() {\n",
    "          document.getElementById('%s').appendChild(renderjson(%s))\n",
    "        });\n",
    "        \"\"\" % (self.uuid, self.json_str), raw=True)"
   ]
  },
  {
   "cell_type": "code",
   "execution_count": 19,
   "metadata": {
    "collapsed": false
   },
   "outputs": [
    {
     "data": {
      "text/html": [
       "<div id=\"61451a08-730a-43de-a892-64386dea8c86\" style=\"height: 600px; width:100%;\"></div>"
      ]
     },
     "metadata": {},
     "output_type": "display_data"
    },
    {
     "data": {
      "application/javascript": [
       "\n",
       "        require([\"https://rawgit.com/caldwell/renderjson/master/renderjson.js\"], function() {\n",
       "          document.getElementById('61451a08-730a-43de-a892-64386dea8c86').appendChild(renderjson({\"contributors\": null, \"truncated\": false, \"text\": \"14-year-old Praveen dreams of protecting his country when he grows up! We wish him the best! :) https://t.co/goTea8FUxJ\", \"is_quote_status\": false, \"in_reply_to_status_id\": null, \"id\": 695206295205359616, \"favorite_count\": 20, \"source\": \"<a href=\\\"http://twitter.com\\\" rel=\\\"nofollow\\\">Twitter Web Client</a>\", \"retweeted\": false, \"coordinates\": null, \"entities\": {\"symbols\": [], \"user_mentions\": [], \"hashtags\": [], \"urls\": [], \"media\": [{\"expanded_url\": \"http://twitter.com/UNICEFIndia/status/695206295205359616/photo/1\", \"sizes\": {\"large\": {\"h\": 1024, \"w\": 1024, \"resize\": \"fit\"}, \"small\": {\"h\": 340, \"w\": 340, \"resize\": \"fit\"}, \"medium\": {\"h\": 600, \"w\": 600, \"resize\": \"fit\"}, \"thumb\": {\"h\": 150, \"w\": 150, \"resize\": \"crop\"}}, \"url\": \"https://t.co/goTea8FUxJ\", \"media_url_https\": \"https://pbs.twimg.com/media/CaXecJlUEAANxwe.jpg\", \"id_str\": \"695206292688736256\", \"indices\": [96, 119], \"media_url\": \"http://pbs.twimg.com/media/CaXecJlUEAANxwe.jpg\", \"type\": \"photo\", \"id\": 695206292688736256, \"display_url\": \"pic.twitter.com/goTea8FUxJ\"}]}, \"in_reply_to_screen_name\": null, \"in_reply_to_user_id\": null, \"retweet_count\": 17, \"id_str\": \"695206295205359616\", \"favorited\": false, \"user\": {\"follow_request_sent\": false, \"has_extended_profile\": false, \"profile_use_background_image\": true, \"id\": 66935683, \"verified\": false, \"profile_text_color\": \"333333\", \"profile_image_url_https\": \"https://pbs.twimg.com/profile_images/533233371153850368/AyUo9W6Y_normal.jpeg\", \"profile_sidebar_fill_color\": \"DDEEF6\", \"is_translator\": false, \"geo_enabled\": true, \"entities\": {\"url\": {\"urls\": [{\"url\": \"http://t.co/0tsy5h5Uvn\", \"indices\": [0, 22], \"expanded_url\": \"http://www.unicef.in\", \"display_url\": \"unicef.in\"}]}, \"description\": {\"urls\": []}}, \"followers_count\": 72165, \"protected\": false, \"location\": \"India\", \"default_profile_image\": false, \"id_str\": \"66935683\", \"lang\": \"en\", \"utc_offset\": 19800, \"statuses_count\": 5340, \"description\": \"UNICEF is the leading organisation advocating the rights of children in India.\", \"friends_count\": 3405, \"profile_link_color\": \"0084B4\", \"profile_image_url\": \"http://pbs.twimg.com/profile_images/533233371153850368/AyUo9W6Y_normal.jpeg\", \"notifications\": false, \"profile_background_image_url_https\": \"https://pbs.twimg.com/profile_background_images/378800000047719494/2e514f27283237548184a6973641c2ae.jpeg\", \"profile_background_color\": \"B2B2B4\", \"profile_banner_url\": \"https://pbs.twimg.com/profile_banners/66935683/1435642323\", \"profile_background_image_url\": \"http://pbs.twimg.com/profile_background_images/378800000047719494/2e514f27283237548184a6973641c2ae.jpeg\", \"name\": \"UNICEF India\", \"is_translation_enabled\": false, \"profile_background_tile\": true, \"favourites_count\": 901, \"screen_name\": \"UNICEFIndia\", \"url\": \"http://t.co/0tsy5h5Uvn\", \"created_at\": \"Wed Aug 19 07:02:28 +0000 2009\", \"contributors_enabled\": false, \"time_zone\": \"New Delhi\", \"profile_sidebar_border_color\": \"FFFFFF\", \"default_profile\": false, \"following\": false, \"listed_count\": 584}, \"geo\": null, \"in_reply_to_user_id_str\": null, \"possibly_sensitive\": false, \"lang\": \"en\", \"created_at\": \"Thu Feb 04 11:24:31 +0000 2016\", \"in_reply_to_status_id_str\": null, \"place\": null, \"extended_entities\": {\"media\": [{\"expanded_url\": \"http://twitter.com/UNICEFIndia/status/695206295205359616/photo/1\", \"sizes\": {\"large\": {\"h\": 1024, \"w\": 1024, \"resize\": \"fit\"}, \"small\": {\"h\": 340, \"w\": 340, \"resize\": \"fit\"}, \"medium\": {\"h\": 600, \"w\": 600, \"resize\": \"fit\"}, \"thumb\": {\"h\": 150, \"w\": 150, \"resize\": \"crop\"}}, \"url\": \"https://t.co/goTea8FUxJ\", \"media_url_https\": \"https://pbs.twimg.com/media/CaXecJlUEAANxwe.jpg\", \"id_str\": \"695206292688736256\", \"indices\": [96, 119], \"media_url\": \"http://pbs.twimg.com/media/CaXecJlUEAANxwe.jpg\", \"type\": \"photo\", \"id\": 695206292688736256, \"display_url\": \"pic.twitter.com/goTea8FUxJ\"}]}}))\n",
       "        });\n",
       "        "
      ]
     },
     "metadata": {},
     "output_type": "display_data"
    }
   ],
   "source": [
    "RenderJSON(tweets[0])"
   ]
  },
  {
   "cell_type": "markdown",
   "metadata": {},
   "source": [
    "## Get Rid of Line Breaks in Tweets"
   ]
  },
  {
   "cell_type": "code",
   "execution_count": 20,
   "metadata": {
    "collapsed": false
   },
   "outputs": [
    {
     "name": "stdout",
     "output_type": "stream",
     "text": [
      "Failed removing line breaks in 0 tweets\n"
     ]
    }
   ],
   "source": [
    "tweetLinebreakError=0\n",
    "\n",
    "for tweet in tweets:\n",
    "  try:\n",
    "    tweet['text'] = tweet['text'].replace('\\n', ' ').replace('\\r', '')\n",
    "  except:\n",
    "    tweetLinebreakError+=1\n",
    "    tweet['text'] = 'NaN'\n",
    "\n",
    "print('Failed removing line breaks in %d tweets' % tweetLinebreakError)"
   ]
  },
  {
   "cell_type": "markdown",
   "metadata": {},
   "source": [
    "# Save Data to Disk"
   ]
  },
  {
   "cell_type": "markdown",
   "metadata": {},
   "source": [
    "## Setup Local Paths\n",
    "Paths on your machine to the file you'd like write to.\n",
    "\n",
    "- _Example tsv, Mac: /Users/[username]/Documents/twitter-analysis/data/tweets.tsv_\n",
    "- _Example pickle, Mac: /Users/[username]/Documents/twitter-analysis/data/tweets.p_"
   ]
  },
  {
   "cell_type": "code",
   "execution_count": null,
   "metadata": {
    "collapsed": true
   },
   "outputs": [],
   "source": [
    "jsonpath = '' # Path to JSON file\n",
    "picklepath = '' # Path to pickle file\n",
    "tsvpath = '/Users/rcn/Desktop/twitter-analysis/data/tweets.tsv' # Path to tsv file"
   ]
  },
  {
   "cell_type": "markdown",
   "metadata": {},
   "source": [
    "### Save as JSON"
   ]
  },
  {
   "cell_type": "code",
   "execution_count": 11,
   "metadata": {
    "collapsed": false
   },
   "outputs": [],
   "source": [
    "with open(jsonpath, 'wb') as tweetsfile: # Get ready to write to output file\n",
    "    json.dump(tweets, tweetsfile) # Write tweets to json file"
   ]
  },
  {
   "cell_type": "markdown",
   "metadata": {},
   "source": [
    "### Save as Pickle file"
   ]
  },
  {
   "cell_type": "code",
   "execution_count": 12,
   "metadata": {
    "collapsed": false
   },
   "outputs": [],
   "source": [
    "with open(picklepath, \"wb\") as tweetsfile:\n",
    "    pickle.dump(tweets, tweetsfile) # Write tweets to pickle file"
   ]
  },
  {
   "cell_type": "markdown",
   "metadata": {},
   "source": [
    "### Save as TSV"
   ]
  },
  {
   "cell_type": "code",
   "execution_count": 22,
   "metadata": {
    "collapsed": false,
    "scrolled": true
   },
   "outputs": [],
   "source": [
    "header=['Tweet ID','Time','User','Username','Text','Language','User Location','Geo','Place','Likes','Retweets',\n",
    "        'Followers','Friends','Listed','Favourites','Hashtags','Mentions','Links','User Description']\n",
    "outFile=csv.writer(open(tsvpath,'wb'),delimiter='\\t')\n",
    "outFile.writerow(header)"
   ]
  },
  {
   "cell_type": "code",
   "execution_count": 23,
   "metadata": {
    "collapsed": false
   },
   "outputs": [
    {
     "name": "stdout",
     "output_type": "stream",
     "text": [
      "0 ID errors.\n",
      "0 date errors.\n",
      "0 name errors.\n",
      "0 screen name errors.\n",
      "0 text errors.\n",
      "0 language errors.\n",
      "0 user location errors.\n",
      "6727 tweet geo errors.\n",
      "6727 tweet place errors.\n",
      "0 likes errors.\n",
      "0 retweets errors.\n",
      "0 followers errors.\n",
      "0 friends errors.\n",
      "0 listed errors.\n",
      "0 favourites errors.\n",
      "5323 hashtag errors.\n",
      "3076 mention errors.\n",
      "2039 link errors.\n",
      "0 Description errors.\n"
     ]
    }
   ],
   "source": [
    "nIdError = 0\n",
    "nDateError = 0\n",
    "nNameError = 0\n",
    "nScreenNameError = 0\n",
    "nTextError = 0\n",
    "nLanguageError = 0\n",
    "nLocationError = 0\n",
    "nGeoError = 0\n",
    "nPlaceError = 0\n",
    "nLikesError = 0\n",
    "nRetweetsError = 0\n",
    "nFollowersError = 0\n",
    "nFriendsError = 0\n",
    "nListedError = 0\n",
    "nFavouritesError = 0\n",
    "nTagsError = 0\n",
    "nMentionsError = 0\n",
    "nLinksError = 0\n",
    "nDescriptionError = 0\n",
    "\n",
    "documents=[]\n",
    "\n",
    "for tweet in tweets:\n",
    "  outList=[]\n",
    "  try:\n",
    "    outList.append(tweet['id'])\n",
    "    documents.append(tweet['id'])\n",
    "  except:\n",
    "    outList.append('NaN')\n",
    "    documents.append('NaN')\n",
    "    nIdError+=1\n",
    "  try:\n",
    "    outList.append(tweet['created_at'])\n",
    "    documents.append(tweet['created_at'])\n",
    "  except:\n",
    "    outList.append('NaN')\n",
    "    documents.append('NaN')\n",
    "    nDateError+=1\n",
    "  try:\n",
    "    outList.append(tweet['user']['name'].encode('utf-8'))\n",
    "    documents.append(tweet['user']['name'].encode('utf-8'))\n",
    "  except:\n",
    "    nNameError+=1\n",
    "    outList.append('NaN')\n",
    "    documents.append('NaN')\n",
    "  try:\n",
    "    outList.append(tweet['user']['screen_name'])\n",
    "    documents.append(tweet['user']['screen_name'])\n",
    "  except:\n",
    "    nScreenNameError+=1\n",
    "    outList.append('NaN')\n",
    "    documents.append('NaN')\n",
    "  try:\n",
    "    outList.append(tweet['text'].encode('utf-8'))\n",
    "    documents.append(tweet['text'].encode('utf-8'))\n",
    "  except:\n",
    "    outList.append('NaN')\n",
    "    documents.append('NaN')\n",
    "    nTextError+=1\n",
    "  try:\n",
    "    outList.append(tweet['lang'])\n",
    "    documents.append(tweet['lang'])\n",
    "  except:\n",
    "    outList.append('NaN')\n",
    "    documents.append('NaN')\n",
    "    nLanguageError+=1\n",
    "  try:\n",
    "    outList.append(tweet['user']['location'].encode('utf-8'))\n",
    "    documents.append(tweet['user']['location'].encode('utf-8'))\n",
    "  except:\n",
    "    outList.append('NaN')\n",
    "    documents.append('NaN')\n",
    "    nLocationError+=1\n",
    "  try:\n",
    "    outList.append(tweet['geo'].encode('utf-8'))\n",
    "    documents.append(tweet['geo'].encode('utf-8'))\n",
    "  except:\n",
    "    outList.append('NaN')\n",
    "    documents.append('NaN')\n",
    "    nGeoError+=1\n",
    "  try:\n",
    "    outList.append(tweet['place'].encode('utf-8'))\n",
    "    documents.append(tweet['place'].encode('utf-8'))\n",
    "  except:\n",
    "    outList.append('NaN')\n",
    "    documents.append('NaN')\n",
    "    nPlaceError+=1\n",
    "  try:\n",
    "    outList.append(tweet['favorite_count'])\n",
    "    documents.append(tweet['favorite_count'])\n",
    "  except:\n",
    "    outList.append('NaN')\n",
    "    documents.append('NaN')\n",
    "    nLikesError+=1\n",
    "  try:\n",
    "    outList.append(tweet['retweet_count'])\n",
    "    documents.append(tweet['retweet_count'])\n",
    "  except:\n",
    "    outList.append('NaN')\n",
    "    documents.append('NaN')\n",
    "    nRetweetsError+=1\n",
    "  try:\n",
    "    outList.append(tweet['user']['followers_count'])\n",
    "    documents.append(tweet['user']['followers_count'])\n",
    "  except:\n",
    "    outList.append('NaN')\n",
    "    documents.append('NaN')\n",
    "    nFollowersError+=1\n",
    "  try:\n",
    "    outList.append(tweet['user']['friends_count'])\n",
    "    documents.append(tweet['user']['friends_count'])\n",
    "  except:\n",
    "    outList.append('NaN')\n",
    "    documents.append('NaN')\n",
    "    nFriendsError+=1\n",
    "  try:\n",
    "    outList.append(tweet['user']['listed_count'])\n",
    "    documents.append(tweet['user']['listed_count'])\n",
    "  except:\n",
    "    outList.append('NaN')\n",
    "    documents.append('NaN')\n",
    "    nListedError+=1\n",
    "  try:\n",
    "    outList.append(tweet['user']['favourites_count'])\n",
    "    documents.append(tweet['user']['favourites_count'])\n",
    "  except:\n",
    "    outList.append('NaN')\n",
    "    documents.append('NaN')\n",
    "    nFavouritesError+=1\n",
    "  try:\n",
    "    tweetTags=','.join([h.lower() for h in tweet['entities']['hashtags']])\n",
    "    outList.append(tweetTags.decode('utf-8'))\n",
    "    documents.append(tweetTags.decode('utf-8'))\n",
    "  except:\n",
    "    nTagsError+=1\n",
    "    outList.append('NaN')\n",
    "    documents.append('NaN')\n",
    "  try:\n",
    "    tweetMentions=','.join([m.lower() for m in tweet['entities']['user_mentions']])\n",
    "    outList.append(tweetMentions.decode('utf-8'))\n",
    "    documents.append(tweetMentions.decode('utf-8'))\n",
    "  except:\n",
    "    nMentionsError+=1\n",
    "    outList.append('NaN')\n",
    "    documents.append('NaN')\n",
    "  try:\n",
    "    tweetLinks=','.join([m.lower() for m in tweet['entities']['urls']])\n",
    "    outList.append(tweetLinks.decode('utf-8'))\n",
    "    documents.append(tweetLinks.decode('utf-8'))\n",
    "  except:\n",
    "    nLinksError+=1\n",
    "    outList.append('NaN')\n",
    "    documents.append('NaN')\n",
    "  try:\n",
    "    outList.append(tweet['user']['description'].encode('utf-8'))\n",
    "    documents.append(tweet['user']['description'].encode('utf-8'))\n",
    "  except:\n",
    "    nDescriptionError+=1\n",
    "    outList.append('NaN')\n",
    "    documents.append('NaN')\n",
    "    \n",
    "            \n",
    "  outFile.writerow(outList)\n",
    "\n",
    "print \"%d ID errors.\" % nIdError\n",
    "print \"%d date errors.\" % nDateError\n",
    "print \"%d name errors.\" % nNameError\n",
    "print \"%d screen name errors.\" % nScreenNameError\n",
    "print \"%d text errors.\" % nTextError\n",
    "print \"%d language errors.\" % nLanguageError\n",
    "print \"%d user location errors.\" % nLocationError\n",
    "print \"%d tweet geo errors.\" % nGeoError\n",
    "print \"%d tweet place errors.\" % nPlaceError\n",
    "print \"%d likes errors.\" % nLikesError\n",
    "print \"%d retweets errors.\" % nRetweetsError\n",
    "print \"%d followers errors.\" % nFollowersError\n",
    "print \"%d friends errors.\" % nFriendsError\n",
    "print \"%d listed errors.\" % nListedError\n",
    "print \"%d favourites errors.\" % nFavouritesError\n",
    "print \"%d hashtag errors.\" % nTagsError\n",
    "print \"%d mention errors.\" % nMentionsError\n",
    "print \"%d link errors.\" % nLinksError\n",
    "print \"%d Description errors.\" % nDescriptionError"
   ]
  },
  {
   "cell_type": "code",
   "execution_count": null,
   "metadata": {
    "collapsed": true
   },
   "outputs": [],
   "source": []
  }
 ],
 "metadata": {
  "kernelspec": {
   "display_name": "Python 2",
   "language": "python",
   "name": "python2"
  },
  "language_info": {
   "codemirror_mode": {
    "name": "ipython",
    "version": 2
   },
   "file_extension": ".py",
   "mimetype": "text/x-python",
   "name": "python",
   "nbconvert_exporter": "python",
   "pygments_lexer": "ipython2",
   "version": "2.7.10"
  }
 },
 "nbformat": 4,
 "nbformat_minor": 0
}
