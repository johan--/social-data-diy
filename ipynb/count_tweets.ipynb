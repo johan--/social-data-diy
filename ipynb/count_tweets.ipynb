{
 "cells": [
  {
   "cell_type": "code",
   "execution_count": 1,
   "metadata": {
    "collapsed": false
   },
   "outputs": [],
   "source": [
    "import pandas as pd\n",
    "import json,csv,re,os,sys,glob,dateutil,collections,operator,time,itertools,fuzzy,difflib,bisect\n",
    "import datetime as dt\n",
    "import matplotlib.pyplot as plt\n",
    "import matplotlib as mpl\n",
    "mpl.rcParams['axes.titlesize'] = 18\n",
    "mpl.rcParams['axes.labelsize'] = 14\n",
    "mpl.rcParams['legend.fontsize'] = 12\n",
    "%matplotlib inline"
   ]
  },
  {
   "cell_type": "code",
   "execution_count": 2,
   "metadata": {
    "collapsed": false
   },
   "outputs": [],
   "source": [
    "import sys\n",
    "sys.path.append('/mnt/home/ubuntu/projects/tools/')\n",
    "from gp_colours import *"
   ]
  },
  {
   "cell_type": "code",
   "execution_count": 3,
   "metadata": {
    "collapsed": false
   },
   "outputs": [],
   "source": [
    "plotColours=[gpBlue,gpDarkBlue,gpRed,'black']\n",
    "plotColours=['#e41a1c','#377eb8','#4daf4a','#984ea3','#ff7f00','#ffff53','#a65628','#f781bf','#9999f9']\n",
    "#plotColours.extend(plotColours)\n",
    "'''\n",
    "def colours():\n",
    "    n=0\n",
    "    for c in plotColours:\n",
    "        yield c\n",
    "    # Give me a new colour, one at a time\n",
    "coloursClass=colours()\n",
    "'''\n",
    "colors=itertools.cycle(plotColours)\n",
    "# We need a whole bunch of colours, so repeat them"
   ]
  },
  {
   "cell_type": "code",
   "execution_count": 4,
   "metadata": {
    "collapsed": false
   },
   "outputs": [],
   "source": [
    "topics=[u'Discrimination',u'Prevention',u'Campaign',u'Testing']"
   ]
  },
  {
   "cell_type": "code",
   "execution_count": 99,
   "metadata": {
    "collapsed": false
   },
   "outputs": [
    {
     "name": "stdout",
     "output_type": "stream",
     "text": [
      "../data/stream\n",
      "RT O governo podia parar de distribuir camisinha grátis e dar wi-fi já que a gente não transa mesmo\n",
      "Vinheta Luis Roberto: esse negro maravilhoso. RT @piroquio: Segundo o Roby Porto, o Nenê acabou de socar com vontade. Isso é uma bichona.\n",
      "RT @sliverfuck ai prefiro baixa ai prefiro alta ai prefiro gorda ai prefiro magra ai prefiro loira OW PORRA É TUDO MULHER SEU VIADINHO FDP\n",
      "Sim, é real! (Esse daí virou boiola!) RT @CBFudeu: Essa foto é real? http://t.co/tgbRDEHJFu\n",
      "Miga,não tenho nojo,tenho medo mesmo @azizizazizo RT Francisco,se decide.Cê é vagabunda ou cê tem nojo de sexo\n",
      "Utilidade pública!  RT \"@pavarini: Camisinha que mata vírus da Aids deve começar a ser vendida nos próximos meses http://t.co/SX5r6l1Te7\"\n",
      "Hum, boiola RT @HmNielson Minha mãe me deu luz e eu tô brilhando até hoje.\n",
      "Deve ser uma bichona RT @Betinhavaila: Meu vizinho ta gritando tanto..acho que ele deve ter enfiado um toco no cu\n",
      "BOIOLA RT @itsdirrty: se eu for pro xvideos dar play em algum porno da Gretchen eu vou rir ao invés de fazer as necessidades\n",
      "@bandmichael nem eu dando RT no coitado do francís você ver ele na tl, QUE ODIO DE VC BICHA\n",
      "Parem de dar RT , todos sabemos que o alisson era um baitola aidético\n",
      "Bichona!!! #UF RT @Mr_Testicles Altidore Pode fazer o tratamento aqui em casa. Trato esse Negão Bombom com comida na boca!!!\n",
      "RT @felipeneto luto contra o machismo sim inclusive amo mulheres (menos aquela feminazi vagabunda que discorda de mim)\n",
      "Bichona RT @VEJA: Assim como o livro, ‘A Culpa É das Estrelas’ é filme para ser sentido http://t.co/gh6leNMaNw\n",
      "Se continuar dando RT nesses aidéticos vou te dar unfollow @feehcaetano ;*\n",
      "Inveja do Enem RT @porramuz: Usando Camisinha No Enem Pq Ele Vai Me Foder tm\n",
      "RT Beber no bico é nojento'' mas de engolir gozo tu nao tem nojo ne vadia\n",
      "MACACO SIMÃO, TU QUER CHAMAR O CARA DE BICHONA, DIZ LOGO! RT \"@jose_simao: O goleiro ingles parece o Boy George!\"\n",
      "Ou comunista. RT @NaoSouHomofobco Adoro essa gente que acha que qualquer pessoa que luta contra a homofobia é, obrigatoriamente, petista.\n",
      "HUUUUUUUUUUM BOIOLA RT @FutebolZueiroPA Neuer me engravida\n",
      "Bichona. RT @tupagao: Feliz em ver o Neymar hoje. Adorei o cabelo novo dele!\n",
      "Simples: coisa de viado. RT \"@OscarFilho: Pelo amor de deusss, alguém me explica isso? http://t.co/ybh7GmY8sd\"\n",
      "Bichona ♥ RT @felipelisboa89: ♪ Olha a cabeleira do David! Será que ele é bi? Será que ele é bi?!?! ♫ http://t.co/TcrONq4ma9\n",
      "#RT \"@ISSOLHEM: ESSA VAGABUNDA DISSE QUE TEM NOJO DE QUEM TEM CANCER QUE PUTA DO RKRL https://t.co/r7taJekBBe\"\n",
      "essa coca é fanta RT @D_Romariio: SNEIJDER, ME CHAMA DE BOLA E ME TRATE COM CARINHO\n",
      "Cade o boiola do @Joaominerino que ainda não deu RT nos meus tweets?!\n",
      "BICHONA!!! RT @giuliano_reis  @talissu PODE ATÉ SER\n",
      "Bichona! RT @sepdeco: Howard belo goleiro!\n",
      "RT: \"@_tallyto vocês são uns boiolas dando RT assim\"\n",
      "Que bixona esse Aneir RT @Vinicius_Aneir: @karlabarcelos13 @rafaelnicacio09 Kid Bengala???? ADOROOOO\n",
      "Pelo menos sou um boiola com dinheiro RT @nugguetor: Vans é marca de boiola.\n",
      "#WTF RT @folha_com: Presos chilenos assistirão filmes gays para erradicar homofobia das prisões. http://t.co/lVyl5D8gdB”\n",
      "\"@vinnysacramento: \"Ainda bem que eu não tô lá\" RT @vanessatocha: http://t.co/7eFeCxXp9s\" Morde fronha do caralho!\n",
      "BICHONA RT @cainafeitosa: O bixo fala \"esses negros maravilhosos\" depois \"ai que delicia esse gol\"\n",
      "RT @g_uilhermemoura: Ultimamente ando muito boiola. Normal\n",
      "\t0 0 0 8478 8478\n"
     ]
    }
   ],
   "source": [
    "nTotal=0\n",
    "nErrors=0\n",
    "nTopicErrors=0\n",
    "nFollowerError=0\n",
    "nInRange=0\n",
    "tweetCounter=collections.defaultdict(int)\n",
    "# Count each tweet in one big bucket\n",
    "\n",
    "tweetTopicCounter={}\n",
    "for t in topics:\n",
    "    tweetTopicCounter[t]=collections.defaultdict(int)\n",
    "# Count each tweet by topic\n",
    "\n",
    "topFollowers=[(-1,-1) for i in range(10)]\n",
    "# This is a list, it holds 10 tweet id's with\n",
    "# most number of followers\n",
    "currentTopFollower=-1\n",
    "# Keep track of minimum value in top 10\n",
    "# Optimises loop\n",
    "\n",
    "topTopicFollowers={t:[(-1,-1) for i in range(10)] for t in topics}\n",
    "# Dictionary of lists\n",
    "\n",
    "currentTopTopicFollowers={t:-1 for t in topics}\n",
    "# Likewise keep a record of current largest\n",
    "# follower count\n",
    "\n",
    "nRetweet=0\n",
    "    \n",
    "for dir in glob.glob('../data/stream'):\n",
    "    print dir\n",
    "    for f in glob.glob(dir+'/Data*json'):\n",
    "        for line in open(f,'r').read().decode('utf-8').split('\\n'):\n",
    "            nTotal+=1\n",
    "            isRetweet=False\n",
    "            \n",
    "            tweet=json.loads(line)\n",
    "            # tweetTime=dt.datetime.strptime(tweet['interaction']['created_at'],'%a, %d %b %Y %H:%M:%S +0000')\n",
    "            # TODO try twitter.retweeted.created_at first, if not use interaction.created_at\n",
    "            # dayDiff=(tweetTime-dt.datetime.now()).days\n",
    "            # Tue, 20 May 2014 23:57:56 +0000\n",
    "\n",
    "            if True:\n",
    "            # Filter here by language/date\n",
    "                nInRange+=1\n",
    "                try:\n",
    "                    \n",
    "                    try:\n",
    "                        id=tweet['twitter']['retweeted']['id']  # TODO: check if this is a bug, should it not be \"retweet\" (instead of retweeted)?\n",
    "                        isRetweet=True\n",
    "                    except:\n",
    "                        id=tweet['twitter']['id']\n",
    "                    \n",
    "                    content=tweet['interaction']['content'].encode('utf-8').replace('\\n',' ')\n",
    "                    \n",
    "                    if re.search(r'\\bRT ',content):\n",
    "                        nRetweet+=1\n",
    "                        print content\n",
    "\n",
    "                    tweetCounter[(content,id)]+=1\n",
    "                except:\n",
    "                    nErrors+=1\n",
    "                ##########################################################\n",
    "                try:\n",
    "                    tweetTopics=tweet['interaction']['tag_tree']['topic']\n",
    "                    for topic in tweetTopics:\n",
    "                        tweetTopicCounter[topic][(content,id)]+=1\n",
    "                except:\n",
    "                    tweetTopicCounter[u'None'][(content,id)]+=1\n",
    "                    nTopicErrors+=1\n",
    "                # Count tweets by topic\n",
    "                ##########################################################\n",
    "                try:                \n",
    "                    try:\n",
    "                        nFollowers=tweet['twitter']['user']['followers_count']\n",
    "                    except:\n",
    "                        nFollowers=tweet['twitter']['retweet']['user']['followers_count']\n",
    "                    \n",
    "                    if nFollowers>currentTopFollower and not isRetweet:\n",
    "                        bisect.insort(topFollowers,(nFollowers,id))\n",
    "                        currentTopFollower=topFollowers[0][0]\n",
    "                        # Insert tweet to maintain order\n",
    "                        # if new number of followers is larger than lowest value\n",
    "                        if len(topFollowers)>10:topFollowers=topFollowers[-10:]\n",
    "                        # Allow lower values to drop out\n",
    "                    \n",
    "                    for topic in tweetTopics:\n",
    "                        if nFollowers>currentTopTopicFollowers[topic] and not isRetweet:\n",
    "#                            print 'INSERTING TO',topic\n",
    "#                            print nFollowers,currentTopTopicFollowers[topic]\n",
    "                            \n",
    "                            currentTopTopicFollowers[topic]=topTopicFollowers[topic][0][0]                            \n",
    "                            bisect.insort(topTopicFollowers[topic],(nFollowers,id))\n",
    "                            if len(topTopicFollowers[topic])>10:topTopicFollowers[topic]=topTopicFollowers[topic][-10:]\n",
    "#                            print topTopicFollowers[topic]\n",
    "#                            print ''\n",
    "                    \n",
    "                except:\n",
    "                    nFollowerError+=1\n",
    "                # Get tweets with top followers\n",
    "                ##########################################################\n",
    "\n",
    "                \n",
    "    print '\\t',nErrors,nTopicErrors,nFollowerError,nInRange,nTotal\n",
    "#print 'ERRORS',nErrors"
   ]
  },
  {
   "cell_type": "code",
   "execution_count": 98,
   "metadata": {
    "collapsed": false
   },
   "outputs": [
    {
     "data": {
      "text/plain": [
       "35"
      ]
     },
     "execution_count": 98,
     "metadata": {},
     "output_type": "execute_result"
    }
   ],
   "source": [
    "nRetweet"
   ]
  },
  {
   "cell_type": "code",
   "execution_count": 86,
   "metadata": {
    "collapsed": false
   },
   "outputs": [
    {
     "data": {
      "text/plain": [
       "{u'Campaign': [(848, u'476513453784719360'),\n",
       "  (908, u'474723884466720768'),\n",
       "  (923, u'475934449130287104'),\n",
       "  (931, u'476613970535919616'),\n",
       "  (1362, u'477223271826345984'),\n",
       "  (1372, u'480816460722221057'),\n",
       "  (4223, u'489811100498542592'),\n",
       "  (12998, u'476530533460373504'),\n",
       "  (52874, u'473456993143779328'),\n",
       "  (53377, u'483954067371089921')],\n",
       " u'Discrimination': [(53556, u'490974650177191936'),\n",
       "  (67665, u'491742130688503808'),\n",
       "  (69349, u'481270228723068929'),\n",
       "  (74711, u'494745901173571584'),\n",
       "  (110319, u'474886795629707264'),\n",
       "  (120436, u'478721213037289473'),\n",
       "  (120437, u'478620629420482561'),\n",
       "  (186672, u'488397461862752257'),\n",
       "  (187531, u'480198386663313408'),\n",
       "  (325198, u'485517184425541632')],\n",
       " u'Prevention': [(16258, u'481915742997450752'),\n",
       "  (19147, u'483050018459615233'),\n",
       "  (21648, u'487117860410769408'),\n",
       "  (22363, u'477175186949554176'),\n",
       "  (23776, u'493603772074307584'),\n",
       "  (36594, u'492063486319788032'),\n",
       "  (41679, u'476725183324372992'),\n",
       "  (46020, u'476558745255038976'),\n",
       "  (75979, u'492429904244662275'),\n",
       "  (188586, u'492454865642463233')],\n",
       " u'Testing': [(437, u'494554301797531649'),\n",
       "  (461, u'474895557727887360'),\n",
       "  (734, u'482408722661392385'),\n",
       "  (805, u'478579971624288256'),\n",
       "  (1132, u'483774700049690624'),\n",
       "  (1240, u'481112724647473152'),\n",
       "  (1688, u'478912531814445056'),\n",
       "  (1841, u'482267079757025281'),\n",
       "  (4405, u'487430764255248384'),\n",
       "  (5689, u'481765667239374848')]}"
      ]
     },
     "execution_count": 86,
     "metadata": {},
     "output_type": "execute_result"
    }
   ],
   "source": [
    "topTopicFollowers"
   ]
  },
  {
   "cell_type": "code",
   "execution_count": 53,
   "metadata": {
    "collapsed": false
   },
   "outputs": [
    {
     "data": {
      "text/plain": [
       "[('b', (3, 1)), ('a', (1, 2))]"
      ]
     },
     "execution_count": 53,
     "metadata": {},
     "output_type": "execute_result"
    }
   ],
   "source": [
    "test={'a':(1,2),'b':(3,1)}\n",
    "sorted(test.iteritems(),key=lambda x:x[1][-1])"
   ]
  },
  {
   "cell_type": "code",
   "execution_count": 87,
   "metadata": {
    "collapsed": false
   },
   "outputs": [
    {
     "data": {
      "text/plain": [
       "[(('boiola', u'481428336074584064'), 1),\n",
       " (('\"Ela al\\xc3\\xa9m de bandida \\xc3\\xa9 vagabunda\". Gente j\\xc3\\xa1 com \\xc3\\xb3dio da  novela.',\n",
       "   u'491755024574582784'),\n",
       "  1),\n",
       " (('@JordanHorn_ o viado t\\xc3\\xa1 online no face e no whats... N\\xc3\\xa3o fala comigo desde as 19:00... To com \\xc3\\xb3dio!',\n",
       "   u'483104871093391360'),\n",
       "  1),\n",
       " (('Ranked tinha que dar de jogar 5 amigos, s\\xc3\\xb3 pego nego aid\\xc3\\xa9tico',\n",
       "   u'493501087098634240'),\n",
       "  1),\n",
       " (('Se eu posso pegar camisinha de gra\\xc3\\xa7a no posto devia poder pegar cigarro na padaria.',\n",
       "   u'485603567970320384'),\n",
       "  1)]"
      ]
     },
     "execution_count": 87,
     "metadata": {},
     "output_type": "execute_result"
    }
   ],
   "source": [
    "test=tweetCounter.items()[0:5]\n",
    "test"
   ]
  },
  {
   "cell_type": "code",
   "execution_count": 91,
   "metadata": {
    "collapsed": false
   },
   "outputs": [
    {
     "name": "stdout",
     "output_type": "stream",
     "text": [
      "1 \tboiola 481428336074584064\n",
      "1 \t\"Ela além de bandida é vagabunda\". Gente já com ódio da  novela. 491755024574582784\n",
      "1 \t@JordanHorn_ o viado tá online no face e no whats... Não fala comigo desde as 19:00... To com ódio! 483104871093391360\n",
      "1 \tRanked tinha que dar de jogar 5 amigos, só pego nego aidético 493501087098634240\n",
      "1 \tSe eu posso pegar camisinha de graça no posto devia poder pegar cigarro na padaria. 485603567970320384\n",
      "1 \t@Thali_Beulke @pqqjay eu não discuto com a thali, arrebento ela mesmo, trate de comprar nossa camisinha 482026313969307648\n",
      "1 \ttenho nojo de sapatão 487459720434057217\n",
      "1 \tQ coisa de viado kkkkkkk 480134488186691584\n",
      "1 \tFalar ppk é coisa de viado cabaço 480706333105483778\n",
      "1 \t@olapessouinha sim I'AM BOIOLA o vinho n me fez bem kkkk 476182855786430464\n",
      "1 \t@SPachec0 pra trepa cmg tem que te disposição , agora to usando camisinha de limão 😂😂 487656698333888512\n",
      "1 \tthe boy with the thorn on his side (a bichona da festa) 494670161606373376\n",
      "1 \thomossexualismo eu sei q n é doença mas sdd tô começando a achar q pode ser 493168421543374848\n",
      "1 \tNao sei os homens mas eu nao vejo problema se a mina tem selulite ou estria na verdade acho q cara q liga pra isso eh muito boiola na moral 493987808760303616\n",
      "1 \t@omfglari QUEM MANDA NAO USAR CAMISINHA 494333636838453248\n",
      "1 \tRaspar as axilas não é coisa de viado. 476190283089334272\n",
      "1 \tque isso bichona 485852261932101633\n",
      "1 \ttenho nojo de vcs q tão fazendo piadinha com a virgindade do david, caralho se ele fosse putão e metia todo dia em uma vcs reclamam + 488775315318378496\n",
      "1 \t@seilacabello bicha ridícula dona do meu ódio 488816489206931456\n",
      "1 \tse vocês é esquisito assim \"\"\"normal\"\"\" imagina se usar a olla com efeito retardante 486317079772278784\n"
     ]
    }
   ],
   "source": [
    "sortedTweets=sorted(tweetCounter.iteritems(),key=lambda x:x[1])\n",
    "#sortedTweets.reverse()\n",
    "for t in sortedTweets[0:20]:\n",
    "    print t[1],'\\t',t[0][0],t[0][1]\n"
   ]
  },
  {
   "cell_type": "code",
   "execution_count": 61,
   "metadata": {
    "collapsed": false
   },
   "outputs": [
    {
     "name": "stdout",
     "output_type": "stream",
     "text": [
      "1 \t('OLHA O N\\xc3\\x8dVEL DAS MINHAS AMIZADES OAKAOKAOAKAOK BICHONA \\xe2\\x99\\xa1 http://t.co/p8eQnIC7dk', u'491421238137733120')\n",
      "1 \t('@soaress_fe vadia \\xc3\\xa9 tua av\\xc3\\xb3! Boiola! Nao coloco nem pra mim, que dira pra voc\\xc3\\xaa...', u'473814288469995521')\n",
      "1 \t('Q nojo dessas vadia q dizem ser minhas amigas, mds QUE NOJO', u'485438481712562176')\n",
      "1 \t('@shogoki_ o problema nem \\xc3\\xa9 a pessoa,  \\xc3\\xa9 a quest\\xc3\\xa3o \"eu usei camisinha, n\\xc3\\xa9?\" :P', u'489262817158365184')\n",
      "1 \t('NOSSA.. QUERO SOCAR O ALEM\\xc3\\x83O.. QUANDO EU VOLTAR P CASA ELE VAI SE VER.. AIN QUE \\xc3\\x93DIO, VIADO !', u'483101519831896064')\n",
      "1 \t('N\\xc3\\x83O TRAVA PORRA AI Q \\xc3\\x93DIO', u'485462740975505408')\n",
      "1 \t('viados miser\\xc3\\xa1veis de merda tomara que todos morram exceto ryan, jon e spencer', u'477910828277305344')\n",
      "1 \t('S\\xc3\\xa9rio, eu acho que nunca senti tanto nojo de uma pessoa, como to sentindo dessa vadia', u'481424925044273152')\n",
      "1 \t('rog\\xc3\\xa9rio eh um boiola', u'474741325557166080')\n",
      "1 \t('Juiz boiola CARALHO', u'486605005907329024')\n"
     ]
    }
   ],
   "source": [
    "sortedTweets=sorted(tweetCounter.iteritems(), key=operator.itemgetter(1))\n",
    "sortedTweets.reverse()\n",
    "outFile=csv.writer(open('../web/data/top-tweets/portuguese.all.top.retweet','w'),delimiter='\\t')\n",
    "\n",
    "for t in sortedTweets[0:10]:\n",
    "    print t[1],'\\t',t[0]\n",
    "    outFile.writerow([t[0][1]])\n",
    "# Write out top tweet ids for all tweets"
   ]
  },
  {
   "cell_type": "code",
   "execution_count": 62,
   "metadata": {
    "collapsed": false
   },
   "outputs": [
    {
     "name": "stdout",
     "output_type": "stream",
     "text": [
      "(325198, u'485517184425541632')\n",
      "(188586, u'492454865642463233')\n",
      "(187531, u'480198386663313408')\n",
      "(186672, u'488397461862752257')\n",
      "(120437, u'478620629420482561')\n",
      "(120436, u'478721213037289473')\n",
      "(110319, u'474886795629707264')\n",
      "(75979, u'492429904244662275')\n",
      "(74711, u'494745901173571584')\n",
      "(69349, u'481270228723068929')\n"
     ]
    }
   ],
   "source": [
    "outFile=csv.writer(open('../web/data/top-tweets/portuguese.all.top.followers','w'),delimiter='\\t')\n",
    "for t in reversed(topFollowers[0:10]):\n",
    "    outFile.writerow([t[1]])\n",
    "    print t\n",
    "# Write out top follower count tweet id's for all tweets"
   ]
  },
  {
   "cell_type": "code",
   "execution_count": 63,
   "metadata": {
    "collapsed": false
   },
   "outputs": [
    {
     "name": "stdout",
     "output_type": "stream",
     "text": [
      "9\n",
      "8\n",
      "7\n",
      "6\n",
      "5\n",
      "4\n",
      "3\n",
      "2\n",
      "1\n",
      "0\n"
     ]
    }
   ],
   "source": [
    "test=range(10)\n",
    "for t in reversed(test[0:10]):print t"
   ]
  },
  {
   "cell_type": "code",
   "execution_count": 64,
   "metadata": {
    "collapsed": false
   },
   "outputs": [
    {
     "name": "stdout",
     "output_type": "stream",
     "text": [
      "Prevention\n",
      "\t(188586, u'492454865642463233')\n",
      "\t(75979, u'492429904244662275')\n",
      "\t(46020, u'476558745255038976')\n",
      "\t(41679, u'476725183324372992')\n",
      "\t(36594, u'492063486319788032')\n",
      "\t(23776, u'493603772074307584')\n",
      "\t(22363, u'477175186949554176')\n",
      "\t(21648, u'487117860410769408')\n",
      "\t(19147, u'483050018459615233')\n",
      "\t(16258, u'481915742997450752')\n",
      "Campaign\n",
      "\t(53377, u'483954067371089921')\n",
      "\t(52874, u'473456993143779328')\n",
      "\t(12998, u'476530533460373504')\n",
      "\t(4223, u'489811100498542592')\n",
      "\t(1372, u'480816460722221057')\n",
      "\t(1362, u'477223271826345984')\n",
      "\t(931, u'476613970535919616')\n",
      "\t(923, u'475934449130287104')\n",
      "\t(908, u'474723884466720768')\n",
      "\t(848, u'476513453784719360')\n",
      "Testing\n",
      "\t(5689, u'481765667239374848')\n",
      "\t(4405, u'487430764255248384')\n",
      "\t(1841, u'482267079757025281')\n",
      "\t(1688, u'478912531814445056')\n",
      "\t(1240, u'481112724647473152')\n",
      "\t(1132, u'483774700049690624')\n",
      "\t(805, u'478579971624288256')\n",
      "\t(734, u'482408722661392385')\n",
      "\t(461, u'474895557727887360')\n",
      "\t(437, u'494554301797531649')\n",
      "Discrimination\n",
      "\t(325198, u'485517184425541632')\n",
      "\t(187531, u'480198386663313408')\n",
      "\t(186672, u'488397461862752257')\n",
      "\t(120437, u'478620629420482561')\n",
      "\t(120436, u'478721213037289473')\n",
      "\t(110319, u'474886795629707264')\n",
      "\t(74711, u'494745901173571584')\n",
      "\t(69349, u'481270228723068929')\n",
      "\t(67665, u'491742130688503808')\n",
      "\t(53556, u'490974650177191936')\n"
     ]
    }
   ],
   "source": [
    "for k,v in reversed(topTopicFollowers.items()[0:10]):\n",
    "    print k\n",
    "    if not k=='None':\n",
    "        fileName='../web/data/top-tweets/portuguese.'+k+'.top.followers'\n",
    "        outFile=csv.writer(open(fileName,'w'),delimiter='\\t')\n",
    "        for id in reversed(v):\n",
    "            outFile.writerow([id[1]])\n",
    "            print '\\t',id\n",
    "# Write out top follow count tweet ids for tweets, by topic\n",
    "outFile=None\n",
    "# Need to flush out file handle\n",
    "# Sometimes last file doesn't get written otherwise"
   ]
  },
  {
   "cell_type": "code",
   "execution_count": 65,
   "metadata": {
    "collapsed": false
   },
   "outputs": [
    {
     "name": "stdout",
     "output_type": "stream",
     "text": [
      "Discrimination\n",
      "\t1 OLHA O NÍVEL DAS MINHAS AMIZADES OAKAOKAOAKAOK BICHONA ♡ http://t.co/p8eQnIC7dk 491421238137733120\n",
      "line ../web/data/top-tweets/portuguese.Discrimination.top.retweet\n",
      "\t1 @soaress_fe vadia é tua avó! Boiola! Nao coloco nem pra mim, que dira pra você... 473814288469995521\n",
      "line ../web/data/top-tweets/portuguese.Discrimination.top.retweet\n",
      "\t1 Q nojo dessas vadia q dizem ser minhas amigas, mds QUE NOJO 485438481712562176\n",
      "line ../web/data/top-tweets/portuguese.Discrimination.top.retweet\n",
      "\t1 NOSSA.. QUERO SOCAR O ALEMÃO.. QUANDO EU VOLTAR P CASA ELE VAI SE VER.. AIN QUE ÓDIO, VIADO ! 483101519831896064\n",
      "line ../web/data/top-tweets/portuguese.Discrimination.top.retweet\n",
      "\t1 NÃO TRAVA PORRA AI Q ÓDIO 485462740975505408\n",
      "line ../web/data/top-tweets/portuguese.Discrimination.top.retweet\n",
      "\t1 viados miseráveis de merda tomara que todos morram exceto ryan, jon e spencer 477910828277305344\n",
      "line ../web/data/top-tweets/portuguese.Discrimination.top.retweet\n",
      "\t1 Sério, eu acho que nunca senti tanto nojo de uma pessoa, como to sentindo dessa vadia 481424925044273152\n",
      "line ../web/data/top-tweets/portuguese.Discrimination.top.retweet\n",
      "\t1 rogério eh um boiola 474741325557166080\n",
      "line ../web/data/top-tweets/portuguese.Discrimination.top.retweet\n",
      "\t1 Juiz boiola CARALHO 486605005907329024\n",
      "line ../web/data/top-tweets/portuguese.Discrimination.top.retweet\n",
      "\t1 hmmmm boiola 489943747434909697\n",
      "line ../web/data/top-tweets/portuguese.Discrimination.top.retweet\n",
      "Testing\n",
      "\t1 @annapaulaaa se joga na piscina da ap e quando sair tem que tomar pílula do dia seguinte e fazer teste de HIV 489468613997641729\n",
      "line ../web/data/top-tweets/portuguese.Testing.top.retweet\n",
      "\t1 Que tarde maravilhosa pra vc fazer um teste de HIV e dar positivo 481158897945051138\n",
      "line ../web/data/top-tweets/portuguese.Testing.top.retweet\n",
      "\t1 *viado indo fazer exame de hiv* - fica calmo, pensa positivo 478912531814445056\n",
      "line ../web/data/top-tweets/portuguese.Testing.top.retweet\n",
      "\t1 pelo menos posso fazer um exame de hiv sem que de positivo vc n 487430764255248384\n",
      "line ../web/data/top-tweets/portuguese.Testing.top.retweet\n",
      "\t1 Se tivessem hospitais aqui a Espanha poderia fazer um exame de AIDS depois desse estupro 477554572781961216\n",
      "line ../web/data/top-tweets/portuguese.Testing.top.retweet\n",
      "\t1 \"@PedroOtimista Hoje acontece o National #HIV Testing Day (NHTD), fazer o teste do... http://t.co/hYtE2vkf82\" Deixa acabar a #CopaDasCopas 482552463615344640\n",
      "line ../web/data/top-tweets/portuguese.Testing.top.retweet\n",
      "\t1 Minha colega funkeira: \"Vou fazer exame hoje\" Minha melhor amiga: \"exame de aids?\"  Eu: KKKKKKKKKKKKKKKKKKKKKKKKKKKKKKKKKKKKKKKKKKKKKKKKK KK 481765667239374848\n",
      "line ../web/data/top-tweets/portuguese.Testing.top.retweet\n",
      "\t1 Que tarde maravilhosa pra você fazer um teste de HIV e dar positivo. 481112724647473152\n",
      "line ../web/data/top-tweets/portuguese.Testing.top.retweet\n",
      "\t1 Eu lembro q quando eles forem transar eles vao parar no comeco e antes de transar vao fazer teste de hiv tipo???????? 483774700049690624\n",
      "line ../web/data/top-tweets/portuguese.Testing.top.retweet\n",
      "\t1 Se eu fosse o CR7 já ia fazer o teste de HIV agora no intervalo mesmo, vai que o Müller não usou camisinha ne ... 478579971624288256\n",
      "line ../web/data/top-tweets/portuguese.Testing.top.retweet\n",
      "Campaign\n",
      "\t1 Hoje, às 10h30, aqui na @topfmsp  #FiqueSabendo!! E neste mês de junho quem responde tudo o que rola… http://t.co/oM8QZC8Dbn 473456993143779328\n",
      "line ../web/data/top-tweets/portuguese.Campaign.top.retweet\n",
      "\t1 Presidenta @dilmabr firma balon #ProtegeLaMeta con @MichelSidibe @Lzloures @humanloveshuman @Jarbas_Barbosa http://t.co/rel0iKMTTP 476613970535919616\n",
      "line ../web/data/top-tweets/portuguese.Campaign.top.retweet\n",
      "\t1 Great moments, #UNAIDS Exec.Director Michel Sidibe,Brazil's# FabioMesquita,Djibril Diallo@ProtectTheGoal,Brazil http://t.co/2R1zWzDJ22 475457876300144640\n",
      "line ../web/data/top-tweets/portuguese.Campaign.top.retweet\n",
      "\t1 “@gbragatwit: @MichelSidibe Graffiti at the Liberdade community. #ProtejaoGol @ProtectTheGoal http://t.co/38oFYdi5FQ” 475934449130287104\n",
      "line ../web/data/top-tweets/portuguese.Campaign.top.retweet\n",
      "\t1 ❤️ #projetoProtejaoGol #unaids #manaus #amazonas #onu #fifafanfest @ Ponta Negra http://t.co/G89Sz3pS4n 480816460722221057\n",
      "line ../web/data/top-tweets/portuguese.Campaign.top.retweet\n",
      "\t1 A #CopaDosRefugiados está chegando,proteja o gol mais uma vez #ProtejaoGol #protectthegoal #unaids @MichelSidibe @Lzloures @DDiallo_UNAIDS 491438251542990850\n",
      "line ../web/data/top-tweets/portuguese.Campaign.top.retweet\n",
      "\t1 #DavidLuiz #unaids refuses to advertise for a famous beer's brand.He knows he is a kids hero and don't want to give a bad testmonial to them 485388959154208768\n",
      "line ../web/data/top-tweets/portuguese.Campaign.top.retweet\n",
      "\t1 David Luiz convida os fãs do futebol a compromete…: http://t.co/g4JMTl7dP4 #ProtejaOGol 💝✌ 489819605847007232\n",
      "line ../web/data/top-tweets/portuguese.Campaign.top.retweet\n",
      "\t1 #protejaogol é tendência em Brazil http://t.co/nfHVVtcLQH 489811100498542592\n",
      "line ../web/data/top-tweets/portuguese.Campaign.top.retweet\n",
      "\t1 #iphone6 #fiquesabendo Muitos rumores sobre o lançamento do novo iPhone circulam pela web, o que deixa… http://t.co/oHYlr1dEE7 491625392101277697\n",
      "line ../web/data/top-tweets/portuguese.Campaign.top.retweet\n",
      "Prevention\n",
      "\t1 Comprei akelas camisinha de caipirinha, descubro q eh a camisa do neymar, vo te o nome desta fera no meu pinto bixooo kkkkkkkk 475682475151474688\n",
      "line ../web/data/top-tweets/portuguese.Prevention.top.retweet\n",
      "\t1 Eu transei bêbado fiz  filho kkkkkkk 493611367791079425\n",
      "line ../web/data/top-tweets/portuguese.Prevention.top.retweet\n",
      "\t1 imagina transar com uma camisinha di neymar 481181302797123584\n",
      "line ../web/data/top-tweets/portuguese.Prevention.top.retweet\n",
      "\t1 Acho melhor eu comprar uma camisinha pro meu coração porque ultimamente só tão fodendo com meus sentimentos 481264386192207872\n",
      "line ../web/data/top-tweets/portuguese.Prevention.top.retweet\n",
      "\t1 Ai ontem fui no posto comprar bebida ne, dai tinha um cara lá de uns 40 anos comprando um pacote de camisinha de cada sabor, fiquei tipo uau 493582511659032576\n",
      "line ../web/data/top-tweets/portuguese.Prevention.top.retweet\n",
      "\t1 @shogoki_ o problema nem é a pessoa,  é a questão \"eu usei camisinha, né?\" :P 489262817158365184\n",
      "line ../web/data/top-tweets/portuguese.Prevention.top.retweet\n",
      "\t1 Sexo oral com camisinha((((((?)))))) 493227249588768768\n",
      "line ../web/data/top-tweets/portuguese.Prevention.top.retweet\n",
      "\t1 \"comente \":*\" e quem curtir quer ficar com você na festa da matriz\" tomara que vcs peguem uma pessoa que tenha aids e não usem camisinha 478718684677275649\n",
      "line ../web/data/top-tweets/portuguese.Prevention.top.retweet\n",
      "\t1 Pra fumar meu Marlboro tenho de comprar uma fita durex pra remendar todo ele 492329949987340288\n",
      "line ../web/data/top-tweets/portuguese.Prevention.top.retweet\n",
      "\t1 Acho melhor eu comprar uma camisinha pro meu coração porque ultimamente só tão fodendo com meus sentimentos 484500418958217216\n",
      "line ../web/data/top-tweets/portuguese.Prevention.top.retweet\n"
     ]
    }
   ],
   "source": [
    "for k,v in tweetTopicCounter.items():\n",
    "    if not k=='None':\n",
    "        sortedTweets=sorted(v.iteritems(),key=lambda x:x[1])\n",
    "        sortedTweets.reverse()\n",
    "        fileName='../web/data/top-tweets/portuguese.'+k+'.top.retweet'\n",
    "        outFile=csv.writer(open(fileName,'w'),delimiter='\\t')\n",
    "        \n",
    "#        print ''\n",
    "        print k\n",
    "#        print '------------'\n",
    "        \n",
    "        for t in sortedTweets[0:10]:\n",
    "            print '\\t',t[1],t[0][0],t[0][1]\n",
    "            outFile.writerow([t[0][1]])\n",
    "            print 'line',fileName\n",
    "# Write out top retweeted tweet id's by topic\n",
    "outFile=None"
   ]
  },
  {
   "cell_type": "code",
   "execution_count": 41,
   "metadata": {
    "collapsed": false
   },
   "outputs": [],
   "source": [
    "import pickle\n",
    "outFile=open('top_tweets.dat','w')\n",
    "pickle.dump(tweetCounter,outFile)\n",
    "pickle.dump(tweetTopicCounter,outFile)\n",
    "outFile.close()"
   ]
  },
  {
   "cell_type": "code",
   "execution_count": 42,
   "metadata": {
    "collapsed": false
   },
   "outputs": [],
   "source": [
    "topTweets=sortedTweets[0:20]\n",
    "#topTweets=[(re.sub(r'http:\\/\\/[a-zA-Z0-9\\.\\/]+','',t[0]),t[1]) for t in topTweets]"
   ]
  },
  {
   "cell_type": "code",
   "execution_count": 17,
   "metadata": {
    "collapsed": false
   },
   "outputs": [],
   "source": [
    "def filterUrl(t):\n",
    "    return (re.sub(r'http:\\/\\/[a-zA-Z0-9\\.\\/]+','',t))\n",
    "# Strip URLs from tweets so not included in similarity calculation"
   ]
  },
  {
   "cell_type": "code",
   "execution_count": 18,
   "metadata": {
    "collapsed": false
   },
   "outputs": [
    {
     "ename": "TypeError",
     "evalue": "expected string or buffer",
     "output_type": "error",
     "traceback": [
      "\u001b[1;31m---------------------------------------------------------------------------\u001b[0m\n\u001b[1;31mTypeError\u001b[0m                                 Traceback (most recent call last)",
      "\u001b[1;32m<ipython-input-18-d9caa7049c94>\u001b[0m in \u001b[0;36m<module>\u001b[1;34m()\u001b[0m\n\u001b[0;32m      1\u001b[0m \u001b[1;32mfor\u001b[0m \u001b[0mi\u001b[0m \u001b[1;32min\u001b[0m \u001b[0mitertools\u001b[0m\u001b[1;33m.\u001b[0m\u001b[0mcombinations\u001b[0m\u001b[1;33m(\u001b[0m\u001b[0mtopTweets\u001b[0m\u001b[1;33m,\u001b[0m\u001b[1;36m2\u001b[0m\u001b[1;33m)\u001b[0m\u001b[1;33m:\u001b[0m\u001b[1;33m\u001b[0m\u001b[0m\n\u001b[1;32m----> 2\u001b[1;33m     \u001b[0msimilarity\u001b[0m\u001b[1;33m=\u001b[0m\u001b[0mdifflib\u001b[0m\u001b[1;33m.\u001b[0m\u001b[0mSequenceMatcher\u001b[0m\u001b[1;33m(\u001b[0m\u001b[0mNone\u001b[0m\u001b[1;33m,\u001b[0m\u001b[0mfilterUrl\u001b[0m\u001b[1;33m(\u001b[0m\u001b[0mi\u001b[0m\u001b[1;33m[\u001b[0m\u001b[1;36m0\u001b[0m\u001b[1;33m]\u001b[0m\u001b[1;33m[\u001b[0m\u001b[1;36m0\u001b[0m\u001b[1;33m]\u001b[0m\u001b[1;33m)\u001b[0m\u001b[1;33m,\u001b[0m\u001b[0mfilterUrl\u001b[0m\u001b[1;33m(\u001b[0m\u001b[0mi\u001b[0m\u001b[1;33m[\u001b[0m\u001b[1;36m1\u001b[0m\u001b[1;33m]\u001b[0m\u001b[1;33m[\u001b[0m\u001b[1;36m0\u001b[0m\u001b[1;33m]\u001b[0m\u001b[1;33m)\u001b[0m\u001b[1;33m)\u001b[0m\u001b[1;33m.\u001b[0m\u001b[0mratio\u001b[0m\u001b[1;33m(\u001b[0m\u001b[1;33m)\u001b[0m\u001b[1;33m\u001b[0m\u001b[0m\n\u001b[0m\u001b[0;32m      3\u001b[0m     \u001b[1;32mif\u001b[0m \u001b[0msimilarity\u001b[0m\u001b[1;33m>\u001b[0m\u001b[1;36m0.7\u001b[0m\u001b[1;33m:\u001b[0m\u001b[1;32mprint\u001b[0m \u001b[0msimilarity\u001b[0m\u001b[1;33m,\u001b[0m\u001b[1;34m'\\n'\u001b[0m\u001b[1;33m,\u001b[0m\u001b[0mi\u001b[0m\u001b[1;33m[\u001b[0m\u001b[1;36m0\u001b[0m\u001b[1;33m]\u001b[0m\u001b[1;33m[\u001b[0m\u001b[1;36m0\u001b[0m\u001b[1;33m]\u001b[0m\u001b[1;33m,\u001b[0m\u001b[1;34m'\\n'\u001b[0m\u001b[1;33m,\u001b[0m\u001b[0mi\u001b[0m\u001b[1;33m[\u001b[0m\u001b[1;36m1\u001b[0m\u001b[1;33m]\u001b[0m\u001b[1;33m[\u001b[0m\u001b[1;36m0\u001b[0m\u001b[1;33m]\u001b[0m\u001b[1;33m,\u001b[0m\u001b[1;34m'\\n\\n'\u001b[0m\u001b[1;33m\u001b[0m\u001b[0m\n",
      "\u001b[1;32m<ipython-input-17-07da5616b690>\u001b[0m in \u001b[0;36mfilterUrl\u001b[1;34m(t)\u001b[0m\n\u001b[0;32m      1\u001b[0m \u001b[1;32mdef\u001b[0m \u001b[0mfilterUrl\u001b[0m\u001b[1;33m(\u001b[0m\u001b[0mt\u001b[0m\u001b[1;33m)\u001b[0m\u001b[1;33m:\u001b[0m\u001b[1;33m\u001b[0m\u001b[0m\n\u001b[1;32m----> 2\u001b[1;33m     \u001b[1;32mreturn\u001b[0m \u001b[1;33m(\u001b[0m\u001b[0mre\u001b[0m\u001b[1;33m.\u001b[0m\u001b[0msub\u001b[0m\u001b[1;33m(\u001b[0m\u001b[1;34mr'http:\\/\\/[a-zA-Z0-9\\.\\/]+'\u001b[0m\u001b[1;33m,\u001b[0m\u001b[1;34m''\u001b[0m\u001b[1;33m,\u001b[0m\u001b[0mt\u001b[0m\u001b[1;33m)\u001b[0m\u001b[1;33m)\u001b[0m\u001b[1;33m\u001b[0m\u001b[0m\n\u001b[0m\u001b[0;32m      3\u001b[0m \u001b[1;31m# Strip URLs from tweets so not included in similarity calculation\u001b[0m\u001b[1;33m\u001b[0m\u001b[1;33m\u001b[0m\u001b[0m\n",
      "\u001b[1;32m/home/ubuntu/anaconda/lib/python2.7/re.pyc\u001b[0m in \u001b[0;36msub\u001b[1;34m(pattern, repl, string, count, flags)\u001b[0m\n\u001b[0;32m    149\u001b[0m     \u001b[0ma\u001b[0m \u001b[0mcallable\u001b[0m\u001b[1;33m,\u001b[0m \u001b[0mit\u001b[0m\u001b[0;31m'\u001b[0m\u001b[0ms\u001b[0m \u001b[0mpassed\u001b[0m \u001b[0mthe\u001b[0m \u001b[0mmatch\u001b[0m \u001b[0mobject\u001b[0m \u001b[1;32mand\u001b[0m \u001b[0mmust\u001b[0m \u001b[1;32mreturn\u001b[0m\u001b[1;33m\u001b[0m\u001b[0m\n\u001b[0;32m    150\u001b[0m     a replacement string to be used.\"\"\"\n\u001b[1;32m--> 151\u001b[1;33m     \u001b[1;32mreturn\u001b[0m \u001b[0m_compile\u001b[0m\u001b[1;33m(\u001b[0m\u001b[0mpattern\u001b[0m\u001b[1;33m,\u001b[0m \u001b[0mflags\u001b[0m\u001b[1;33m)\u001b[0m\u001b[1;33m.\u001b[0m\u001b[0msub\u001b[0m\u001b[1;33m(\u001b[0m\u001b[0mrepl\u001b[0m\u001b[1;33m,\u001b[0m \u001b[0mstring\u001b[0m\u001b[1;33m,\u001b[0m \u001b[0mcount\u001b[0m\u001b[1;33m)\u001b[0m\u001b[1;33m\u001b[0m\u001b[0m\n\u001b[0m\u001b[0;32m    152\u001b[0m \u001b[1;33m\u001b[0m\u001b[0m\n\u001b[0;32m    153\u001b[0m \u001b[1;32mdef\u001b[0m \u001b[0msubn\u001b[0m\u001b[1;33m(\u001b[0m\u001b[0mpattern\u001b[0m\u001b[1;33m,\u001b[0m \u001b[0mrepl\u001b[0m\u001b[1;33m,\u001b[0m \u001b[0mstring\u001b[0m\u001b[1;33m,\u001b[0m \u001b[0mcount\u001b[0m\u001b[1;33m=\u001b[0m\u001b[1;36m0\u001b[0m\u001b[1;33m,\u001b[0m \u001b[0mflags\u001b[0m\u001b[1;33m=\u001b[0m\u001b[1;36m0\u001b[0m\u001b[1;33m)\u001b[0m\u001b[1;33m:\u001b[0m\u001b[1;33m\u001b[0m\u001b[0m\n",
      "\u001b[1;31mTypeError\u001b[0m: expected string or buffer"
     ]
    }
   ],
   "source": [
    "for i in itertools.combinations(topTweets,2):\n",
    "    similarity=difflib.SequenceMatcher(None,filterUrl(i[0][0]),filterUrl(i[1][0])).ratio()\n",
    "    if similarity>0.7:print similarity,'\\n',i[0][0],'\\n',i[1][0],'\\n\\n'"
   ]
  },
  {
   "cell_type": "code",
   "execution_count": 1,
   "metadata": {
    "collapsed": false
   },
   "outputs": [
    {
     "data": {
      "text/html": [
       "<style>\n",
       "@import url(https://fonts.googleapis.com/css?family=Roboto+Slab:400,100);\n",
       "@import url(https://fonts.googleapis.com/css?family=Roboto+Mono:300);\n",
       "\n",
       "body{\n",
       "  font-family: \"Helvetica\", \"Helvetica Neue\", sans-serif;\n",
       "}\n",
       "\n",
       "#notebook {\n",
       "  font-size: 1.1em !important;\n",
       "  font-weight: 100;\n",
       "}\n",
       "\n",
       "a {\n",
       "\tcolor: #138331;\n",
       "}\n",
       "\n",
       "h1, h2, h3, h4, h5 {\n",
       "  font-family: \"Roboto Slab\", sans-serif;\n",
       "  font-weight: 100 !important;\n",
       "}\n",
       "\n",
       ".CodeMirror{\n",
       "  font-family: \"Roboto Mono\", monospace;\n",
       "  font-weight: 300;\n",
       "}\n",
       "\n",
       "div.prompt{\n",
       "  font-family: \"Roboto Mono\", monospace;\n",
       "  font-weight: 300;\n",
       "}\n",
       "\n",
       "</style>\n"
      ],
      "text/plain": [
       "<IPython.core.display.HTML object>"
      ]
     },
     "execution_count": 1,
     "metadata": {},
     "output_type": "execute_result"
    }
   ],
   "source": [
    "from IPython.core.display import HTML\n",
    "styles = open(\"../css/custom.css\", \"r\").read()\n",
    "HTML(styles)"
   ]
  },
  {
   "cell_type": "code",
   "execution_count": null,
   "metadata": {
    "collapsed": true
   },
   "outputs": [],
   "source": []
  }
 ],
 "metadata": {
  "kernelspec": {
   "display_name": "Python 2",
   "language": "python",
   "name": "python2"
  },
  "language_info": {
   "codemirror_mode": {
    "name": "ipython",
    "version": 2
   },
   "file_extension": ".py",
   "mimetype": "text/x-python",
   "name": "python",
   "nbconvert_exporter": "python",
   "pygments_lexer": "ipython2",
   "version": "2.7.10"
  }
 },
 "nbformat": 4,
 "nbformat_minor": 0
}
